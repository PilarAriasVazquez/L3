{
  "cells": [
    {
      "cell_type": "markdown",
      "source": [
        "PILAR ARIAS, YEDRA MARTÍN, PATRICIA MEDIAVILLA, AMAYA SARASA\n",
        "\n",
        "<GRUPO 9>"
      ],
      "metadata": {
        "id": "mzFp6eT9JFiB"
      },
      "id": "mzFp6eT9JFiB"
    },
    {
      "cell_type": "markdown",
      "source": [
        "# Práctica 1"
      ],
      "metadata": {
        "id": "OWJVjzGGJHar"
      },
      "id": "OWJVjzGGJHar"
    },
    {
      "cell_type": "markdown",
      "source": [
        "## Introducción"
      ],
      "metadata": {
        "id": "lIHmyVg3JK3x"
      },
      "id": "lIHmyVg3JK3x"
    },
    {
      "cell_type": "markdown",
      "source": [
        "Esta es la primera práctica del segundo laboratorio. Dada una base de datos en formato .csv, se nos pide constestar a una serie de cuestiones. Para ello, lo primero que debemos hacer es cargar y leer la base de datos junto a las librerías necesarias: "
      ],
      "metadata": {
        "id": "TXJimiqGJPxo"
      },
      "id": "TXJimiqGJPxo"
    },
    {
      "cell_type": "code",
      "execution_count": 1,
      "id": "216c47e9",
      "metadata": {
        "id": "216c47e9",
        "outputId": "ea867f16-1450-4505-b282-6fbb024869f2",
        "colab": {
          "base_uri": "https://localhost:8080/",
          "height": 588
        }
      },
      "outputs": [
        {
          "output_type": "stream",
          "name": "stdout",
          "text": [
            "<class 'pandas.core.frame.DataFrame'>\n",
            "RangeIndex: 271116 entries, 0 to 271115\n",
            "Data columns (total 15 columns):\n",
            " #   Column  Non-Null Count   Dtype  \n",
            "---  ------  --------------   -----  \n",
            " 0   ID      271116 non-null  int64  \n",
            " 1   Name    271116 non-null  object \n",
            " 2   Sex     271116 non-null  object \n",
            " 3   Age     261642 non-null  float64\n",
            " 4   Height  210945 non-null  float64\n",
            " 5   Weight  208241 non-null  float64\n",
            " 6   Team    271116 non-null  object \n",
            " 7   NOC     271116 non-null  object \n",
            " 8   Games   271116 non-null  object \n",
            " 9   Year    271116 non-null  int64  \n",
            " 10  Season  271116 non-null  object \n",
            " 11  City    271116 non-null  object \n",
            " 12  Sport   271116 non-null  object \n",
            " 13  Event   271116 non-null  object \n",
            " 14  Medal   39783 non-null   object \n",
            "dtypes: float64(3), int64(2), object(10)\n",
            "memory usage: 31.0+ MB\n"
          ]
        },
        {
          "output_type": "execute_result",
          "data": {
            "text/plain": [
              "   ID                      Name Sex   Age  Height  Weight            Team  \\\n",
              "0   1                 A Dijiang   M  24.0   180.0    80.0           China   \n",
              "1   2                  A Lamusi   M  23.0   170.0    60.0           China   \n",
              "2   3       Gunnar Nielsen Aaby   M  24.0     NaN     NaN         Denmark   \n",
              "3   4      Edgar Lindenau Aabye   M  34.0     NaN     NaN  Denmark/Sweden   \n",
              "4   5  Christine Jacoba Aaftink   F  21.0   185.0    82.0     Netherlands   \n",
              "\n",
              "   NOC        Games  Year  Season       City          Sport  \\\n",
              "0  CHN  1992 Summer  1992  Summer  Barcelona     Basketball   \n",
              "1  CHN  2012 Summer  2012  Summer     London           Judo   \n",
              "2  DEN  1920 Summer  1920  Summer  Antwerpen       Football   \n",
              "3  DEN  1900 Summer  1900  Summer      Paris     Tug-Of-War   \n",
              "4  NED  1988 Winter  1988  Winter    Calgary  Speed Skating   \n",
              "\n",
              "                              Event Medal  \n",
              "0       Basketball Men's Basketball   NaN  \n",
              "1      Judo Men's Extra-Lightweight   NaN  \n",
              "2           Football Men's Football   NaN  \n",
              "3       Tug-Of-War Men's Tug-Of-War  Gold  \n",
              "4  Speed Skating Women's 500 metres   NaN  "
            ],
            "text/html": [
              "\n",
              "  <div id=\"df-2f9eec51-1782-4e8d-a802-b04f0c82102d\">\n",
              "    <div class=\"colab-df-container\">\n",
              "      <div>\n",
              "<style scoped>\n",
              "    .dataframe tbody tr th:only-of-type {\n",
              "        vertical-align: middle;\n",
              "    }\n",
              "\n",
              "    .dataframe tbody tr th {\n",
              "        vertical-align: top;\n",
              "    }\n",
              "\n",
              "    .dataframe thead th {\n",
              "        text-align: right;\n",
              "    }\n",
              "</style>\n",
              "<table border=\"1\" class=\"dataframe\">\n",
              "  <thead>\n",
              "    <tr style=\"text-align: right;\">\n",
              "      <th></th>\n",
              "      <th>ID</th>\n",
              "      <th>Name</th>\n",
              "      <th>Sex</th>\n",
              "      <th>Age</th>\n",
              "      <th>Height</th>\n",
              "      <th>Weight</th>\n",
              "      <th>Team</th>\n",
              "      <th>NOC</th>\n",
              "      <th>Games</th>\n",
              "      <th>Year</th>\n",
              "      <th>Season</th>\n",
              "      <th>City</th>\n",
              "      <th>Sport</th>\n",
              "      <th>Event</th>\n",
              "      <th>Medal</th>\n",
              "    </tr>\n",
              "  </thead>\n",
              "  <tbody>\n",
              "    <tr>\n",
              "      <th>0</th>\n",
              "      <td>1</td>\n",
              "      <td>A Dijiang</td>\n",
              "      <td>M</td>\n",
              "      <td>24.0</td>\n",
              "      <td>180.0</td>\n",
              "      <td>80.0</td>\n",
              "      <td>China</td>\n",
              "      <td>CHN</td>\n",
              "      <td>1992 Summer</td>\n",
              "      <td>1992</td>\n",
              "      <td>Summer</td>\n",
              "      <td>Barcelona</td>\n",
              "      <td>Basketball</td>\n",
              "      <td>Basketball Men's Basketball</td>\n",
              "      <td>NaN</td>\n",
              "    </tr>\n",
              "    <tr>\n",
              "      <th>1</th>\n",
              "      <td>2</td>\n",
              "      <td>A Lamusi</td>\n",
              "      <td>M</td>\n",
              "      <td>23.0</td>\n",
              "      <td>170.0</td>\n",
              "      <td>60.0</td>\n",
              "      <td>China</td>\n",
              "      <td>CHN</td>\n",
              "      <td>2012 Summer</td>\n",
              "      <td>2012</td>\n",
              "      <td>Summer</td>\n",
              "      <td>London</td>\n",
              "      <td>Judo</td>\n",
              "      <td>Judo Men's Extra-Lightweight</td>\n",
              "      <td>NaN</td>\n",
              "    </tr>\n",
              "    <tr>\n",
              "      <th>2</th>\n",
              "      <td>3</td>\n",
              "      <td>Gunnar Nielsen Aaby</td>\n",
              "      <td>M</td>\n",
              "      <td>24.0</td>\n",
              "      <td>NaN</td>\n",
              "      <td>NaN</td>\n",
              "      <td>Denmark</td>\n",
              "      <td>DEN</td>\n",
              "      <td>1920 Summer</td>\n",
              "      <td>1920</td>\n",
              "      <td>Summer</td>\n",
              "      <td>Antwerpen</td>\n",
              "      <td>Football</td>\n",
              "      <td>Football Men's Football</td>\n",
              "      <td>NaN</td>\n",
              "    </tr>\n",
              "    <tr>\n",
              "      <th>3</th>\n",
              "      <td>4</td>\n",
              "      <td>Edgar Lindenau Aabye</td>\n",
              "      <td>M</td>\n",
              "      <td>34.0</td>\n",
              "      <td>NaN</td>\n",
              "      <td>NaN</td>\n",
              "      <td>Denmark/Sweden</td>\n",
              "      <td>DEN</td>\n",
              "      <td>1900 Summer</td>\n",
              "      <td>1900</td>\n",
              "      <td>Summer</td>\n",
              "      <td>Paris</td>\n",
              "      <td>Tug-Of-War</td>\n",
              "      <td>Tug-Of-War Men's Tug-Of-War</td>\n",
              "      <td>Gold</td>\n",
              "    </tr>\n",
              "    <tr>\n",
              "      <th>4</th>\n",
              "      <td>5</td>\n",
              "      <td>Christine Jacoba Aaftink</td>\n",
              "      <td>F</td>\n",
              "      <td>21.0</td>\n",
              "      <td>185.0</td>\n",
              "      <td>82.0</td>\n",
              "      <td>Netherlands</td>\n",
              "      <td>NED</td>\n",
              "      <td>1988 Winter</td>\n",
              "      <td>1988</td>\n",
              "      <td>Winter</td>\n",
              "      <td>Calgary</td>\n",
              "      <td>Speed Skating</td>\n",
              "      <td>Speed Skating Women's 500 metres</td>\n",
              "      <td>NaN</td>\n",
              "    </tr>\n",
              "  </tbody>\n",
              "</table>\n",
              "</div>\n",
              "      <button class=\"colab-df-convert\" onclick=\"convertToInteractive('df-2f9eec51-1782-4e8d-a802-b04f0c82102d')\"\n",
              "              title=\"Convert this dataframe to an interactive table.\"\n",
              "              style=\"display:none;\">\n",
              "        \n",
              "  <svg xmlns=\"http://www.w3.org/2000/svg\" height=\"24px\"viewBox=\"0 0 24 24\"\n",
              "       width=\"24px\">\n",
              "    <path d=\"M0 0h24v24H0V0z\" fill=\"none\"/>\n",
              "    <path d=\"M18.56 5.44l.94 2.06.94-2.06 2.06-.94-2.06-.94-.94-2.06-.94 2.06-2.06.94zm-11 1L8.5 8.5l.94-2.06 2.06-.94-2.06-.94L8.5 2.5l-.94 2.06-2.06.94zm10 10l.94 2.06.94-2.06 2.06-.94-2.06-.94-.94-2.06-.94 2.06-2.06.94z\"/><path d=\"M17.41 7.96l-1.37-1.37c-.4-.4-.92-.59-1.43-.59-.52 0-1.04.2-1.43.59L10.3 9.45l-7.72 7.72c-.78.78-.78 2.05 0 2.83L4 21.41c.39.39.9.59 1.41.59.51 0 1.02-.2 1.41-.59l7.78-7.78 2.81-2.81c.8-.78.8-2.07 0-2.86zM5.41 20L4 18.59l7.72-7.72 1.47 1.35L5.41 20z\"/>\n",
              "  </svg>\n",
              "      </button>\n",
              "      \n",
              "  <style>\n",
              "    .colab-df-container {\n",
              "      display:flex;\n",
              "      flex-wrap:wrap;\n",
              "      gap: 12px;\n",
              "    }\n",
              "\n",
              "    .colab-df-convert {\n",
              "      background-color: #E8F0FE;\n",
              "      border: none;\n",
              "      border-radius: 50%;\n",
              "      cursor: pointer;\n",
              "      display: none;\n",
              "      fill: #1967D2;\n",
              "      height: 32px;\n",
              "      padding: 0 0 0 0;\n",
              "      width: 32px;\n",
              "    }\n",
              "\n",
              "    .colab-df-convert:hover {\n",
              "      background-color: #E2EBFA;\n",
              "      box-shadow: 0px 1px 2px rgba(60, 64, 67, 0.3), 0px 1px 3px 1px rgba(60, 64, 67, 0.15);\n",
              "      fill: #174EA6;\n",
              "    }\n",
              "\n",
              "    [theme=dark] .colab-df-convert {\n",
              "      background-color: #3B4455;\n",
              "      fill: #D2E3FC;\n",
              "    }\n",
              "\n",
              "    [theme=dark] .colab-df-convert:hover {\n",
              "      background-color: #434B5C;\n",
              "      box-shadow: 0px 1px 3px 1px rgba(0, 0, 0, 0.15);\n",
              "      filter: drop-shadow(0px 1px 2px rgba(0, 0, 0, 0.3));\n",
              "      fill: #FFFFFF;\n",
              "    }\n",
              "  </style>\n",
              "\n",
              "      <script>\n",
              "        const buttonEl =\n",
              "          document.querySelector('#df-2f9eec51-1782-4e8d-a802-b04f0c82102d button.colab-df-convert');\n",
              "        buttonEl.style.display =\n",
              "          google.colab.kernel.accessAllowed ? 'block' : 'none';\n",
              "\n",
              "        async function convertToInteractive(key) {\n",
              "          const element = document.querySelector('#df-2f9eec51-1782-4e8d-a802-b04f0c82102d');\n",
              "          const dataTable =\n",
              "            await google.colab.kernel.invokeFunction('convertToInteractive',\n",
              "                                                     [key], {});\n",
              "          if (!dataTable) return;\n",
              "\n",
              "          const docLinkHtml = 'Like what you see? Visit the ' +\n",
              "            '<a target=\"_blank\" href=https://colab.research.google.com/notebooks/data_table.ipynb>data table notebook</a>'\n",
              "            + ' to learn more about interactive tables.';\n",
              "          element.innerHTML = '';\n",
              "          dataTable['output_type'] = 'display_data';\n",
              "          await google.colab.output.renderOutput(dataTable, element);\n",
              "          const docLink = document.createElement('div');\n",
              "          docLink.innerHTML = docLinkHtml;\n",
              "          element.appendChild(docLink);\n",
              "        }\n",
              "      </script>\n",
              "    </div>\n",
              "  </div>\n",
              "  "
            ]
          },
          "metadata": {},
          "execution_count": 1
        }
      ],
      "source": [
        "#Importar librerías\n",
        "import numpy as np #numpy\n",
        "import pandas as pd #pandas\n",
        "import sklearn as sk #scikit-learn\n",
        "import matplotlib.pyplot as plt #gráfica Matplotlib\n",
        "from mlxtend.preprocessing import TransactionEncoder\n",
        "from mlxtend.frequent_patterns import apriori, association_rules\n",
        "from sklearn.model_selection import train_test_split\n",
        "from sklearn.neighbors import KNeighborsClassifier\n",
        "from sklearn.metrics import accuracy_score, mean_squared_error\n",
        "from sklearn.preprocessing import StandardScaler \n",
        "from math import sqrt\n",
        "import seaborn as sns\n",
        "from sklearn.metrics import confusion_matrix\n",
        "from prettytable import PrettyTable\n",
        "\n",
        "#Importamos la base de datos\n",
        "data = pd.read_csv('olimpiadas.csv',sep=',')\n",
        "data.info()\n",
        "data.head()"
      ]
    },
    {
      "cell_type": "markdown",
      "source": [
        "Gracias a la función data.info(), se observa que se está trabajando con un total de 271116 observaciones, mientras que con data.head() se visualiza la forma que tiene la base de datos y las primeras filas de esta. "
      ],
      "metadata": {
        "id": "I4NZOpdKLMix"
      },
      "id": "I4NZOpdKLMix"
    },
    {
      "cell_type": "markdown",
      "source": [
        "Según se ha estudiado, destacamos dos métodos para afrontar un proyecto, KDD (Knowledge Discovery in Databases) y CRIPS-DM (Cross-Industry Standard Process for Data Mining). En este caso, para enfrentarlo, se utilizará CRISP-DM, ya que consiste en un método menos acádemico, y se considera que es el más apropiado para esta práctica. "
      ],
      "metadata": {
        "id": "L4yVabzpMYQq"
      },
      "id": "L4yVabzpMYQq"
    },
    {
      "cell_type": "markdown",
      "source": [
        "Es un modelo de proceso de minería de datos que se utiliza en la industria. Es un marco de trabajo que define un proceso estandarizado para llevar a cabo proyectos de minería de datos, desde la definición del problema hasta la implementación y evaluación del resultado. Los seis pasos que componen Crisp-DM son los siguientes:\n",
        "\n",
        "Comprensión de los negocios y definición del problema: comprender la naturaleza del problema y los objetivos de negocio.\n",
        "\n",
        "Comprensión de los datos: recopilación inicial, descripción y exploración de datos.\n",
        "\n",
        "Preparación de los datos: Selección, limpieza, construcción, integración, formateo de los datos.\n",
        "\n",
        "Modelado: aplicar las técnicas de minería de datos a los dataset.\n",
        "\n",
        "Evaluación: determinar si los resultados son útiles a las necesidades del negocio.\n",
        "\n",
        "Despliegue: explotar utilidad de los modelos, integrándolos en las tareas de toma de decisiones de la organización -> Call to Action."
      ],
      "metadata": {
        "id": "KZRK2thPNGH6"
      },
      "id": "KZRK2thPNGH6"
    },
    {
      "cell_type": "markdown",
      "source": [
        "## Comprensión de los negocios y definición del problema"
      ],
      "metadata": {
        "id": "qMpVIS3SNKpl"
      },
      "id": "qMpVIS3SNKpl"
    },
    {
      "cell_type": "markdown",
      "source": [
        "Se quiere crear un modelo que permita saber si un atleta español va a tener medalla de oro, plata o bronce\n",
        "en los juegos olímpicos de Tokio que se celebrarán en 2020. Para ello, tendremos en cuenta el lugar que\n",
        "ocupan en un espacio n-dimensional donde n es el número de características de cada atleta.\n",
        "Para ello usaremos el dataset “Juegos olímpicos” que se encuentra en Moodle. Elige el clasificador que más se\n",
        "adapte de entre los vistos en clase y usa scikit-learn junto con las librerías que necesites para resolver las\n",
        "siguientes cuestiones.\n",
        "\n",
        "\n",
        "1) Haz todo el preprocesamiento para crear un set de entrenamiento y otro de validación qué permita\n",
        "clasificar atletas qué tengan sólo las características necesarias. Aparte de los totalmente necesarios,\n",
        "usaremos como atributos: Sexo, Edad, Altura y Peso. Explica qué has hecho y porqué. \n",
        "\n",
        "\n",
        "2) Prueba con distintas configuraciones de las dos métricas principales. La primera métrica corresponde\n",
        "al número de individuos que usarás para clasificar una nueva instancia y la segunda cómo vas a medir\n",
        "la cercanía de esa nueva instancia con el resto.\n",
        "\n",
        "\n",
        "3) Elige la mejor configuración entre las anteriores. Para ello dibuja una tabla ver cómo evoluciona la\n",
        "clasificación. Dibuja los resultados que se obtienen con ambas configuraciones elegidas cómo las\n",
        "mejores. \n",
        "\n",
        "\n",
        "4) Utiliza el clasificador para saber que medalla es más probable que ganen Bruno Hortelano (Athletycs),\n",
        "Carolina Marín (Badminton) o la selección femenina de baloncesto (Basketball).\n",
        "\n"
      ],
      "metadata": {
        "id": "694A24viNWSx"
      },
      "id": "694A24viNWSx"
    },
    {
      "cell_type": "markdown",
      "source": [
        "## Comprensión de los datos"
      ],
      "metadata": {
        "id": "uOiuObTPNgP0"
      },
      "id": "uOiuObTPNgP0"
    },
    {
      "cell_type": "markdown",
      "source": [
        "Según se ha visto anteriormente, la base de datos consta de 271116 observaciones, y 15 atributos, pero no deseamos trabajar con todos, ya que seguramente encontremos datos que no aportan información nueva, para ello se va a proceder a definir cada uno para así ver cuáles son los esenciales:\n",
        "- ID: identificación del atleta\n",
        "- Name: nombre del atleta\n",
        "- Sex: sexo del atleta\n",
        "- Age: edad del atleta \n",
        "- Height: altura del atleta\n",
        "- Weight: peso del atleta\n",
        "- NOC: National Olympic Committee (Comité Olímpico Nacional) \n",
        "- Games: el nombre de los Juegos Olímpicos en los que el atleta participó\n",
        "- Year: es el año en el que se celebraron los Juegos Olímpicos en los que el atleta participó\n",
        "- Season: indica si los Juegos Olímpicos se celebraron en verano o en invierno.\n",
        "- City: es el nombre de la ciudad en la que se celebraron los Juegos Olímpicos en los que el atleta participó.\n",
        "- Sport: es el deporte en el que participó el atleta.\n",
        "- Event: es el nombre específico del evento en el que participó el atleta\n",
        "- Medal: indica la medalla que ganó el atleta en el evento en el que participó.\n"
      ],
      "metadata": {
        "id": "Z1mSZXY1JlLI"
      },
      "id": "Z1mSZXY1JlLI"
    },
    {
      "cell_type": "markdown",
      "source": [
        "## Preparación de los datos"
      ],
      "metadata": {
        "id": "5dwk3CwLNtrw"
      },
      "id": "5dwk3CwLNtrw"
    },
    {
      "cell_type": "markdown",
      "source": [
        "Primero se va a proceder a seleccionar aquellos atributos que sí que son necesarios. Según criterio, eliminaremos los siguientes: \n",
        "- ID: Debido a la existencia de otro atributo llamado 'Name'. La elección de eliminar este procede de que en el último apartado de la práctica, se facilitan una serie de nombres, y se deberá predecir la obtención o no de medalla. \n",
        "- Year: Es un atributo irrelevante, ya que en 'Games', se recolecta información acerca de la estación del año en la que se juega, y el año, por lo que de esta manera ahorramos coste computacional. \n",
        "- Season: De la misma manera, 'Games' ya aporta información sobre la estación en la que participa el atleta. \n",
        "- City: Con saber el año y la estación en la que se jugó, se puede saber la ciudad, por lo que estos datos no aportan información útil y supone un coste computacional adicional. \n",
        "- Sport: Esta información ya  se encuentra en 'Event', en la que además se especifica la categoría en la que se juega. "
      ],
      "metadata": {
        "id": "mdEJ60IpPqGn"
      },
      "id": "mdEJ60IpPqGn"
    },
    {
      "cell_type": "markdown",
      "source": [
        "A continuación, creamos una nueva base de datos llamada 'df' en la que guardaremos la información seleccionada anteriormente: "
      ],
      "metadata": {
        "id": "4f-dv8V9R3IQ"
      },
      "id": "4f-dv8V9R3IQ"
    },
    {
      "cell_type": "code",
      "source": [
        "df=data[['Name', 'Sport', 'Sex', 'Age', 'Height', 'Weight', 'Games', 'NOC', 'Event', 'Medal']]"
      ],
      "metadata": {
        "id": "Tr0WG0koy3uv"
      },
      "id": "Tr0WG0koy3uv",
      "execution_count": 2,
      "outputs": []
    },
    {
      "cell_type": "code",
      "source": [
        "#NameNaN = df['Name'].isna().sum()\n",
        "#print(f\"La cantidad de NaN que existen en la variable Name es:{NameNaN}\")\n",
        "SexNaN = df['Sex'].isna().sum()\n",
        "print(f\"La cantidad de NaN que existen en la variable Sex es:{SexNaN}\")\n",
        "AgeNaN = df['Age'].isna().sum()\n",
        "print(f\"La cantidad de NaN que existen en la variable Age es:{AgeNaN}\")\n",
        "HeightNaN = df['Height'].isna().sum()\n",
        "print(f\"La cantidad de NaN que existen en la variable Height es:{HeightNaN}\")\n",
        "WeightNaN = df['Weight'].isna().sum()\n",
        "print(f\"La cantidad de NaN que existen en la variable Weight es:{WeightNaN}\")\n",
        "GamesNaN = df['Games'].isna().sum()\n",
        "print(f\"La cantidad de NaN que existen en la variable Games es:{GamesNaN}\")\n",
        "NOCNaN = df['NOC'].isna().sum()\n",
        "print(f\"La cantidad de NaN que existen en la variable NOC es:{NOCNaN}\")\n",
        "EventNaN = df['Event'].isna().sum()\n",
        "print(f\"La cantidad de NaN que existen en la variable Event es:{EventNaN}\")\n",
        "MedalNaN = df['Medal'].isna().sum()\n",
        "print(f\"La cantidad de NaN que existen en la variable Medal es:{MedalNaN}\")"
      ],
      "metadata": {
        "id": "YN4azzIRzep4",
        "outputId": "ae9e2b99-e658-4ae5-97dd-a4e3179b1cb8",
        "colab": {
          "base_uri": "https://localhost:8080/"
        }
      },
      "id": "YN4azzIRzep4",
      "execution_count": 3,
      "outputs": [
        {
          "output_type": "stream",
          "name": "stdout",
          "text": [
            "La cantidad de NaN que existen en la variable Sex es:0\n",
            "La cantidad de NaN que existen en la variable Age es:9474\n",
            "La cantidad de NaN que existen en la variable Height es:60171\n",
            "La cantidad de NaN que existen en la variable Weight es:62875\n",
            "La cantidad de NaN que existen en la variable Games es:0\n",
            "La cantidad de NaN que existen en la variable NOC es:0\n",
            "La cantidad de NaN que existen en la variable Event es:0\n",
            "La cantidad de NaN que existen en la variable Medal es:231333\n"
          ]
        }
      ]
    },
    {
      "cell_type": "markdown",
      "source": [
        "Se observa una gran cantidad de NaN's en las variables que indican la edad, la altura, el peso y la medalla ganada en cuestión.  \n",
        "Observemos cada uno en detalle para decidir qué hacer con cada atributo: \n",
        "- Age: Es información relevante, y como se está evitando eliminar registros, se rellena con la media de las edades. \n",
        "- Height: De la misma manera que se ha hecho con la edad, se rellena con la media de las alturas.\n",
        "- Weight: Igual que anteriormente, se rellena con la media de los pesos. \n",
        "- Medal: Es normal encontrar NaN, ya que esto indica todos aquellos atletas que no han obtenido una medalla, por lo que se rellena con 'NoMedal' para evitar futuros problemas. \n"
      ],
      "metadata": {
        "id": "WOFtpm0-S-ba"
      },
      "id": "WOFtpm0-S-ba"
    },
    {
      "cell_type": "code",
      "source": [
        "# Calcula la media de la columna 'Age'\n",
        "mediaA = df['Age'].mean()\n",
        "# Rellena los valores NaN con la media\n",
        "df['Age'].fillna(mediaA, inplace=True) \n",
        "# Calcula la media de la columna 'Height'\n",
        "mediaH = df['Height'].mean()\n",
        "# Rellena los valores NaN con la media\n",
        "df['Height'].fillna(mediaH, inplace=True) \n",
        "# Calcula la media de la columna 'Height'\n",
        "mediaW = df['Weight'].mean()\n",
        "# Rellena los valores NaN con la media\n",
        "df['Weight'].fillna(mediaW, inplace=True) \n",
        "# Rellena los valores NaN con 'NoMedal'\n",
        "df['Medal'].fillna('NpMedal', inplace=True) "
      ],
      "metadata": {
        "id": "s_nHCskm0MQa",
        "outputId": "e3c12ac9-7025-4b59-f5bf-28f5d63b5a40",
        "colab": {
          "base_uri": "https://localhost:8080/"
        }
      },
      "id": "s_nHCskm0MQa",
      "execution_count": 4,
      "outputs": [
        {
          "output_type": "stream",
          "name": "stderr",
          "text": [
            "<ipython-input-4-0cf37b900bc3>:4: SettingWithCopyWarning: \n",
            "A value is trying to be set on a copy of a slice from a DataFrame\n",
            "\n",
            "See the caveats in the documentation: https://pandas.pydata.org/pandas-docs/stable/user_guide/indexing.html#returning-a-view-versus-a-copy\n",
            "  df['Age'].fillna(mediaA, inplace=True)\n",
            "<ipython-input-4-0cf37b900bc3>:8: SettingWithCopyWarning: \n",
            "A value is trying to be set on a copy of a slice from a DataFrame\n",
            "\n",
            "See the caveats in the documentation: https://pandas.pydata.org/pandas-docs/stable/user_guide/indexing.html#returning-a-view-versus-a-copy\n",
            "  df['Height'].fillna(mediaH, inplace=True)\n",
            "<ipython-input-4-0cf37b900bc3>:12: SettingWithCopyWarning: \n",
            "A value is trying to be set on a copy of a slice from a DataFrame\n",
            "\n",
            "See the caveats in the documentation: https://pandas.pydata.org/pandas-docs/stable/user_guide/indexing.html#returning-a-view-versus-a-copy\n",
            "  df['Weight'].fillna(mediaW, inplace=True)\n",
            "<ipython-input-4-0cf37b900bc3>:14: SettingWithCopyWarning: \n",
            "A value is trying to be set on a copy of a slice from a DataFrame\n",
            "\n",
            "See the caveats in the documentation: https://pandas.pydata.org/pandas-docs/stable/user_guide/indexing.html#returning-a-view-versus-a-copy\n",
            "  df['Medal'].fillna('NpMedal', inplace=True)\n"
          ]
        }
      ]
    },
    {
      "cell_type": "markdown",
      "source": [
        "Comprobemos por tanto que la suma de los NaN de los atributos: edad, peso y altura es 0, es decir, se ha rellenado de manera correcta: "
      ],
      "metadata": {
        "id": "GMfQs0QDUNFh"
      },
      "id": "GMfQs0QDUNFh"
    },
    {
      "cell_type": "code",
      "source": [
        "df['Height'].isnull().sum() + df['Age'].isnull().sum() + df['Weight'].isnull().sum()"
      ],
      "metadata": {
        "id": "6rxCRe7Z03xd",
        "outputId": "50802e12-d12c-44c4-e38e-481f2c075235",
        "colab": {
          "base_uri": "https://localhost:8080/"
        }
      },
      "id": "6rxCRe7Z03xd",
      "execution_count": 5,
      "outputs": [
        {
          "output_type": "execute_result",
          "data": {
            "text/plain": [
              "0"
            ]
          },
          "metadata": {},
          "execution_count": 5
        }
      ]
    },
    {
      "cell_type": "markdown",
      "source": [
        "Efectivamente, la suma total de los NaN de esos tres atributos es 0, por lo que procedemos con lo siguiente. "
      ],
      "metadata": {
        "id": "K-SLsciuUaXA"
      },
      "id": "K-SLsciuUaXA"
    },
    {
      "cell_type": "markdown",
      "source": [
        "Se procede a representar mediante un boxplot las variables: Edad, Peso y Altura para así observar cuáles son los máximos y mínimos, y tener en cuenta la presencia de outliers para categorizar dichas variables. "
      ],
      "metadata": {
        "id": "JngBMeW1VCZN"
      },
      "id": "JngBMeW1VCZN"
    },
    {
      "cell_type": "markdown",
      "source": [
        "Categorizamos dichos atributos ya que el resto de variables encontradas son categóricas, de esta manera, más adelante, en la selección según distancia se utilizará un criterio visto en clase que es la distancia de Hamming, que es una métrica para distancias para valores categóricos. "
      ],
      "metadata": {
        "id": "TyLKux9JWpK8"
      },
      "id": "TyLKux9JWpK8"
    },
    {
      "cell_type": "code",
      "source": [
        "import matplotlib.pyplot as plt\n",
        "boxplot_age=df['Age']\n",
        "plt.boxplot(boxplot_age)\n",
        "plt.title('Boxplot age')\n",
        "plt.show()"
      ],
      "metadata": {
        "id": "RP0XKJHI7BRt",
        "outputId": "94830a53-0c75-47d0-b90e-905fb1bce476",
        "colab": {
          "base_uri": "https://localhost:8080/",
          "height": 452
        }
      },
      "id": "RP0XKJHI7BRt",
      "execution_count": 6,
      "outputs": [
        {
          "output_type": "display_data",
          "data": {
            "text/plain": [
              "<Figure size 640x480 with 1 Axes>"
            ],
            "image/png": "[encoded data removed]"
          },
          "metadata": {}
        }
      ]
    },
    {
      "cell_type": "code",
      "source": [
        "from matplotlib.cbook import boxplot_stats \n",
        "stats = boxplot_stats(boxplot_age)\n",
        "stats = stats[0] \n",
        "outliers = stats['fliers']\n",
        "min = stats['q1']-1.5*stats['iqr']\n",
        "max = stats['q3']+1.5*stats['iqr']\n",
        "print(min, max, len(outliers))"
      ],
      "metadata": {
        "id": "lMbj3iZB7w3y",
        "outputId": "a6ddf6b1-5659-41ab-9046-24bf1eaeb7b3",
        "colab": {
          "base_uri": "https://localhost:8080/"
        }
      },
      "id": "lMbj3iZB7w3y",
      "execution_count": 7,
      "outputs": [
        {
          "output_type": "stream",
          "name": "stdout",
          "text": [
            "13.0 37.0 11981\n"
          ]
        }
      ]
    },
    {
      "cell_type": "markdown",
      "source": [
        "Para las categorías: "
      ],
      "metadata": {
        "id": "Hnln3STs72jv"
      },
      "id": "Hnln3STs72jv"
    },
    {
      "cell_type": "code",
      "source": [
        "import matplotlib.pyplot as plt\n",
        "boxplot_weight=df['Weight']\n",
        "plt.boxplot(boxplot_weight)\n",
        "plt.title('Boxplot age')\n",
        "plt.show()"
      ],
      "metadata": {
        "id": "KANZ8Wdh7-Zp",
        "outputId": "d9f35ec8-e06e-4be5-9d15-2e17955d90a7",
        "colab": {
          "base_uri": "https://localhost:8080/",
          "height": 452
        }
      },
      "id": "KANZ8Wdh7-Zp",
      "execution_count": 8,
      "outputs": [
        {
          "output_type": "display_data",
          "data": {
            "text/plain": [
              "<Figure size 640x480 with 1 Axes>"
            ],
            "image/png": "[encoded data removed]"
          },
          "metadata": {}
        }
      ]
    },
    {
      "cell_type": "code",
      "source": [
        "from matplotlib.cbook import boxplot_stats \n",
        "stats = boxplot_stats(boxplot_weight)\n",
        "stats = stats[0] \n",
        "outliers = stats['fliers']\n",
        "min = stats['q1']-1.5*stats['iqr']\n",
        "max = stats['q3']+1.5*stats['iqr']\n",
        "print(min, max, len(outliers))"
      ],
      "metadata": {
        "id": "V2ZcQQae712c",
        "outputId": "87f77d7f-9c57-4493-afa4-9588fcbe81a0",
        "colab": {
          "base_uri": "https://localhost:8080/"
        }
      },
      "id": "V2ZcQQae712c",
      "execution_count": 9,
      "outputs": [
        {
          "output_type": "stream",
          "name": "stdout",
          "text": [
            "45.0 93.0 15574\n"
          ]
        }
      ]
    },
    {
      "cell_type": "code",
      "source": [
        "import matplotlib.pyplot as plt\n",
        "boxplot_height=df['Height']\n",
        "plt.boxplot(boxplot_height)\n",
        "plt.title('Boxplot height')\n",
        "plt.show()"
      ],
      "metadata": {
        "id": "V8znV7go_UtL",
        "outputId": "4c8cac88-6ee3-4d1c-ea18-9cc62978c005",
        "colab": {
          "base_uri": "https://localhost:8080/",
          "height": 452
        }
      },
      "id": "V8znV7go_UtL",
      "execution_count": 10,
      "outputs": [
        {
          "output_type": "display_data",
          "data": {
            "text/plain": [
              "<Figure size 640x480 with 1 Axes>"
            ],
            "image/png": "[encoded data removed]"
          },
          "metadata": {}
        }
      ]
    },
    {
      "cell_type": "code",
      "source": [
        "from matplotlib.cbook import boxplot_stats \n",
        "stats = boxplot_stats(boxplot_height)\n",
        "stats = stats[0] \n",
        "outliers = stats['fliers']\n",
        "min = stats['q1']-1.5*stats['iqr']\n",
        "max = stats['q3']+1.5*stats['iqr']\n",
        "print(min, max, len(outliers))"
      ],
      "metadata": {
        "id": "c5htT1w6_27D",
        "outputId": "a6082982-60c8-400c-eea6-07a5ee121d87",
        "colab": {
          "base_uri": "https://localhost:8080/"
        }
      },
      "id": "c5htT1w6_27D",
      "execution_count": 11,
      "outputs": [
        {
          "output_type": "stream",
          "name": "stdout",
          "text": [
            "155.0 195.0 10532\n"
          ]
        }
      ]
    },
    {
      "cell_type": "markdown",
      "source": [
        "## Ejercicio 2\n",
        "Prueba con distintas configuraciones de las dos métricas principales. La primera métrica corresponde al número de individuos que usarás para clasificar una nueva instancia y la segunda cómo vas a medir la cercanía de esa nueva instancia con el resto. ("
      ],
      "metadata": {
        "id": "-st7s7hKETBO"
      },
      "id": "-st7s7hKETBO"
    },
    {
      "cell_type": "markdown",
      "source": [
        "N de individuos: k=1, k=2 y k=3 \n",
        "métrica: cuando aplicas knn el código te deja poner distintos criterios como distintas distancias, \n",
        "- Primero criterio: selección de individuos es decir, si k=1, k=2, k=3  \n",
        "\n",
        "- Segundo criterio: ¿qué distancia se va a usar? Una va a ser distancia Hammiltoniana "
      ],
      "metadata": {
        "id": "Kx_PyullV3hV"
      },
      "id": "Kx_PyullV3hV"
    },
    {
      "cell_type": "code",
      "source": [
        "import numpy as np\n",
        "import pandas as pd\n",
        "from sklearn.neighbors import KNeighborsClassifier\n",
        "from sklearn.model_selection import train_test_split\n",
        "from sklearn.preprocessing import LabelEncoder\n",
        "from sklearn.preprocessing import StandardScaler\n"
      ],
      "metadata": {
        "id": "RM27agEEjr5q"
      },
      "id": "RM27agEEjr5q",
      "execution_count": 12,
      "outputs": []
    },
    {
      "cell_type": "markdown",
      "source": [
        "Importante: se quita games"
      ],
      "metadata": {
        "id": "xycjVIEeawYW"
      },
      "id": "xycjVIEeawYW"
    },
    {
      "cell_type": "code",
      "source": [
        "dataPruebaX=df[['Sex', 'Age', 'Sport', 'NOC', 'Event', 'Weight', 'Height']]\n",
        "dataPruebaY= df[['Medal']]\n",
        "\n",
        "\n",
        "le = LabelEncoder()\n",
        "\n",
        "for col in dataPruebaX.columns:\n",
        "    if dataPruebaX[col].dtype == 'object':\n",
        "        dataPruebaX[col] = le.fit_transform(dataPruebaX[col])\n",
        "\n",
        "for col in dataPruebaY.columns:\n",
        "    if dataPruebaY[col].dtype == 'object':\n",
        "        dataPruebaY[col] = le.fit_transform(dataPruebaY[col])\n",
        "\n",
        "# Dividir el conjunto de datos en un conjunto de entrenamiento y un conjunto de prueba\n",
        "X_train, X_test, y_train, y_test = train_test_split(dataPruebaX, dataPruebaY, test_size=0.2, random_state=42)\n",
        "\n",
        "# Definir distintas configuraciones de k y distancia\n",
        "k_values = [3, 5, 7]\n",
        "distance_metrics = ['euclidean', 'manhattan', 'minkowski']\n",
        "\n",
        "#Creación de tabla\n",
        "table = PrettyTable()\n",
        "table.field_names = [\"k\", \"metric\", \"accuracy\", \"error_medio\"]\n",
        "\n",
        "# Evaluar el desempeño del modelo para cada configuración de k y distancia\n",
        "for k in k_values:\n",
        "    for metric in distance_metrics:\n",
        "        # Entrenar el modelo\n",
        "        model = KNeighborsClassifier(n_neighbors=k, metric=metric)\n",
        "        model.fit(X_train, y_train)\n",
        "        \n",
        "        # Realizar la predicción en el conjunto de prueba\n",
        "        y_pred = model.predict(X_test)\n",
        "        \n",
        "        # Calcular la precisión del modelo\n",
        "        accuracy = accuracy_score(y_test, y_pred)\n",
        "\n",
        "        #Error medio \n",
        "        mse = mean_squared_error(y_test, y_pred)\n",
        "        rmse = sqrt(mse)        \n",
        "        \n",
        "        # Imprimir la configuración y la precisión del modelo\n",
        "        table.add_row([k, metric, accuracy, rmse])\n",
        "        #print('k={}, metric={}, accuracy={}, error_medio={}'.format(k, metric, accuracy, rmse))\n",
        "\n",
        "print(table)\n",
        "        "
      ],
      "metadata": {
        "id": "uFXhcDWXEnJC",
        "colab": {
          "base_uri": "https://localhost:8080/"
        },
        "outputId": "6e02da67-ad3e-4808-fc0f-8f78cd3ee812"
      },
      "id": "uFXhcDWXEnJC",
      "execution_count": 18,
      "outputs": [
        {
          "output_type": "stream",
          "name": "stderr",
          "text": [
            "<ipython-input-18-54ad72f750c8>:9: SettingWithCopyWarning: \n",
            "A value is trying to be set on a copy of a slice from a DataFrame.\n",
            "Try using .loc[row_indexer,col_indexer] = value instead\n",
            "\n",
            "See the caveats in the documentation: https://pandas.pydata.org/pandas-docs/stable/user_guide/indexing.html#returning-a-view-versus-a-copy\n",
            "  dataPruebaX[col] = le.fit_transform(dataPruebaX[col])\n",
            "<ipython-input-18-54ad72f750c8>:9: SettingWithCopyWarning: \n",
            "A value is trying to be set on a copy of a slice from a DataFrame.\n",
            "Try using .loc[row_indexer,col_indexer] = value instead\n",
            "\n",
            "See the caveats in the documentation: https://pandas.pydata.org/pandas-docs/stable/user_guide/indexing.html#returning-a-view-versus-a-copy\n",
            "  dataPruebaX[col] = le.fit_transform(dataPruebaX[col])\n",
            "<ipython-input-18-54ad72f750c8>:9: SettingWithCopyWarning: \n",
            "A value is trying to be set on a copy of a slice from a DataFrame.\n",
            "Try using .loc[row_indexer,col_indexer] = value instead\n",
            "\n",
            "See the caveats in the documentation: https://pandas.pydata.org/pandas-docs/stable/user_guide/indexing.html#returning-a-view-versus-a-copy\n",
            "  dataPruebaX[col] = le.fit_transform(dataPruebaX[col])\n",
            "<ipython-input-18-54ad72f750c8>:9: SettingWithCopyWarning: \n",
            "A value is trying to be set on a copy of a slice from a DataFrame.\n",
            "Try using .loc[row_indexer,col_indexer] = value instead\n",
            "\n",
            "See the caveats in the documentation: https://pandas.pydata.org/pandas-docs/stable/user_guide/indexing.html#returning-a-view-versus-a-copy\n",
            "  dataPruebaX[col] = le.fit_transform(dataPruebaX[col])\n",
            "<ipython-input-18-54ad72f750c8>:13: SettingWithCopyWarning: \n",
            "A value is trying to be set on a copy of a slice from a DataFrame.\n",
            "Try using .loc[row_indexer,col_indexer] = value instead\n",
            "\n",
            "See the caveats in the documentation: https://pandas.pydata.org/pandas-docs/stable/user_guide/indexing.html#returning-a-view-versus-a-copy\n",
            "  dataPruebaY[col] = le.fit_transform(dataPruebaY[col])\n",
            "/usr/local/lib/python3.9/dist-packages/sklearn/neighbors/_classification.py:215: DataConversionWarning: A column-vector y was passed when a 1d array was expected. Please change the shape of y to (n_samples,), for example using ravel().\n",
            "  return self._fit(X, y)\n",
            "/usr/local/lib/python3.9/dist-packages/sklearn/neighbors/_classification.py:215: DataConversionWarning: A column-vector y was passed when a 1d array was expected. Please change the shape of y to (n_samples,), for example using ravel().\n",
            "  return self._fit(X, y)\n",
            "/usr/local/lib/python3.9/dist-packages/sklearn/neighbors/_classification.py:215: DataConversionWarning: A column-vector y was passed when a 1d array was expected. Please change the shape of y to (n_samples,), for example using ravel().\n",
            "  return self._fit(X, y)\n",
            "/usr/local/lib/python3.9/dist-packages/sklearn/neighbors/_classification.py:215: DataConversionWarning: A column-vector y was passed when a 1d array was expected. Please change the shape of y to (n_samples,), for example using ravel().\n",
            "  return self._fit(X, y)\n",
            "/usr/local/lib/python3.9/dist-packages/sklearn/neighbors/_classification.py:215: DataConversionWarning: A column-vector y was passed when a 1d array was expected. Please change the shape of y to (n_samples,), for example using ravel().\n",
            "  return self._fit(X, y)\n",
            "/usr/local/lib/python3.9/dist-packages/sklearn/neighbors/_classification.py:215: DataConversionWarning: A column-vector y was passed when a 1d array was expected. Please change the shape of y to (n_samples,), for example using ravel().\n",
            "  return self._fit(X, y)\n",
            "/usr/local/lib/python3.9/dist-packages/sklearn/neighbors/_classification.py:215: DataConversionWarning: A column-vector y was passed when a 1d array was expected. Please change the shape of y to (n_samples,), for example using ravel().\n",
            "  return self._fit(X, y)\n",
            "/usr/local/lib/python3.9/dist-packages/sklearn/neighbors/_classification.py:215: DataConversionWarning: A column-vector y was passed when a 1d array was expected. Please change the shape of y to (n_samples,), for example using ravel().\n",
            "  return self._fit(X, y)\n",
            "/usr/local/lib/python3.9/dist-packages/sklearn/neighbors/_classification.py:215: DataConversionWarning: A column-vector y was passed when a 1d array was expected. Please change the shape of y to (n_samples,), for example using ravel().\n",
            "  return self._fit(X, y)\n"
          ]
        },
        {
          "output_type": "stream",
          "name": "stdout",
          "text": [
            "+---+-----------+--------------------+--------------------+\n",
            "| k |   metric  |      accuracy      |    error_medio     |\n",
            "+---+-----------+--------------------+--------------------+\n",
            "| 3 | euclidean | 0.8267925641782237 | 0.6681373323174172 |\n",
            "| 3 | manhattan | 0.8321407494836235 | 0.6687305149482096 |\n",
            "| 3 | minkowski | 0.8267925641782237 | 0.6681373323174172 |\n",
            "| 5 | euclidean | 0.8458800531130127 | 0.6049338550762465 |\n",
            "| 5 | manhattan | 0.8491627323694305 | 0.603499311762431  |\n",
            "| 5 | minkowski | 0.8458800531130127 | 0.6049338550762465 |\n",
            "| 7 | euclidean | 0.8524269696075538 | 0.5837090782149595 |\n",
            "| 7 | manhattan | 0.8563551195042786 | 0.5828554014527579 |\n",
            "| 7 | minkowski | 0.8524269696075538 | 0.5837090782149595 |\n",
            "+---+-----------+--------------------+--------------------+\n"
          ]
        }
      ]
    },
    {
      "cell_type": "code",
      "source": [
        "dataPruebaX=df[['Sex', 'Age', 'Sport', 'NOC', 'Event', 'Weight', 'Height']]\n",
        "dataPruebaY= df[['Medal']]\n",
        "\n",
        "\n",
        "for col in dataPruebaX.columns:\n",
        "    if dataPruebaX[col].dtype == 'object':\n",
        "        dataPruebaX = pd.concat([dataPruebaX, pd.get_dummies(dataPruebaX[col], prefix=col)], axis=1)\n",
        "        dataPruebaX.drop(col, axis=1, inplace=True)\n",
        "\n",
        "\n",
        "X_train, X_test, y_train, y_test = train_test_split(dataPruebaX, dataPruebaY, test_size=0.3, random_state=42)\n",
        "\n",
        "\n",
        "# Definir distintas configuraciones de k y distancia\n",
        "k_values = [3, 5, 7]\n",
        "distance_metrics = ['euclidean', 'manhattan', 'hamming']\n",
        "\n",
        "#Creación de tabla\n",
        "table = PrettyTable()\n",
        "table.field_names = [\"k\", \"metric\", \"accuracy\", \"error_medio\"]\n",
        "\n",
        "# Evaluar el desempeño del modelo para cada configuración de k y distancia\n",
        "for k in k_values:\n",
        "    for metric in distance_metrics:\n",
        "        # Entrenar el modelo\n",
        "        model = KNeighborsClassifier(n_neighbors=k, metric=metric)\n",
        "        model.fit(X_train, y_train)\n",
        "        \n",
        "        # Realizar la predicción en el conjunto de prueba\n",
        "        y_pred = model.predict(X_test)\n",
        "        \n",
        "        # Calcular la precisión del modelo\n",
        "        accuracy = accuracy_score(y_test, y_pred)\n",
        "\n",
        "        #Error medio \n",
        "        mse = mean_squared_error(y_test, y_pred)\n",
        "        rmse = sqrt(mse)        \n",
        "        \n",
        "        # Imprimir la configuración y la precisión del modelo\n",
        "        table.add_row([k, metric, accuracy, rmse])\n",
        "        #print('k={}, metric={}, accuracy={}, error_medio={}'.format(k, metric, accuracy, rmse))\n",
        "\n",
        "print(table)"
      ],
      "metadata": {
        "id": "MHiekI9xfGpb",
        "outputId": "ab5799ce-1a2d-4706-a202-3d66fff8b9f3",
        "colab": {
          "base_uri": "https://localhost:8080/"
        }
      },
      "id": "MHiekI9xfGpb",
      "execution_count": null,
      "outputs": [
        {
          "output_type": "stream",
          "name": "stderr",
          "text": [
            "/usr/local/lib/python3.9/dist-packages/sklearn/neighbors/_classification.py:215: DataConversionWarning: A column-vector y was passed when a 1d array was expected. Please change the shape of y to (n_samples,), for example using ravel().\n",
            "  return self._fit(X, y)\n"
          ]
        }
      ]
    },
    {
      "cell_type": "code",
      "source": [
        "# buscar el nombre 'Carolina Marín'\n",
        "nombre = \"Basketball Women's Basketball\"\n",
        "BASKET = df.loc[(df['Event'] == \"Basketball Women's Basketball\") & (df['Games']== '2008 Summer') & (df['NOC']=='ESP')]\n",
        "BASKET"
      ],
      "metadata": {
        "id": "YY3m7L3aULyL",
        "outputId": "370e9d4b-20c3-4c40-b687-bc3bcc9cfab9",
        "colab": {
          "base_uri": "https://localhost:8080/",
          "height": 425
        }
      },
      "id": "YY3m7L3aULyL",
      "execution_count": 253,
      "outputs": [
        {
          "output_type": "execute_result",
          "data": {
            "text/plain": [
              "                                  Name       Sport Sex   Age  Height  Weight  \\\n",
              "167                  Tamara Abalde Daz  Basketball   F  19.0   185.0    72.0   \n",
              "2243    Elisabeth \"Elisa\" Aguilar Lpez  Basketball   F  31.0   172.0    75.0   \n",
              "139184        Cindy Orqudea Lima Garca  Basketball   F  27.0   192.0    78.0   \n",
              "151071              Nuria Martnez Prat  Basketball   F  24.0   177.0    72.0   \n",
              "162204            Anna Montaana Gimeno  Basketball   F  27.0   187.0    85.0   \n",
              "170722          Laura Nicholls Gonzlez  Basketball   F  19.0   190.0    90.0   \n",
              "180518                 Laia Palau Alts  Basketball   F  28.0   181.0    69.0   \n",
              "182816        Mara Lucila Pascua Surez  Basketball   F  25.0   196.0    93.0   \n",
              "199473   Mara Revuelto Snchez Aguilera  Basketball   F  26.0   178.0    75.0   \n",
              "209471          Isabel Snchez Fernndez  Basketball   F  31.0   179.0    70.0   \n",
              "242042              Alba Torrens Salom  Basketball   F  18.0   195.0    80.0   \n",
              "247445       Amaya Valdemoro Madariaga  Basketball   F  31.0   181.0    78.0   \n",
              "\n",
              "              Games  NOC                          Event    Medal  \n",
              "167     2008 Summer  ESP  Basketball Women's Basketball  NpMedal  \n",
              "2243    2008 Summer  ESP  Basketball Women's Basketball  NpMedal  \n",
              "139184  2008 Summer  ESP  Basketball Women's Basketball  NpMedal  \n",
              "151071  2008 Summer  ESP  Basketball Women's Basketball  NpMedal  \n",
              "162204  2008 Summer  ESP  Basketball Women's Basketball  NpMedal  \n",
              "170722  2008 Summer  ESP  Basketball Women's Basketball  NpMedal  \n",
              "180518  2008 Summer  ESP  Basketball Women's Basketball  NpMedal  \n",
              "182816  2008 Summer  ESP  Basketball Women's Basketball  NpMedal  \n",
              "199473  2008 Summer  ESP  Basketball Women's Basketball  NpMedal  \n",
              "209471  2008 Summer  ESP  Basketball Women's Basketball  NpMedal  \n",
              "242042  2008 Summer  ESP  Basketball Women's Basketball  NpMedal  \n",
              "247445  2008 Summer  ESP  Basketball Women's Basketball  NpMedal  "
            ],
            "text/html": [
              "\n",
              "  <div id=\"df-cbfb1b2c-d1fb-4496-82c3-4d2ac83a1cd0\">\n",
              "    <div class=\"colab-df-container\">\n",
              "      <div>\n",
              "<style scoped>\n",
              "    .dataframe tbody tr th:only-of-type {\n",
              "        vertical-align: middle;\n",
              "    }\n",
              "\n",
              "    .dataframe tbody tr th {\n",
              "        vertical-align: top;\n",
              "    }\n",
              "\n",
              "    .dataframe thead th {\n",
              "        text-align: right;\n",
              "    }\n",
              "</style>\n",
              "<table border=\"1\" class=\"dataframe\">\n",
              "  <thead>\n",
              "    <tr style=\"text-align: right;\">\n",
              "      <th></th>\n",
              "      <th>Name</th>\n",
              "      <th>Sport</th>\n",
              "      <th>Sex</th>\n",
              "      <th>Age</th>\n",
              "      <th>Height</th>\n",
              "      <th>Weight</th>\n",
              "      <th>Games</th>\n",
              "      <th>NOC</th>\n",
              "      <th>Event</th>\n",
              "      <th>Medal</th>\n",
              "    </tr>\n",
              "  </thead>\n",
              "  <tbody>\n",
              "    <tr>\n",
              "      <th>167</th>\n",
              "      <td>Tamara Abalde Daz</td>\n",
              "      <td>Basketball</td>\n",
              "      <td>F</td>\n",
              "      <td>19.0</td>\n",
              "      <td>185.0</td>\n",
              "      <td>72.0</td>\n",
              "      <td>2008 Summer</td>\n",
              "      <td>ESP</td>\n",
              "      <td>Basketball Women's Basketball</td>\n",
              "      <td>NpMedal</td>\n",
              "    </tr>\n",
              "    <tr>\n",
              "      <th>2243</th>\n",
              "      <td>Elisabeth \"Elisa\" Aguilar Lpez</td>\n",
              "      <td>Basketball</td>\n",
              "      <td>F</td>\n",
              "      <td>31.0</td>\n",
              "      <td>172.0</td>\n",
              "      <td>75.0</td>\n",
              "      <td>2008 Summer</td>\n",
              "      <td>ESP</td>\n",
              "      <td>Basketball Women's Basketball</td>\n",
              "      <td>NpMedal</td>\n",
              "    </tr>\n",
              "    <tr>\n",
              "      <th>139184</th>\n",
              "      <td>Cindy Orqudea Lima Garca</td>\n",
              "      <td>Basketball</td>\n",
              "      <td>F</td>\n",
              "      <td>27.0</td>\n",
              "      <td>192.0</td>\n",
              "      <td>78.0</td>\n",
              "      <td>2008 Summer</td>\n",
              "      <td>ESP</td>\n",
              "      <td>Basketball Women's Basketball</td>\n",
              "      <td>NpMedal</td>\n",
              "    </tr>\n",
              "    <tr>\n",
              "      <th>151071</th>\n",
              "      <td>Nuria Martnez Prat</td>\n",
              "      <td>Basketball</td>\n",
              "      <td>F</td>\n",
              "      <td>24.0</td>\n",
              "      <td>177.0</td>\n",
              "      <td>72.0</td>\n",
              "      <td>2008 Summer</td>\n",
              "      <td>ESP</td>\n",
              "      <td>Basketball Women's Basketball</td>\n",
              "      <td>NpMedal</td>\n",
              "    </tr>\n",
              "    <tr>\n",
              "      <th>162204</th>\n",
              "      <td>Anna Montaana Gimeno</td>\n",
              "      <td>Basketball</td>\n",
              "      <td>F</td>\n",
              "      <td>27.0</td>\n",
              "      <td>187.0</td>\n",
              "      <td>85.0</td>\n",
              "      <td>2008 Summer</td>\n",
              "      <td>ESP</td>\n",
              "      <td>Basketball Women's Basketball</td>\n",
              "      <td>NpMedal</td>\n",
              "    </tr>\n",
              "    <tr>\n",
              "      <th>170722</th>\n",
              "      <td>Laura Nicholls Gonzlez</td>\n",
              "      <td>Basketball</td>\n",
              "      <td>F</td>\n",
              "      <td>19.0</td>\n",
              "      <td>190.0</td>\n",
              "      <td>90.0</td>\n",
              "      <td>2008 Summer</td>\n",
              "      <td>ESP</td>\n",
              "      <td>Basketball Women's Basketball</td>\n",
              "      <td>NpMedal</td>\n",
              "    </tr>\n",
              "    <tr>\n",
              "      <th>180518</th>\n",
              "      <td>Laia Palau Alts</td>\n",
              "      <td>Basketball</td>\n",
              "      <td>F</td>\n",
              "      <td>28.0</td>\n",
              "      <td>181.0</td>\n",
              "      <td>69.0</td>\n",
              "      <td>2008 Summer</td>\n",
              "      <td>ESP</td>\n",
              "      <td>Basketball Women's Basketball</td>\n",
              "      <td>NpMedal</td>\n",
              "    </tr>\n",
              "    <tr>\n",
              "      <th>182816</th>\n",
              "      <td>Mara Lucila Pascua Surez</td>\n",
              "      <td>Basketball</td>\n",
              "      <td>F</td>\n",
              "      <td>25.0</td>\n",
              "      <td>196.0</td>\n",
              "      <td>93.0</td>\n",
              "      <td>2008 Summer</td>\n",
              "      <td>ESP</td>\n",
              "      <td>Basketball Women's Basketball</td>\n",
              "      <td>NpMedal</td>\n",
              "    </tr>\n",
              "    <tr>\n",
              "      <th>199473</th>\n",
              "      <td>Mara Revuelto Snchez Aguilera</td>\n",
              "      <td>Basketball</td>\n",
              "      <td>F</td>\n",
              "      <td>26.0</td>\n",
              "      <td>178.0</td>\n",
              "      <td>75.0</td>\n",
              "      <td>2008 Summer</td>\n",
              "      <td>ESP</td>\n",
              "      <td>Basketball Women's Basketball</td>\n",
              "      <td>NpMedal</td>\n",
              "    </tr>\n",
              "    <tr>\n",
              "      <th>209471</th>\n",
              "      <td>Isabel Snchez Fernndez</td>\n",
              "      <td>Basketball</td>\n",
              "      <td>F</td>\n",
              "      <td>31.0</td>\n",
              "      <td>179.0</td>\n",
              "      <td>70.0</td>\n",
              "      <td>2008 Summer</td>\n",
              "      <td>ESP</td>\n",
              "      <td>Basketball Women's Basketball</td>\n",
              "      <td>NpMedal</td>\n",
              "    </tr>\n",
              "    <tr>\n",
              "      <th>242042</th>\n",
              "      <td>Alba Torrens Salom</td>\n",
              "      <td>Basketball</td>\n",
              "      <td>F</td>\n",
              "      <td>18.0</td>\n",
              "      <td>195.0</td>\n",
              "      <td>80.0</td>\n",
              "      <td>2008 Summer</td>\n",
              "      <td>ESP</td>\n",
              "      <td>Basketball Women's Basketball</td>\n",
              "      <td>NpMedal</td>\n",
              "    </tr>\n",
              "    <tr>\n",
              "      <th>247445</th>\n",
              "      <td>Amaya Valdemoro Madariaga</td>\n",
              "      <td>Basketball</td>\n",
              "      <td>F</td>\n",
              "      <td>31.0</td>\n",
              "      <td>181.0</td>\n",
              "      <td>78.0</td>\n",
              "      <td>2008 Summer</td>\n",
              "      <td>ESP</td>\n",
              "      <td>Basketball Women's Basketball</td>\n",
              "      <td>NpMedal</td>\n",
              "    </tr>\n",
              "  </tbody>\n",
              "</table>\n",
              "</div>\n",
              "      <button class=\"colab-df-convert\" onclick=\"convertToInteractive('df-cbfb1b2c-d1fb-4496-82c3-4d2ac83a1cd0')\"\n",
              "              title=\"Convert this dataframe to an interactive table.\"\n",
              "              style=\"display:none;\">\n",
              "        \n",
              "  <svg xmlns=\"http://www.w3.org/2000/svg\" height=\"24px\"viewBox=\"0 0 24 24\"\n",
              "       width=\"24px\">\n",
              "    <path d=\"M0 0h24v24H0V0z\" fill=\"none\"/>\n",
              "    <path d=\"M18.56 5.44l.94 2.06.94-2.06 2.06-.94-2.06-.94-.94-2.06-.94 2.06-2.06.94zm-11 1L8.5 8.5l.94-2.06 2.06-.94-2.06-.94L8.5 2.5l-.94 2.06-2.06.94zm10 10l.94 2.06.94-2.06 2.06-.94-2.06-.94-.94-2.06-.94 2.06-2.06.94z\"/><path d=\"M17.41 7.96l-1.37-1.37c-.4-.4-.92-.59-1.43-.59-.52 0-1.04.2-1.43.59L10.3 9.45l-7.72 7.72c-.78.78-.78 2.05 0 2.83L4 21.41c.39.39.9.59 1.41.59.51 0 1.02-.2 1.41-.59l7.78-7.78 2.81-2.81c.8-.78.8-2.07 0-2.86zM5.41 20L4 18.59l7.72-7.72 1.47 1.35L5.41 20z\"/>\n",
              "  </svg>\n",
              "      </button>\n",
              "      \n",
              "  <style>\n",
              "    .colab-df-container {\n",
              "      display:flex;\n",
              "      flex-wrap:wrap;\n",
              "      gap: 12px;\n",
              "    }\n",
              "\n",
              "    .colab-df-convert {\n",
              "      background-color: #E8F0FE;\n",
              "      border: none;\n",
              "      border-radius: 50%;\n",
              "      cursor: pointer;\n",
              "      display: none;\n",
              "      fill: #1967D2;\n",
              "      height: 32px;\n",
              "      padding: 0 0 0 0;\n",
              "      width: 32px;\n",
              "    }\n",
              "\n",
              "    .colab-df-convert:hover {\n",
              "      background-color: #E2EBFA;\n",
              "      box-shadow: 0px 1px 2px rgba(60, 64, 67, 0.3), 0px 1px 3px 1px rgba(60, 64, 67, 0.15);\n",
              "      fill: #174EA6;\n",
              "    }\n",
              "\n",
              "    [theme=dark] .colab-df-convert {\n",
              "      background-color: #3B4455;\n",
              "      fill: #D2E3FC;\n",
              "    }\n",
              "\n",
              "    [theme=dark] .colab-df-convert:hover {\n",
              "      background-color: #434B5C;\n",
              "      box-shadow: 0px 1px 3px 1px rgba(0, 0, 0, 0.15);\n",
              "      filter: drop-shadow(0px 1px 2px rgba(0, 0, 0, 0.3));\n",
              "      fill: #FFFFFF;\n",
              "    }\n",
              "  </style>\n",
              "\n",
              "      <script>\n",
              "        const buttonEl =\n",
              "          document.querySelector('#df-cbfb1b2c-d1fb-4496-82c3-4d2ac83a1cd0 button.colab-df-convert');\n",
              "        buttonEl.style.display =\n",
              "          google.colab.kernel.accessAllowed ? 'block' : 'none';\n",
              "\n",
              "        async function convertToInteractive(key) {\n",
              "          const element = document.querySelector('#df-cbfb1b2c-d1fb-4496-82c3-4d2ac83a1cd0');\n",
              "          const dataTable =\n",
              "            await google.colab.kernel.invokeFunction('convertToInteractive',\n",
              "                                                     [key], {});\n",
              "          if (!dataTable) return;\n",
              "\n",
              "          const docLinkHtml = 'Like what you see? Visit the ' +\n",
              "            '<a target=\"_blank\" href=https://colab.research.google.com/notebooks/data_table.ipynb>data table notebook</a>'\n",
              "            + ' to learn more about interactive tables.';\n",
              "          element.innerHTML = '';\n",
              "          dataTable['output_type'] = 'display_data';\n",
              "          await google.colab.output.renderOutput(dataTable, element);\n",
              "          const docLink = document.createElement('div');\n",
              "          docLink.innerHTML = docLinkHtml;\n",
              "          element.appendChild(docLink);\n",
              "        }\n",
              "      </script>\n",
              "    </div>\n",
              "  </div>\n",
              "  "
            ]
          },
          "metadata": {},
          "execution_count": 253
        }
      ]
    },
    {
      "cell_type": "code",
      "source": [
        "dataPruebaX=df[['Sex', 'Age', 'Sport', 'NOC', 'Event', 'Weight', 'Height']]\n",
        "dataPruebaY= df[['Medal']]\n",
        "\n",
        "\n",
        "#Carolina Marín\n",
        "new_row_X = {'Sex':\"F\", 'Age': 29.0, 'Sport': \"Badminton\", 'NOC': \"ESP\", 'Event': \"Badminton Women's Singles\", 'Weight': 65.000000, 'Height': 172.00000}\n",
        "dataPruebaX = dataPruebaX.append(new_row_X, ignore_index=True)\n",
        "\n",
        "#Bruno Hortelano\n",
        "#new_row_X = {'Sex':\"M\", 'Age': 31.0, 'Sport': \"Athletycs\", 'NOC': \"ESP\", 'Event': \"Athletics Men's 200 metres\", 'Weight': 72.000000, 'Height': 181.00000}\n",
        "#dataPruebaX = dataPruebaX.append(new_row_X, ignore_index=True)\n",
        "\n",
        "#new_row_Y = {'Medal': \"Bronze\"}\n",
        "#dataPruebaY = dataPruebaY.append(new_row_Y, ignore_index=True)\n",
        "\n",
        "le = LabelEncoder()\n",
        "\n",
        "for col in dataPruebaX.columns:\n",
        "    if dataPruebaX[col].dtype == 'object':\n",
        "        dataPruebaX[col] = le.fit_transform(dataPruebaX[col])\n",
        "\n",
        "for col in dataPruebaY.columns:\n",
        "    if dataPruebaY[col].dtype == 'object':\n",
        "        dataPruebaY[col] = le.fit_transform(dataPruebaY[col])\n",
        "\n",
        "#dataPruebaX= dataPruebaX- ultima fila\n",
        "#dataPruebaY=dataPruebaY- ultima fila\n",
        "\n",
        "\n",
        "#ultima filaX=dataPruebaX[ultima fila]\n",
        "dataPruebaX_except_last = dataPruebaX.iloc[:-1]\n",
        "\n",
        "\n",
        "\n",
        "ultima_fila = dataPruebaX.tail(1)\n",
        "\n",
        "\n",
        "X_train, X_test, y_train, y_test = train_test_split(dataPruebaX_except_last, dataPruebaY, test_size=0.3, random_state=42)\n",
        "\n",
        "model = KNeighborsClassifier(n_neighbors=7, metric=\"manhattan\")\n",
        "model.fit(dataPruebaX_except_last, dataPruebaY)\n",
        "\n",
        "#X_test = {'Name': ['Carolina Marín'], 'Sport': ['Badminton']}\n",
        "\n",
        "y_pred = model.predict(ultima_fila)\n",
        "print(y_pred)\n"
      ],
      "metadata": {
        "colab": {
          "base_uri": "https://localhost:8080/"
        },
        "id": "Ihi4Fafcy8Us",
        "outputId": "566560ca-9abd-4e0f-981e-8a7e0a234435"
      },
      "id": "Ihi4Fafcy8Us",
      "execution_count": 270,
      "outputs": [
        {
          "output_type": "stream",
          "name": "stderr",
          "text": [
            "<ipython-input-270-1beb6d06af25>:7: FutureWarning: The frame.append method is deprecated and will be removed from pandas in a future version. Use pandas.concat instead.\n",
            "  dataPruebaX = dataPruebaX.append(new_row_X, ignore_index=True)\n",
            "<ipython-input-270-1beb6d06af25>:24: SettingWithCopyWarning: \n",
            "A value is trying to be set on a copy of a slice from a DataFrame.\n",
            "Try using .loc[row_indexer,col_indexer] = value instead\n",
            "\n",
            "See the caveats in the documentation: https://pandas.pydata.org/pandas-docs/stable/user_guide/indexing.html#returning-a-view-versus-a-copy\n",
            "  dataPruebaY[col] = le.fit_transform(dataPruebaY[col])\n",
            "/usr/local/lib/python3.9/dist-packages/sklearn/neighbors/_classification.py:215: DataConversionWarning: A column-vector y was passed when a 1d array was expected. Please change the shape of y to (n_samples,), for example using ravel().\n",
            "  return self._fit(X, y)\n"
          ]
        },
        {
          "output_type": "stream",
          "name": "stdout",
          "text": [
            "[2]\n"
          ]
        }
      ]
    },
    {
      "cell_type": "code",
      "source": [
        "\n",
        "# Supongamos que y_true son las verdaderas etiquetas de clase y y_pred son las etiquetas predichas por el modelo\n",
        "cm = confusion_matrix(y_test, y_pred)\n",
        "\n",
        "# Visualizar la matriz de confusión como un gráfico\n",
        "sns.set()\n",
        "sns.heatmap(cm, annot=True, cmap=\"Blues\", fmt=\"d\")\n",
        "plt.title(\"Matriz de confusión\")\n",
        "plt.xlabel(\"Etiqueta predicha\")\n",
        "plt.ylabel(\"Etiqueta verdadera\")\n",
        "plt.show()"
      ],
      "metadata": {
        "colab": {
          "base_uri": "https://localhost:8080/",
          "height": 567
        },
        "id": "jFmHeZlXo_bU",
        "outputId": "b94252e8-aa8f-4f06-b530-14027c0994c9"
      },
      "id": "jFmHeZlXo_bU",
      "execution_count": 34,
      "outputs": [
        {
          "output_type": "stream",
          "name": "stdout",
          "text": [
            "Matriz de confusión:\n",
            "[[  144   193  3560   135]\n",
            " [  133   330  3397   142]\n",
            " [ 1176  1546 65694   991]\n",
            " [  112   219  3444   119]]\n"
          ]
        },
        {
          "output_type": "display_data",
          "data": {
            "text/plain": [
              "<Figure size 640x480 with 2 Axes>"
            ],
            "image/png": "[encoded data removed]"
          },
          "metadata": {}
        }
      ]
    },
    {
      "cell_type": "code",
      "source": [
        "from sklearn.decomposition import PCA\n",
        "import matplotlib.pyplot as plt\n",
        "import numpy as np\n",
        "from sklearn.neighbors import KNeighborsClassifier\n",
        "\n",
        "dataPruebaX=df[['Sex', 'Age', 'Sport', 'NOC', 'Event', 'Weight', 'Height']]\n",
        "dataPruebaY= df[['Medal']]\n",
        "\n",
        "\n",
        "\n",
        "le = LabelEncoder()\n",
        "\n",
        "for col in dataPruebaX.columns:\n",
        "    if dataPruebaX[col].dtype == 'object':\n",
        "        dataPruebaX[col] = le.fit_transform(dataPruebaX[col])\n",
        "\n",
        "for col in dataPruebaY.columns:\n",
        "    if dataPruebaY[col].dtype == 'object':\n",
        "        dataPruebaY[col] = le.fit_transform(dataPruebaY[col])\n",
        "\n",
        "# Ejecutar PCA para reducir a tres dimensiones\n",
        "pca = PCA(n_components=3)\n",
        "X_pca = pca.fit_transform(dataPruebaX)\n",
        "\n",
        "# Crear instancia de clasificador KNN\n",
        "model = KNeighborsClassifier(n_neighbors=7, metric=\"manhattan\")\n",
        "\n",
        "# Entrenar modelo con datos proyectados en 3D\n",
        "model.fit(X_pca, dataPruebaY)\n",
        "\n",
        "# Graficar datos en 3D con colores según clase\n",
        "fig = plt.figure()\n",
        "ax = fig.add_subplot(111, projection='3d')\n",
        "ax.scatter(X_pca[:,0], X_pca[:,1], X_pca[:,2], c=dataPruebaY)\n",
        "plt.show()"
      ],
      "metadata": {
        "id": "AjzoMUIzSo8K",
        "outputId": "35cecb29-8772-4367-c7cf-5f2919e0437a",
        "colab": {
          "base_uri": "https://localhost:8080/",
          "height": 991
        }
      },
      "id": "AjzoMUIzSo8K",
      "execution_count": 275,
      "outputs": [
        {
          "output_type": "stream",
          "name": "stderr",
          "text": [
            "<ipython-input-275-226cdeeafbf3>:15: SettingWithCopyWarning: \n",
            "A value is trying to be set on a copy of a slice from a DataFrame.\n",
            "Try using .loc[row_indexer,col_indexer] = value instead\n",
            "\n",
            "See the caveats in the documentation: https://pandas.pydata.org/pandas-docs/stable/user_guide/indexing.html#returning-a-view-versus-a-copy\n",
            "  dataPruebaX[col] = le.fit_transform(dataPruebaX[col])\n",
            "<ipython-input-275-226cdeeafbf3>:15: SettingWithCopyWarning: \n",
            "A value is trying to be set on a copy of a slice from a DataFrame.\n",
            "Try using .loc[row_indexer,col_indexer] = value instead\n",
            "\n",
            "See the caveats in the documentation: https://pandas.pydata.org/pandas-docs/stable/user_guide/indexing.html#returning-a-view-versus-a-copy\n",
            "  dataPruebaX[col] = le.fit_transform(dataPruebaX[col])\n",
            "<ipython-input-275-226cdeeafbf3>:15: SettingWithCopyWarning: \n",
            "A value is trying to be set on a copy of a slice from a DataFrame.\n",
            "Try using .loc[row_indexer,col_indexer] = value instead\n",
            "\n",
            "See the caveats in the documentation: https://pandas.pydata.org/pandas-docs/stable/user_guide/indexing.html#returning-a-view-versus-a-copy\n",
            "  dataPruebaX[col] = le.fit_transform(dataPruebaX[col])\n",
            "<ipython-input-275-226cdeeafbf3>:15: SettingWithCopyWarning: \n",
            "A value is trying to be set on a copy of a slice from a DataFrame.\n",
            "Try using .loc[row_indexer,col_indexer] = value instead\n",
            "\n",
            "See the caveats in the documentation: https://pandas.pydata.org/pandas-docs/stable/user_guide/indexing.html#returning-a-view-versus-a-copy\n",
            "  dataPruebaX[col] = le.fit_transform(dataPruebaX[col])\n",
            "<ipython-input-275-226cdeeafbf3>:19: SettingWithCopyWarning: \n",
            "A value is trying to be set on a copy of a slice from a DataFrame.\n",
            "Try using .loc[row_indexer,col_indexer] = value instead\n",
            "\n",
            "See the caveats in the documentation: https://pandas.pydata.org/pandas-docs/stable/user_guide/indexing.html#returning-a-view-versus-a-copy\n",
            "  dataPruebaY[col] = le.fit_transform(dataPruebaY[col])\n",
            "/usr/local/lib/python3.9/dist-packages/sklearn/neighbors/_classification.py:215: DataConversionWarning: A column-vector y was passed when a 1d array was expected. Please change the shape of y to (n_samples,), for example using ravel().\n",
            "  return self._fit(X, y)\n"
          ]
        },
        {
          "output_type": "display_data",
          "data": {
            "text/plain": [
              "<Figure size 640x480 with 1 Axes>"
            ],
            "image/png": "[encoded data removed]"
          },
          "metadata": {}
        }
      ]
    }
  ],
  "metadata": {
    "kernelspec": {
      "display_name": "Python 3 (ipykernel)",
      "language": "python",
      "name": "python3"
    },
    "language_info": {
      "codemirror_mode": {
        "name": "ipython",
        "version": 3
      },
      "file_extension": ".py",
      "mimetype": "text/x-python",
      "name": "python",
      "nbconvert_exporter": "python",
      "pygments_lexer": "ipython3",
      "version": "3.8.8"
    },
    "colab": {
      "provenance": []
    }
  },
  "nbformat": 4,
  "nbformat_minor": 5
}