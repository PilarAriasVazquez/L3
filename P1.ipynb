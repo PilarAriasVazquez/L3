{
  "cells": [
    {
      "cell_type": "markdown",
      "source": [
        "PILAR ARIAS, YEDRA MARTÍN, PATRICIA MEDIAVILLA, AMAYA SARASA\n",
        "\n",
        "<GRUPO 9>"
      ],
      "metadata": {
        "id": "mzFp6eT9JFiB"
      },
      "id": "mzFp6eT9JFiB"
    },
    {
      "cell_type": "markdown",
      "source": [
        "# Práctica 1"
      ],
      "metadata": {
        "id": "OWJVjzGGJHar"
      },
      "id": "OWJVjzGGJHar"
    },
    {
      "cell_type": "markdown",
      "source": [
        "## Introducción"
      ],
      "metadata": {
        "id": "lIHmyVg3JK3x"
      },
      "id": "lIHmyVg3JK3x"
    },
    {
      "cell_type": "markdown",
      "source": [
        "Esta es la primera práctica del segundo laboratorio. Dada una base de datos en formato .csv, se nos pide constestar a una serie de cuestiones. Para ello, lo primero que debemos hacer es cargar y leer la base de datos junto a las librerías necesarias: "
      ],
      "metadata": {
        "id": "TXJimiqGJPxo"
      },
      "id": "TXJimiqGJPxo"
    },
    {
      "cell_type": "code",
      "execution_count": 1,
      "id": "216c47e9",
      "metadata": {
        "id": "216c47e9",
        "outputId": "37d51274-b84c-4fe1-efae-eb78228a385e",
        "colab": {
          "base_uri": "https://localhost:8080/",
          "height": 588
        }
      },
      "outputs": [
        {
          "output_type": "stream",
          "name": "stdout",
          "text": [
            "<class 'pandas.core.frame.DataFrame'>\n",
            "RangeIndex: 271116 entries, 0 to 271115\n",
            "Data columns (total 15 columns):\n",
            " #   Column  Non-Null Count   Dtype  \n",
            "---  ------  --------------   -----  \n",
            " 0   ID      271116 non-null  int64  \n",
            " 1   Name    271116 non-null  object \n",
            " 2   Sex     271116 non-null  object \n",
            " 3   Age     261642 non-null  float64\n",
            " 4   Height  210945 non-null  float64\n",
            " 5   Weight  208241 non-null  float64\n",
            " 6   Team    271116 non-null  object \n",
            " 7   NOC     271116 non-null  object \n",
            " 8   Games   271116 non-null  object \n",
            " 9   Year    271116 non-null  int64  \n",
            " 10  Season  271116 non-null  object \n",
            " 11  City    271116 non-null  object \n",
            " 12  Sport   271116 non-null  object \n",
            " 13  Event   271116 non-null  object \n",
            " 14  Medal   39783 non-null   object \n",
            "dtypes: float64(3), int64(2), object(10)\n",
            "memory usage: 31.0+ MB\n"
          ]
        },
        {
          "output_type": "execute_result",
          "data": {
            "text/plain": [
              "   ID                      Name Sex   Age  Height  Weight            Team  \\\n",
              "0   1                 A Dijiang   M  24.0   180.0    80.0           China   \n",
              "1   2                  A Lamusi   M  23.0   170.0    60.0           China   \n",
              "2   3       Gunnar Nielsen Aaby   M  24.0     NaN     NaN         Denmark   \n",
              "3   4      Edgar Lindenau Aabye   M  34.0     NaN     NaN  Denmark/Sweden   \n",
              "4   5  Christine Jacoba Aaftink   F  21.0   185.0    82.0     Netherlands   \n",
              "\n",
              "   NOC        Games  Year  Season       City          Sport  \\\n",
              "0  CHN  1992 Summer  1992  Summer  Barcelona     Basketball   \n",
              "1  CHN  2012 Summer  2012  Summer     London           Judo   \n",
              "2  DEN  1920 Summer  1920  Summer  Antwerpen       Football   \n",
              "3  DEN  1900 Summer  1900  Summer      Paris     Tug-Of-War   \n",
              "4  NED  1988 Winter  1988  Winter    Calgary  Speed Skating   \n",
              "\n",
              "                              Event Medal  \n",
              "0       Basketball Men's Basketball   NaN  \n",
              "1      Judo Men's Extra-Lightweight   NaN  \n",
              "2           Football Men's Football   NaN  \n",
              "3       Tug-Of-War Men's Tug-Of-War  Gold  \n",
              "4  Speed Skating Women's 500 metres   NaN  "
            ],
            "text/html": [
              "\n",
              "  <div id=\"df-e2a35c90-9da7-4fc7-ba44-e8198d279218\">\n",
              "    <div class=\"colab-df-container\">\n",
              "      <div>\n",
              "<style scoped>\n",
              "    .dataframe tbody tr th:only-of-type {\n",
              "        vertical-align: middle;\n",
              "    }\n",
              "\n",
              "    .dataframe tbody tr th {\n",
              "        vertical-align: top;\n",
              "    }\n",
              "\n",
              "    .dataframe thead th {\n",
              "        text-align: right;\n",
              "    }\n",
              "</style>\n",
              "<table border=\"1\" class=\"dataframe\">\n",
              "  <thead>\n",
              "    <tr style=\"text-align: right;\">\n",
              "      <th></th>\n",
              "      <th>ID</th>\n",
              "      <th>Name</th>\n",
              "      <th>Sex</th>\n",
              "      <th>Age</th>\n",
              "      <th>Height</th>\n",
              "      <th>Weight</th>\n",
              "      <th>Team</th>\n",
              "      <th>NOC</th>\n",
              "      <th>Games</th>\n",
              "      <th>Year</th>\n",
              "      <th>Season</th>\n",
              "      <th>City</th>\n",
              "      <th>Sport</th>\n",
              "      <th>Event</th>\n",
              "      <th>Medal</th>\n",
              "    </tr>\n",
              "  </thead>\n",
              "  <tbody>\n",
              "    <tr>\n",
              "      <th>0</th>\n",
              "      <td>1</td>\n",
              "      <td>A Dijiang</td>\n",
              "      <td>M</td>\n",
              "      <td>24.0</td>\n",
              "      <td>180.0</td>\n",
              "      <td>80.0</td>\n",
              "      <td>China</td>\n",
              "      <td>CHN</td>\n",
              "      <td>1992 Summer</td>\n",
              "      <td>1992</td>\n",
              "      <td>Summer</td>\n",
              "      <td>Barcelona</td>\n",
              "      <td>Basketball</td>\n",
              "      <td>Basketball Men's Basketball</td>\n",
              "      <td>NaN</td>\n",
              "    </tr>\n",
              "    <tr>\n",
              "      <th>1</th>\n",
              "      <td>2</td>\n",
              "      <td>A Lamusi</td>\n",
              "      <td>M</td>\n",
              "      <td>23.0</td>\n",
              "      <td>170.0</td>\n",
              "      <td>60.0</td>\n",
              "      <td>China</td>\n",
              "      <td>CHN</td>\n",
              "      <td>2012 Summer</td>\n",
              "      <td>2012</td>\n",
              "      <td>Summer</td>\n",
              "      <td>London</td>\n",
              "      <td>Judo</td>\n",
              "      <td>Judo Men's Extra-Lightweight</td>\n",
              "      <td>NaN</td>\n",
              "    </tr>\n",
              "    <tr>\n",
              "      <th>2</th>\n",
              "      <td>3</td>\n",
              "      <td>Gunnar Nielsen Aaby</td>\n",
              "      <td>M</td>\n",
              "      <td>24.0</td>\n",
              "      <td>NaN</td>\n",
              "      <td>NaN</td>\n",
              "      <td>Denmark</td>\n",
              "      <td>DEN</td>\n",
              "      <td>1920 Summer</td>\n",
              "      <td>1920</td>\n",
              "      <td>Summer</td>\n",
              "      <td>Antwerpen</td>\n",
              "      <td>Football</td>\n",
              "      <td>Football Men's Football</td>\n",
              "      <td>NaN</td>\n",
              "    </tr>\n",
              "    <tr>\n",
              "      <th>3</th>\n",
              "      <td>4</td>\n",
              "      <td>Edgar Lindenau Aabye</td>\n",
              "      <td>M</td>\n",
              "      <td>34.0</td>\n",
              "      <td>NaN</td>\n",
              "      <td>NaN</td>\n",
              "      <td>Denmark/Sweden</td>\n",
              "      <td>DEN</td>\n",
              "      <td>1900 Summer</td>\n",
              "      <td>1900</td>\n",
              "      <td>Summer</td>\n",
              "      <td>Paris</td>\n",
              "      <td>Tug-Of-War</td>\n",
              "      <td>Tug-Of-War Men's Tug-Of-War</td>\n",
              "      <td>Gold</td>\n",
              "    </tr>\n",
              "    <tr>\n",
              "      <th>4</th>\n",
              "      <td>5</td>\n",
              "      <td>Christine Jacoba Aaftink</td>\n",
              "      <td>F</td>\n",
              "      <td>21.0</td>\n",
              "      <td>185.0</td>\n",
              "      <td>82.0</td>\n",
              "      <td>Netherlands</td>\n",
              "      <td>NED</td>\n",
              "      <td>1988 Winter</td>\n",
              "      <td>1988</td>\n",
              "      <td>Winter</td>\n",
              "      <td>Calgary</td>\n",
              "      <td>Speed Skating</td>\n",
              "      <td>Speed Skating Women's 500 metres</td>\n",
              "      <td>NaN</td>\n",
              "    </tr>\n",
              "  </tbody>\n",
              "</table>\n",
              "</div>\n",
              "      <button class=\"colab-df-convert\" onclick=\"convertToInteractive('df-e2a35c90-9da7-4fc7-ba44-e8198d279218')\"\n",
              "              title=\"Convert this dataframe to an interactive table.\"\n",
              "              style=\"display:none;\">\n",
              "        \n",
              "  <svg xmlns=\"http://www.w3.org/2000/svg\" height=\"24px\"viewBox=\"0 0 24 24\"\n",
              "       width=\"24px\">\n",
              "    <path d=\"M0 0h24v24H0V0z\" fill=\"none\"/>\n",
              "    <path d=\"M18.56 5.44l.94 2.06.94-2.06 2.06-.94-2.06-.94-.94-2.06-.94 2.06-2.06.94zm-11 1L8.5 8.5l.94-2.06 2.06-.94-2.06-.94L8.5 2.5l-.94 2.06-2.06.94zm10 10l.94 2.06.94-2.06 2.06-.94-2.06-.94-.94-2.06-.94 2.06-2.06.94z\"/><path d=\"M17.41 7.96l-1.37-1.37c-.4-.4-.92-.59-1.43-.59-.52 0-1.04.2-1.43.59L10.3 9.45l-7.72 7.72c-.78.78-.78 2.05 0 2.83L4 21.41c.39.39.9.59 1.41.59.51 0 1.02-.2 1.41-.59l7.78-7.78 2.81-2.81c.8-.78.8-2.07 0-2.86zM5.41 20L4 18.59l7.72-7.72 1.47 1.35L5.41 20z\"/>\n",
              "  </svg>\n",
              "      </button>\n",
              "      \n",
              "  <style>\n",
              "    .colab-df-container {\n",
              "      display:flex;\n",
              "      flex-wrap:wrap;\n",
              "      gap: 12px;\n",
              "    }\n",
              "\n",
              "    .colab-df-convert {\n",
              "      background-color: #E8F0FE;\n",
              "      border: none;\n",
              "      border-radius: 50%;\n",
              "      cursor: pointer;\n",
              "      display: none;\n",
              "      fill: #1967D2;\n",
              "      height: 32px;\n",
              "      padding: 0 0 0 0;\n",
              "      width: 32px;\n",
              "    }\n",
              "\n",
              "    .colab-df-convert:hover {\n",
              "      background-color: #E2EBFA;\n",
              "      box-shadow: 0px 1px 2px rgba(60, 64, 67, 0.3), 0px 1px 3px 1px rgba(60, 64, 67, 0.15);\n",
              "      fill: #174EA6;\n",
              "    }\n",
              "\n",
              "    [theme=dark] .colab-df-convert {\n",
              "      background-color: #3B4455;\n",
              "      fill: #D2E3FC;\n",
              "    }\n",
              "\n",
              "    [theme=dark] .colab-df-convert:hover {\n",
              "      background-color: #434B5C;\n",
              "      box-shadow: 0px 1px 3px 1px rgba(0, 0, 0, 0.15);\n",
              "      filter: drop-shadow(0px 1px 2px rgba(0, 0, 0, 0.3));\n",
              "      fill: #FFFFFF;\n",
              "    }\n",
              "  </style>\n",
              "\n",
              "      <script>\n",
              "        const buttonEl =\n",
              "          document.querySelector('#df-e2a35c90-9da7-4fc7-ba44-e8198d279218 button.colab-df-convert');\n",
              "        buttonEl.style.display =\n",
              "          google.colab.kernel.accessAllowed ? 'block' : 'none';\n",
              "\n",
              "        async function convertToInteractive(key) {\n",
              "          const element = document.querySelector('#df-e2a35c90-9da7-4fc7-ba44-e8198d279218');\n",
              "          const dataTable =\n",
              "            await google.colab.kernel.invokeFunction('convertToInteractive',\n",
              "                                                     [key], {});\n",
              "          if (!dataTable) return;\n",
              "\n",
              "          const docLinkHtml = 'Like what you see? Visit the ' +\n",
              "            '<a target=\"_blank\" href=https://colab.research.google.com/notebooks/data_table.ipynb>data table notebook</a>'\n",
              "            + ' to learn more about interactive tables.';\n",
              "          element.innerHTML = '';\n",
              "          dataTable['output_type'] = 'display_data';\n",
              "          await google.colab.output.renderOutput(dataTable, element);\n",
              "          const docLink = document.createElement('div');\n",
              "          docLink.innerHTML = docLinkHtml;\n",
              "          element.appendChild(docLink);\n",
              "        }\n",
              "      </script>\n",
              "    </div>\n",
              "  </div>\n",
              "  "
            ]
          },
          "metadata": {},
          "execution_count": 1
        }
      ],
      "source": [
        "#Importar librerías\n",
        "import numpy as np #numpy\n",
        "import pandas as pd #pandas\n",
        "import sklearn as sk #scikit-learn\n",
        "import matplotlib.pyplot as plt #gráfica Matplotlib\n",
        "from matplotlib.cbook import boxplot_stats # estadísticas Matplotlib\n",
        "from math import sqrt # calcular la raíz cuadrada de un número\n",
        "from mlxtend.preprocessing import TransactionEncoder\n",
        "from mlxtend.frequent_patterns import apriori, association_rules\n",
        "from sklearn.model_selection import train_test_split, cross_val_score, cross_val_predict\n",
        "from sklearn.neighbors import KNeighborsClassifier\n",
        "from sklearn.metrics import accuracy_score, mean_squared_error, confusion_matrix\n",
        "from sklearn.preprocessing import StandardScaler, LabelEncoder, OneHotEncoder\n",
        "from sklearn.decomposition import PCA\n",
        "import seaborn as sns\n",
        "from prettytable import PrettyTable\n",
        "import random\n",
        "\n",
        "\n",
        "#Importamos la base de datos\n",
        "data = pd.read_csv('olimpiadas.csv',sep=',')\n",
        "data.info()\n",
        "data.head()"
      ]
    },
    {
      "cell_type": "markdown",
      "source": [
        "Gracias a la función data.info(), se observa que se está trabajando con un total de 271116 observaciones, mientras que con data.head() se visualiza la forma que tiene la base de datos y las primeras filas de esta. "
      ],
      "metadata": {
        "id": "I4NZOpdKLMix"
      },
      "id": "I4NZOpdKLMix"
    },
    {
      "cell_type": "markdown",
      "source": [
        "Según se ha estudiado, destacamos dos métodos para afrontar un proyecto, KDD (Knowledge Discovery in Databases) y CRIPS-DM (Cross-Industry Standard Process for Data Mining). En este caso, para enfrentarlo, se utilizará CRISP-DM, ya que consiste en un método menos acádemico, y se considera que es el más apropiado para esta práctica. "
      ],
      "metadata": {
        "id": "L4yVabzpMYQq"
      },
      "id": "L4yVabzpMYQq"
    },
    {
      "cell_type": "markdown",
      "source": [
        "Es un modelo de proceso de minería de datos que se utiliza en la industria. Es un marco de trabajo que define un proceso estandarizado para llevar a cabo proyectos de minería de datos, desde la definición del problema hasta la implementación y evaluación del resultado. Los seis pasos que componen Crisp-DM son los siguientes:\n",
        "\n",
        "-Comprensión de los negocios y definición del problema: comprender la naturaleza del problema y los objetivos de negocio.\n",
        "\n",
        "-Comprensión de los datos: recopilación inicial, descripción y exploración de datos.\n",
        "\n",
        "-Preparación de los datos: Selección, limpieza, construcción, integración, formateo de los datos.\n",
        "\n",
        "-Modelado: aplicar las técnicas de minería de datos a los dataset.\n",
        "\n",
        "-Evaluación: determinar si los resultados son útiles a las necesidades del negocio.\n",
        "\n",
        "-Despliegue: explotar utilidad de los modelos, integrándolos en las tareas de toma de decisiones de la organización -> Call to Action."
      ],
      "metadata": {
        "id": "KZRK2thPNGH6"
      },
      "id": "KZRK2thPNGH6"
    },
    {
      "cell_type": "markdown",
      "source": [
        "## Comprensión de los negocios y definición del problema"
      ],
      "metadata": {
        "id": "qMpVIS3SNKpl"
      },
      "id": "qMpVIS3SNKpl"
    },
    {
      "cell_type": "markdown",
      "source": [
        "Se quiere crear un modelo que permita saber si un atleta español va a tener medalla de oro, plata o bronce\n",
        "en los juegos olímpicos de Tokio que se celebrarán en 2020. Para ello, tendremos en cuenta el lugar que\n",
        "ocupan en un espacio n-dimensional donde n es el número de características de cada atleta.\n",
        "Para ello usaremos el dataset “Juegos olímpicos” que se encuentra en Moodle. Elige el clasificador que más se\n",
        "adapte de entre los vistos en clase y usa scikit-learn junto con las librerías que necesites para resolver las\n",
        "siguientes cuestiones.\n",
        "\n",
        "\n",
        "1) Haz todo el preprocesamiento para crear un set de entrenamiento y otro de validación qué permita\n",
        "clasificar atletas qué tengan sólo las características necesarias. Aparte de los totalmente necesarios,\n",
        "usaremos como atributos: Sexo, Edad, Altura y Peso. Explica qué has hecho y porqué. \n",
        "\n",
        "\n",
        "2) Prueba con distintas configuraciones de las dos métricas principales. La primera métrica corresponde\n",
        "al número de individuos que usarás para clasificar una nueva instancia y la segunda cómo vas a medir\n",
        "la cercanía de esa nueva instancia con el resto.\n",
        "\n",
        "\n",
        "3) Elige la mejor configuración entre las anteriores. Para ello dibuja una tabla ver cómo evoluciona la\n",
        "clasificación. Dibuja los resultados que se obtienen con ambas configuraciones elegidas cómo las\n",
        "mejores. \n",
        "\n",
        "\n",
        "4) Utiliza el clasificador para saber que medalla es más probable que ganen Bruno Hortelano (Athletycs),\n",
        "Carolina Marín (Badminton) o la selección femenina de baloncesto (Basketball).\n",
        "\n"
      ],
      "metadata": {
        "id": "694A24viNWSx"
      },
      "id": "694A24viNWSx"
    },
    {
      "cell_type": "markdown",
      "source": [
        "## Comprensión de los datos"
      ],
      "metadata": {
        "id": "uOiuObTPNgP0"
      },
      "id": "uOiuObTPNgP0"
    },
    {
      "cell_type": "markdown",
      "source": [
        "### Ejercicio 1"
      ],
      "metadata": {
        "id": "IHjJKGHXHXLb"
      },
      "id": "IHjJKGHXHXLb"
    },
    {
      "cell_type": "markdown",
      "source": [
        "Según se ha visto anteriormente, la base de datos consta de 271116 observaciones, y 15 atributos, pero no deseamos trabajar con todos, ya que seguramente encontremos datos que no aportan información nueva, para ello se va a proceder a definir cada uno para así ver cuáles son los esenciales:\n",
        "- ID: identificación del atleta\n",
        "- Name: nombre del atleta\n",
        "- Sex: sexo del atleta\n",
        "- Age: edad del atleta \n",
        "- Height: altura del atleta\n",
        "- Weight: peso del atleta\n",
        "- NOC: National Olympic Committee (Comité Olímpico Nacional) \n",
        "- Games: el nombre de los Juegos Olímpicos en los que el atleta participó\n",
        "- Year: es el año en el que se celebraron los Juegos Olímpicos en los que el atleta participó\n",
        "- Season: indica si los Juegos Olímpicos se celebraron en verano o en invierno.\n",
        "- City: es el nombre de la ciudad en la que se celebraron los Juegos Olímpicos en los que el atleta participó.\n",
        "- Sport: es el deporte en el que participó el atleta.\n",
        "- Event: es el nombre específico del evento en el que participó el atleta\n",
        "- Medal: indica la medalla que ganó el atleta en el evento en el que participó.\n"
      ],
      "metadata": {
        "id": "Z1mSZXY1JlLI"
      },
      "id": "Z1mSZXY1JlLI"
    },
    {
      "cell_type": "markdown",
      "source": [
        "## Preparación de los datos"
      ],
      "metadata": {
        "id": "5dwk3CwLNtrw"
      },
      "id": "5dwk3CwLNtrw"
    },
    {
      "cell_type": "markdown",
      "source": [
        "Primero se va a proceder a seleccionar aquellos atributos que sí que son necesarios. Según criterio, eliminaremos los siguientes: \n",
        "- ID: Debido a la existencia de otro atributo llamado 'Name'. La elección de eliminar este procede de que en el último apartado de la práctica, se facilitan una serie de nombres, y se deberá predecir la obtención o no de medalla. \n",
        "- Year: Es un atributo irrelevante, ya que en 'Games', se recolecta información acerca de la estación del año en la que se juega, y el año, por lo que de esta manera ahorramos coste computacional. \n",
        "- Season: De la misma manera, 'Games' ya aporta información sobre la estación en la que participa el atleta. \n",
        "- City: Con saber el año y la estación en la que se jugó, se puede saber la ciudad, por lo que estos datos no aportan información útil y supone un coste computacional adicional. \n"
      ],
      "metadata": {
        "id": "mdEJ60IpPqGn"
      },
      "id": "mdEJ60IpPqGn"
    },
    {
      "cell_type": "markdown",
      "source": [
        "A continuación, creamos una nueva base de datos llamada 'df' en la que guardaremos la información seleccionada anteriormente: "
      ],
      "metadata": {
        "id": "4f-dv8V9R3IQ"
      },
      "id": "4f-dv8V9R3IQ"
    },
    {
      "cell_type": "code",
      "source": [
        "df=data[['Name', 'Sex', 'Age', 'Height','Sport' ,'Weight', 'Games', 'NOC', 'Event', 'Medal']]"
      ],
      "metadata": {
        "id": "Tr0WG0koy3uv"
      },
      "id": "Tr0WG0koy3uv",
      "execution_count": 2,
      "outputs": []
    },
    {
      "cell_type": "markdown",
      "source": [
        "Para el correcto tratamiento de los datos, debemos observar la cantidad de NaN's que incluye cada variable seleccionada. Para ello: "
      ],
      "metadata": {
        "id": "n9z6GlQbapNW"
      },
      "id": "n9z6GlQbapNW"
    },
    {
      "cell_type": "code",
      "source": [
        "NameNaN = df['Name'].isna().sum()\n",
        "print(f\"La cantidad de NaN que existen en la variable Name es:{NameNaN}\")\n",
        "SexNaN = df['Sex'].isna().sum()\n",
        "print(f\"La cantidad de NaN que existen en la variable Sex es:{SexNaN}\")\n",
        "AgeNaN = df['Age'].isna().sum()\n",
        "print(f\"La cantidad de NaN que existen en la variable Age es:{AgeNaN}\")\n",
        "HeightNaN = df['Height'].isna().sum()\n",
        "print(f\"La cantidad de NaN que existen en la variable Height es:{HeightNaN}\")\n",
        "WeightNaN = df['Weight'].isna().sum()\n",
        "print(f\"La cantidad de NaN que existen en la variable Weight es:{WeightNaN}\")\n",
        "GamesNaN = df['Games'].isna().sum()\n",
        "print(f\"La cantidad de NaN que existen en la variable Games es:{GamesNaN}\")\n",
        "NOCNaN = df['NOC'].isna().sum()\n",
        "print(f\"La cantidad de NaN que existen en la variable NOC es:{NOCNaN}\")\n",
        "EventNaN = df['Event'].isna().sum()\n",
        "print(f\"La cantidad de NaN que existen en la variable Event es:{EventNaN}\")\n",
        "MedalNaN = df['Medal'].isna().sum()\n",
        "print(f\"La cantidad de NaN que existen en la variable Medal es:{MedalNaN}\")"
      ],
      "metadata": {
        "id": "YN4azzIRzep4",
        "outputId": "67ed03d6-3305-4f14-a99d-445c8677f02e",
        "colab": {
          "base_uri": "https://localhost:8080/"
        }
      },
      "id": "YN4azzIRzep4",
      "execution_count": 3,
      "outputs": [
        {
          "output_type": "stream",
          "name": "stdout",
          "text": [
            "La cantidad de NaN que existen en la variable Name es:0\n",
            "La cantidad de NaN que existen en la variable Sex es:0\n",
            "La cantidad de NaN que existen en la variable Age es:9474\n",
            "La cantidad de NaN que existen en la variable Height es:60171\n",
            "La cantidad de NaN que existen en la variable Weight es:62875\n",
            "La cantidad de NaN que existen en la variable Games es:0\n",
            "La cantidad de NaN que existen en la variable NOC es:0\n",
            "La cantidad de NaN que existen en la variable Event es:0\n",
            "La cantidad de NaN que existen en la variable Medal es:231333\n"
          ]
        }
      ]
    },
    {
      "cell_type": "markdown",
      "source": [
        "Se observa una gran cantidad de NaN's en las variables que indican la edad, la altura, el peso y la medalla ganada en cuestión.  \n",
        "Observemos cada uno en detalle para decidir qué hacer con cada atributo: \n",
        "- Age: Es información relevante, y como se está evitando eliminar registros, se rellena con la media de las edades. \n",
        "- Height: De la misma manera que se ha hecho con la edad, se rellena con la media de las alturas.\n",
        "- Weight: Igual que anteriormente, se rellena con la media de los pesos. \n",
        "- Medal: Es normal encontrar NaN, ya que esto indica todos aquellos atletas que no han obtenido una medalla, por lo que se rellena con 'NoMedal' para evitar futuros problemas. \n"
      ],
      "metadata": {
        "id": "WOFtpm0-S-ba"
      },
      "id": "WOFtpm0-S-ba"
    },
    {
      "cell_type": "markdown",
      "source": [
        "Procedemos a ejecutar lo que se acaba de explicar: "
      ],
      "metadata": {
        "id": "lma-Lf76a80_"
      },
      "id": "lma-Lf76a80_"
    },
    {
      "cell_type": "code",
      "source": [
        "# Calcula la media de la columna 'Age'\n",
        "mediaA = df['Age'].mean()\n",
        "# Rellena los valores NaN con la media\n",
        "df['Age'].fillna(mediaA, inplace=True) \n",
        "# Calcula la media de la columna 'Height'\n",
        "mediaH = df['Height'].mean()\n",
        "# Rellena los valores NaN con la media\n",
        "df['Height'].fillna(mediaH, inplace=True) \n",
        "# Calcula la media de la columna 'Height'\n",
        "mediaW = df['Weight'].mean()\n",
        "# Rellena los valores NaN con la media\n",
        "df['Weight'].fillna(mediaW, inplace=True) \n",
        "# Rellena los valores NaN con 'NoMedal'\n",
        "df['Medal'].fillna('NpMedal', inplace=True) "
      ],
      "metadata": {
        "id": "s_nHCskm0MQa",
        "outputId": "b731fe6d-90a1-4ed4-d48b-7cc16047addf",
        "colab": {
          "base_uri": "https://localhost:8080/"
        }
      },
      "id": "s_nHCskm0MQa",
      "execution_count": 4,
      "outputs": [
        {
          "output_type": "stream",
          "name": "stderr",
          "text": [
            "<ipython-input-4-0cf37b900bc3>:4: SettingWithCopyWarning: \n",
            "A value is trying to be set on a copy of a slice from a DataFrame\n",
            "\n",
            "See the caveats in the documentation: https://pandas.pydata.org/pandas-docs/stable/user_guide/indexing.html#returning-a-view-versus-a-copy\n",
            "  df['Age'].fillna(mediaA, inplace=True)\n",
            "<ipython-input-4-0cf37b900bc3>:8: SettingWithCopyWarning: \n",
            "A value is trying to be set on a copy of a slice from a DataFrame\n",
            "\n",
            "See the caveats in the documentation: https://pandas.pydata.org/pandas-docs/stable/user_guide/indexing.html#returning-a-view-versus-a-copy\n",
            "  df['Height'].fillna(mediaH, inplace=True)\n",
            "<ipython-input-4-0cf37b900bc3>:12: SettingWithCopyWarning: \n",
            "A value is trying to be set on a copy of a slice from a DataFrame\n",
            "\n",
            "See the caveats in the documentation: https://pandas.pydata.org/pandas-docs/stable/user_guide/indexing.html#returning-a-view-versus-a-copy\n",
            "  df['Weight'].fillna(mediaW, inplace=True)\n",
            "<ipython-input-4-0cf37b900bc3>:14: SettingWithCopyWarning: \n",
            "A value is trying to be set on a copy of a slice from a DataFrame\n",
            "\n",
            "See the caveats in the documentation: https://pandas.pydata.org/pandas-docs/stable/user_guide/indexing.html#returning-a-view-versus-a-copy\n",
            "  df['Medal'].fillna('NpMedal', inplace=True)\n"
          ]
        }
      ]
    },
    {
      "cell_type": "markdown",
      "source": [
        "Comprobemos por tanto que la suma de los NaN de los atributos: edad, peso y altura es 0, es decir, se ha rellenado de manera correcta: "
      ],
      "metadata": {
        "id": "GMfQs0QDUNFh"
      },
      "id": "GMfQs0QDUNFh"
    },
    {
      "cell_type": "code",
      "source": [
        "df['Height'].isnull().sum() + df['Age'].isnull().sum() + df['Weight'].isnull().sum()"
      ],
      "metadata": {
        "id": "6rxCRe7Z03xd",
        "outputId": "deb612dd-c935-4eaf-9681-5ec9f045691d",
        "colab": {
          "base_uri": "https://localhost:8080/"
        }
      },
      "id": "6rxCRe7Z03xd",
      "execution_count": 5,
      "outputs": [
        {
          "output_type": "execute_result",
          "data": {
            "text/plain": [
              "0"
            ]
          },
          "metadata": {},
          "execution_count": 5
        }
      ]
    },
    {
      "cell_type": "markdown",
      "source": [
        "Efectivamente, la suma total de los NaN de esos tres atributos es 0, por lo que procedemos con lo siguiente. "
      ],
      "metadata": {
        "id": "K-SLsciuUaXA"
      },
      "id": "K-SLsciuUaXA"
    },
    {
      "cell_type": "markdown",
      "source": [
        "Representamos mediante un boxplot las variables: Edad, Peso y Altura para así observar cuáles son los máximos y mínimos, y observar cómo se distribuye."
      ],
      "metadata": {
        "id": "JngBMeW1VCZN"
      },
      "id": "JngBMeW1VCZN"
    },
    {
      "cell_type": "markdown",
      "source": [
        "Comenzamos con la variable 'Age'."
      ],
      "metadata": {
        "id": "gxGFiqoJbQxO"
      },
      "id": "gxGFiqoJbQxO"
    },
    {
      "cell_type": "code",
      "source": [
        "boxplot_age=df['Age']\n",
        "plt.boxplot(boxplot_age)\n",
        "plt.title('Boxplot age')\n",
        "plt.show()"
      ],
      "metadata": {
        "id": "RP0XKJHI7BRt",
        "outputId": "d2a2a4a4-23ec-4422-eecb-709b12bbca43",
        "colab": {
          "base_uri": "https://localhost:8080/",
          "height": 452
        }
      },
      "id": "RP0XKJHI7BRt",
      "execution_count": 6,
      "outputs": [
        {
          "output_type": "display_data",
          "data": {
            "text/plain": [
              "<Figure size 640x480 with 1 Axes>"
            ],
            "image/png": "[encoded data removed]"
          },
          "metadata": {}
        }
      ]
    },
    {
      "cell_type": "markdown",
      "source": [
        "Observamos máximos, mínimos y outliers."
      ],
      "metadata": {
        "id": "-2qrPnsZbUMd"
      },
      "id": "-2qrPnsZbUMd"
    },
    {
      "cell_type": "code",
      "source": [
        "stats = boxplot_stats(boxplot_age)\n",
        "stats = stats[0] \n",
        "outliers = stats['fliers']\n",
        "minAge = stats['q1']-1.5*stats['iqr']\n",
        "maxAge = stats['q3']+1.5*stats['iqr']\n",
        "print(minAge, maxAge, len(outliers))"
      ],
      "metadata": {
        "id": "lMbj3iZB7w3y",
        "outputId": "f05dd14a-b2c5-4c8f-f34b-c9ff48d5f4ea",
        "colab": {
          "base_uri": "https://localhost:8080/"
        }
      },
      "id": "lMbj3iZB7w3y",
      "execution_count": 7,
      "outputs": [
        {
          "output_type": "stream",
          "name": "stdout",
          "text": [
            "13.0 37.0 11981\n"
          ]
        }
      ]
    },
    {
      "cell_type": "markdown",
      "source": [
        "Vemos como la edad mínima de un participante es de 13 años, mientras que el máximo aceptado es 37. El mínimo  parece un poco precipitado, ya que los participantes deberán de tener mínimo 14 años para la calificación, y participarán en la sección de 'Juventud'. Mientras que la edad máxima no está definida, por lo que ese máximo podría ser entendible. \n",
        "\n",
        "Observemos cuál es la edad mínima registrada: "
      ],
      "metadata": {
        "id": "CJOjQu58cNJG"
      },
      "id": "CJOjQu58cNJG"
    },
    {
      "cell_type": "code",
      "source": [
        "min_age = df['Age'].min()\n",
        "min_age"
      ],
      "metadata": {
        "id": "qhYwK-8l4ysQ",
        "outputId": "b52abbfc-b195-47e0-8d6d-046f5e86ec73",
        "colab": {
          "base_uri": "https://localhost:8080/"
        }
      },
      "id": "qhYwK-8l4ysQ",
      "execution_count": 8,
      "outputs": [
        {
          "output_type": "execute_result",
          "data": {
            "text/plain": [
              "10.0"
            ]
          },
          "metadata": {},
          "execution_count": 8
        }
      ]
    },
    {
      "cell_type": "markdown",
      "source": [
        "No es un valor razonable, por lo que haremos una selección, tomando aquellos cuya edad sea estrictamente mayor que 13. "
      ],
      "metadata": {
        "id": "7xYqWi-L4zOl"
      },
      "id": "7xYqWi-L4zOl"
    },
    {
      "cell_type": "code",
      "source": [
        "df = df[df['Age'] >= 14]"
      ],
      "metadata": {
        "id": "hGhcrJqr5ufw"
      },
      "id": "hGhcrJqr5ufw",
      "execution_count": 9,
      "outputs": []
    },
    {
      "cell_type": "markdown",
      "source": [
        "Comprobemos si se ha realizado correctamente, para ello volveremos a imprimir el menor valor de la variable. "
      ],
      "metadata": {
        "id": "pjTSb4op6Gaq"
      },
      "id": "pjTSb4op6Gaq"
    },
    {
      "cell_type": "code",
      "source": [
        "min_age = df['Age'].min()\n",
        "min_age"
      ],
      "metadata": {
        "id": "1PqXRGpE6Ei7",
        "outputId": "a7a7e6c3-a415-4052-9dd2-c0d40f507dc5",
        "colab": {
          "base_uri": "https://localhost:8080/"
        }
      },
      "id": "1PqXRGpE6Ei7",
      "execution_count": 10,
      "outputs": [
        {
          "output_type": "execute_result",
          "data": {
            "text/plain": [
              "14.0"
            ]
          },
          "metadata": {},
          "execution_count": 10
        }
      ]
    },
    {
      "cell_type": "markdown",
      "source": [
        "Se ha ejecutado correctamente por lo que continuamos con las siguientes variables. \n",
        "Graficamos 'Weight': "
      ],
      "metadata": {
        "id": "fYTFzkAwbudm"
      },
      "id": "fYTFzkAwbudm"
    },
    {
      "cell_type": "code",
      "source": [
        "boxplot_weight=df['Weight']\n",
        "plt.boxplot(boxplot_weight)\n",
        "plt.title('Boxplot age')\n",
        "plt.show()"
      ],
      "metadata": {
        "id": "KANZ8Wdh7-Zp",
        "outputId": "b599efbd-d2ba-4daa-956d-a4b1f894e73f",
        "colab": {
          "base_uri": "https://localhost:8080/",
          "height": 452
        }
      },
      "id": "KANZ8Wdh7-Zp",
      "execution_count": 11,
      "outputs": [
        {
          "output_type": "display_data",
          "data": {
            "text/plain": [
              "<Figure size 640x480 with 1 Axes>"
            ],
            "image/png": "[encoded data removed]"
          },
          "metadata": {}
        }
      ]
    },
    {
      "cell_type": "markdown",
      "source": [
        "Observamos máximos, mínimos y outliers."
      ],
      "metadata": {
        "id": "eoa7pWRdbyzu"
      },
      "id": "eoa7pWRdbyzu"
    },
    {
      "cell_type": "code",
      "source": [
        "stats = boxplot_stats(boxplot_weight)\n",
        "stats = stats[0] \n",
        "outliers = stats['fliers']\n",
        "minWeight = stats['q1']-1.5*stats['iqr']\n",
        "maxWeight = stats['q3']+1.5*stats['iqr']\n",
        "print(minWeight, maxWeight, len(outliers))"
      ],
      "metadata": {
        "id": "V2ZcQQae712c",
        "outputId": "37658a25-c8e8-47a9-8bc0-3d0bf774684f",
        "colab": {
          "base_uri": "https://localhost:8080/"
        }
      },
      "id": "V2ZcQQae712c",
      "execution_count": 12,
      "outputs": [
        {
          "output_type": "stream",
          "name": "stdout",
          "text": [
            "45.0 93.0 15530\n"
          ]
        }
      ]
    },
    {
      "cell_type": "markdown",
      "source": [
        "Tanto el peso mínimo como el máximo parecen razonables, ya que hay deportes que implican más masa muscular, por lo que está dentro de lo entendible. "
      ],
      "metadata": {
        "id": "ETePcybZeICD"
      },
      "id": "ETePcybZeICD"
    },
    {
      "cell_type": "markdown",
      "source": [
        "Graficamos la variable 'Height'."
      ],
      "metadata": {
        "id": "lpjXI3yVb83p"
      },
      "id": "lpjXI3yVb83p"
    },
    {
      "cell_type": "code",
      "source": [
        "import matplotlib.pyplot as plt\n",
        "boxplot_height=df['Height']\n",
        "plt.boxplot(boxplot_height)\n",
        "plt.title('Boxplot height')\n",
        "plt.show()"
      ],
      "metadata": {
        "id": "V8znV7go_UtL",
        "outputId": "df6822d7-50ce-42cb-9f42-fa3dba740f9f",
        "colab": {
          "base_uri": "https://localhost:8080/",
          "height": 452
        }
      },
      "id": "V8znV7go_UtL",
      "execution_count": 13,
      "outputs": [
        {
          "output_type": "display_data",
          "data": {
            "text/plain": [
              "<Figure size 640x480 with 1 Axes>"
            ],
            "image/png": "[encoded data removed]"
          },
          "metadata": {}
        }
      ]
    },
    {
      "cell_type": "markdown",
      "source": [
        "Observemos los máximos, mínimos y outliers."
      ],
      "metadata": {
        "id": "54FwqgCwcBeC"
      },
      "id": "54FwqgCwcBeC"
    },
    {
      "cell_type": "code",
      "source": [
        "stats = boxplot_stats(boxplot_height)\n",
        "stats = stats[0] \n",
        "outliers = stats['fliers']\n",
        "minHeight = stats['q1']-1.5*stats['iqr']\n",
        "maxHeight = stats['q3']+1.5*stats['iqr']\n",
        "print(minHeight, maxHeight, len(outliers))"
      ],
      "metadata": {
        "id": "c5htT1w6_27D",
        "outputId": "b43ae728-77c9-4708-bbd4-59420124bd6a",
        "colab": {
          "base_uri": "https://localhost:8080/"
        }
      },
      "id": "c5htT1w6_27D",
      "execution_count": 14,
      "outputs": [
        {
          "output_type": "stream",
          "name": "stdout",
          "text": [
            "155.0 195.0 10499\n"
          ]
        }
      ]
    },
    {
      "cell_type": "markdown",
      "source": [
        "De la misma manera, entendemos que hay deportes que no requieren una altura elevada, como puede ser la natación, sin embargo hay otros como el baloncesto que la altura tiende a ser elevada, por lo que se encuentran dentro de un rango razonable. "
      ],
      "metadata": {
        "id": "lCHxuBuNeT2P"
      },
      "id": "lCHxuBuNeT2P"
    },
    {
      "cell_type": "markdown",
      "source": [
        "El set de entrenamiento y de validación se irá creando en cada modelo correspondiente de la siguiente manera: "
      ],
      "metadata": {
        "id": "1vKF41skHyvG"
      },
      "id": "1vKF41skHyvG"
    },
    {
      "cell_type": "code",
      "source": [
        "dataPruebaX=df[['Name', 'Sex', 'Age', 'Sport', 'Games', 'NOC', 'Event', 'Weight', 'Height']]\n",
        "dataPruebaY= df[['Medal']]\n",
        "\n",
        "# Dividir el conjunto de datos en un conjunto de entrenamiento y un conjunto de prueba\n",
        "X_train, X_test, y_train, y_test = train_test_split(dataPruebaX, dataPruebaY, test_size=0.2, random_state=42)\n"
      ],
      "metadata": {
        "id": "CMNWtdhPH4Pr"
      },
      "id": "CMNWtdhPH4Pr",
      "execution_count": 15,
      "outputs": []
    },
    {
      "cell_type": "markdown",
      "source": [
        "Esto es porque se realizarán diversos modelos, y dependiendo de cual, se necesitarán unos atributos u otros."
      ],
      "metadata": {
        "id": "8Vx3vRZeH6By"
      },
      "id": "8Vx3vRZeH6By"
    },
    {
      "cell_type": "markdown",
      "source": [
        "## Modelado"
      ],
      "metadata": {
        "id": "AZh69Eb2SMGo"
      },
      "id": "AZh69Eb2SMGo"
    },
    {
      "cell_type": "markdown",
      "source": [
        "### Ejercicio 2 y 3\n",
        "- Ejercicio 2: Prueba con distintas configuraciones de las dos métricas principales. La primera métrica corresponde al número de individuos que usarás para clasificar una nueva instancia y la segunda cómo vas a medir la cercanía de esa nueva instancia con el resto. \n",
        "- Ejercicio 3: Elige la mejor configuración entre las anteriores. Para ello dibuja una tabla ver cómo evoluciona la clasificación. Dibuja los resultados que se obtienen con ambas configuraciones elegidas cómo las mejores.\n"
      ],
      "metadata": {
        "id": "-st7s7hKETBO"
      },
      "id": "-st7s7hKETBO"
    },
    {
      "cell_type": "markdown",
      "source": [
        "La implementación de ambos ejercicios se realiza conjuntamente ya que a la vez que se prueban distintas configuraciones para las dos métricas principales, se dibuja una tabla en la que se van representando ambas configuraciones bajo un criterio. "
      ],
      "metadata": {
        "id": "8UBNrmqVf7Am"
      },
      "id": "8UBNrmqVf7Am"
    },
    {
      "cell_type": "markdown",
      "source": [
        "Para satisfacer el objetivo, se procede a realizar un doble bucle en la que se trabaja con 3 distintos valores en cada métrica, y se implementan unos con otros, para así bajo un criterio de precisión y error cuadrático medio, seleccionar aquellas métricas que optimicen dichos criterios. \n",
        "\n",
        "Los valores que se van a usar son:  \n",
        "- Número de individuos para clasificar nueva instancia: [3, 5, 7]\n",
        "- Distancias para calcular las cercanías de la nueva instancia: [ euclidean, manhattan, minkowski ]"
      ],
      "metadata": {
        "id": "l5Ei_G6SgPkU"
      },
      "id": "l5Ei_G6SgPkU"
    },
    {
      "cell_type": "markdown",
      "source": [
        "En esta primera implementación, se va a hacer uso de la división del conjunto de datos en entrenamiento y prueba, para evaluar la capacidad de generalización del modelo. \n",
        "\n",
        "Para evaluarlo correctamente, se hará uso de la función 'predict', que guardará en una variable la predicción realizada, para así compararlo con el original, y calcular como se ha explicado anteriormente los criterios para decidir si esas métricas son útiles. "
      ],
      "metadata": {
        "id": "bXeS3SEEhBMI"
      },
      "id": "bXeS3SEEhBMI"
    },
    {
      "cell_type": "markdown",
      "source": [
        "Los datos se irán añadiendo en una tabla que más tarde se imprimirá con todos los valores obtenidos. "
      ],
      "metadata": {
        "id": "V4adSguTiRhr"
      },
      "id": "V4adSguTiRhr"
    },
    {
      "cell_type": "markdown",
      "source": [
        "En cuanto al tratado de datos, aquellas variable cuyo formato sea una entrada de texto se le asignará un número comprendido en los enteros. Esto se hace gracias a la función 'LabelEncoder' una técnica de codificación que transforma las etiquetas de texto en valoers numéricos para que puedan ser procesados por algoritmos. \n",
        "\n",
        "Gracias al bucle, detecta todas aquellas que no sean numéricas, y las codifica sobrescribiendo. \n",
        "\n",
        "Hace lo mismo tanto para las varaibles seleccionadas, como para la objetivo. "
      ],
      "metadata": {
        "id": "yFyfDLhljQiu"
      },
      "id": "yFyfDLhljQiu"
    },
    {
      "cell_type": "markdown",
      "source": [
        "Primeramente este método fue rechazado, ya que como se había visto en clase, trabajar con datos grandes en redes neuronales, podía presentar desafíos como los problemas de escalabilidad, ya que si por ejemplo en la variable 'Sport', si asignaba al deporte de Baloncesto en la codificación el 1, mientras que al Bobsleigh el 52, pues le iba a dar una gran diferencia de peso al deporte de Bobsleigh en comparación con el Baloncesto. \n",
        "\n",
        "Sin embargo, como en este modelo se trabaja con distancias, podría incluso ser más eficiente en tiempo de cálculo y recursos computacionales, ya que implica simplemente calcular la distancia entre puntos en un espacio dimensional."
      ],
      "metadata": {
        "id": "tESlRRRSkiLw"
      },
      "id": "tESlRRRSkiLw"
    },
    {
      "cell_type": "markdown",
      "source": [
        "La variable de nombre se ha añadido, ya que hay cualidades de la persona que no pueden ser recogidos en la base de datos, es decir, puede haber dos jugadores de atletismo exactamente iguales, misma edad, peso, altura, género, sin embargo, la habilidad o las horas de entrenamiento de cada uno, no se registra. Es ahí donde el modelo deberá aprender que si por ejemplo encontramos un individuo llamado A, y otro igual llamado B, deberá encontrar algo que les diferencie y justifique que siempre gana A, y eso es el nombre, ya que la habilidad y la técnica de A, es lo que le diferencia y le hace ganar la medalla de oro. "
      ],
      "metadata": {
        "id": "Qbx69FbrKWqn"
      },
      "id": "Qbx69FbrKWqn"
    },
    {
      "cell_type": "code",
      "source": [
        "dataPruebaX=df[['Name', 'Sex', 'Age', 'Sport', 'Games', 'NOC', 'Event', 'Weight', 'Height']]\n",
        "dataPruebaY= df[['Medal']]\n",
        "\n",
        "le = LabelEncoder()\n",
        "\n",
        "for col in dataPruebaX.columns:\n",
        "    if dataPruebaX[col].dtype == 'object':\n",
        "        dataPruebaX[col] = le.fit_transform(dataPruebaX[col])\n",
        "\n",
        "for col in dataPruebaY.columns:\n",
        "    if dataPruebaY[col].dtype == 'object':\n",
        "        dataPruebaY[col] = le.fit_transform(dataPruebaY[col])\n",
        "\n",
        "# Dividir el conjunto de datos en un conjunto de entrenamiento y un conjunto de prueba\n",
        "X_train, X_test, y_train, y_test = train_test_split(dataPruebaX, dataPruebaY, test_size=0.2, random_state=42)\n",
        "\n",
        "# Definir distintas configuraciones de k y distancia\n",
        "k_values = [3, 5, 7]\n",
        "distance_metrics = ['euclidean', 'manhattan', 'minkowski']\n",
        "\n",
        "#Creación de tabla\n",
        "table = PrettyTable()\n",
        "table.field_names = [\"k\", \"metric\", \"accuracy\", \"error_medio\"]\n",
        "\n",
        "# Evaluar el desempeño del modelo para cada configuración de k y distancia\n",
        "for k in k_values:\n",
        "    for metric in distance_metrics:\n",
        "        # Entrenar el modelo\n",
        "        model = KNeighborsClassifier(n_neighbors=k, metric=metric)\n",
        "        model.fit(X_train, y_train)\n",
        "        \n",
        "        # Realizar la predicción en el conjunto de prueba\n",
        "        y_pred = model.predict(X_test)\n",
        "        \n",
        "        # Calcular la precisión del modelo\n",
        "        accuracy = accuracy_score(y_test, y_pred)\n",
        "\n",
        "        #Error medio \n",
        "        mse = mean_squared_error(y_test, y_pred)\n",
        "        rmse = sqrt(mse)        \n",
        "        \n",
        "        # Imprimir la configuración y la precisión del modelo\n",
        "        table.add_row([k, metric, accuracy, rmse])\n",
        "        #print('k={}, metric={}, accuracy={}, error_medio={}'.format(k, metric, accuracy, rmse))\n",
        "\n",
        "print(table)"
      ],
      "metadata": {
        "id": "3TX0xAtIIVWB",
        "outputId": "e98856a3-17c0-49bf-8a02-9d116d782fdf",
        "colab": {
          "base_uri": "https://localhost:8080/"
        }
      },
      "id": "3TX0xAtIIVWB",
      "execution_count": 16,
      "outputs": [
        {
          "output_type": "stream",
          "name": "stderr",
          "text": [
            "<ipython-input-16-d6a467441175>:8: SettingWithCopyWarning: \n",
            "A value is trying to be set on a copy of a slice from a DataFrame.\n",
            "Try using .loc[row_indexer,col_indexer] = value instead\n",
            "\n",
            "See the caveats in the documentation: https://pandas.pydata.org/pandas-docs/stable/user_guide/indexing.html#returning-a-view-versus-a-copy\n",
            "  dataPruebaX[col] = le.fit_transform(dataPruebaX[col])\n",
            "<ipython-input-16-d6a467441175>:8: SettingWithCopyWarning: \n",
            "A value is trying to be set on a copy of a slice from a DataFrame.\n",
            "Try using .loc[row_indexer,col_indexer] = value instead\n",
            "\n",
            "See the caveats in the documentation: https://pandas.pydata.org/pandas-docs/stable/user_guide/indexing.html#returning-a-view-versus-a-copy\n",
            "  dataPruebaX[col] = le.fit_transform(dataPruebaX[col])\n",
            "<ipython-input-16-d6a467441175>:8: SettingWithCopyWarning: \n",
            "A value is trying to be set on a copy of a slice from a DataFrame.\n",
            "Try using .loc[row_indexer,col_indexer] = value instead\n",
            "\n",
            "See the caveats in the documentation: https://pandas.pydata.org/pandas-docs/stable/user_guide/indexing.html#returning-a-view-versus-a-copy\n",
            "  dataPruebaX[col] = le.fit_transform(dataPruebaX[col])\n",
            "<ipython-input-16-d6a467441175>:8: SettingWithCopyWarning: \n",
            "A value is trying to be set on a copy of a slice from a DataFrame.\n",
            "Try using .loc[row_indexer,col_indexer] = value instead\n",
            "\n",
            "See the caveats in the documentation: https://pandas.pydata.org/pandas-docs/stable/user_guide/indexing.html#returning-a-view-versus-a-copy\n",
            "  dataPruebaX[col] = le.fit_transform(dataPruebaX[col])\n",
            "<ipython-input-16-d6a467441175>:8: SettingWithCopyWarning: \n",
            "A value is trying to be set on a copy of a slice from a DataFrame.\n",
            "Try using .loc[row_indexer,col_indexer] = value instead\n",
            "\n",
            "See the caveats in the documentation: https://pandas.pydata.org/pandas-docs/stable/user_guide/indexing.html#returning-a-view-versus-a-copy\n",
            "  dataPruebaX[col] = le.fit_transform(dataPruebaX[col])\n",
            "<ipython-input-16-d6a467441175>:8: SettingWithCopyWarning: \n",
            "A value is trying to be set on a copy of a slice from a DataFrame.\n",
            "Try using .loc[row_indexer,col_indexer] = value instead\n",
            "\n",
            "See the caveats in the documentation: https://pandas.pydata.org/pandas-docs/stable/user_guide/indexing.html#returning-a-view-versus-a-copy\n",
            "  dataPruebaX[col] = le.fit_transform(dataPruebaX[col])\n",
            "<ipython-input-16-d6a467441175>:12: SettingWithCopyWarning: \n",
            "A value is trying to be set on a copy of a slice from a DataFrame.\n",
            "Try using .loc[row_indexer,col_indexer] = value instead\n",
            "\n",
            "See the caveats in the documentation: https://pandas.pydata.org/pandas-docs/stable/user_guide/indexing.html#returning-a-view-versus-a-copy\n",
            "  dataPruebaY[col] = le.fit_transform(dataPruebaY[col])\n",
            "/usr/local/lib/python3.9/dist-packages/sklearn/neighbors/_classification.py:215: DataConversionWarning: A column-vector y was passed when a 1d array was expected. Please change the shape of y to (n_samples,), for example using ravel().\n",
            "  return self._fit(X, y)\n",
            "/usr/local/lib/python3.9/dist-packages/sklearn/neighbors/_classification.py:215: DataConversionWarning: A column-vector y was passed when a 1d array was expected. Please change the shape of y to (n_samples,), for example using ravel().\n",
            "  return self._fit(X, y)\n",
            "/usr/local/lib/python3.9/dist-packages/sklearn/neighbors/_classification.py:215: DataConversionWarning: A column-vector y was passed when a 1d array was expected. Please change the shape of y to (n_samples,), for example using ravel().\n",
            "  return self._fit(X, y)\n",
            "/usr/local/lib/python3.9/dist-packages/sklearn/neighbors/_classification.py:215: DataConversionWarning: A column-vector y was passed when a 1d array was expected. Please change the shape of y to (n_samples,), for example using ravel().\n",
            "  return self._fit(X, y)\n",
            "/usr/local/lib/python3.9/dist-packages/sklearn/neighbors/_classification.py:215: DataConversionWarning: A column-vector y was passed when a 1d array was expected. Please change the shape of y to (n_samples,), for example using ravel().\n",
            "  return self._fit(X, y)\n",
            "/usr/local/lib/python3.9/dist-packages/sklearn/neighbors/_classification.py:215: DataConversionWarning: A column-vector y was passed when a 1d array was expected. Please change the shape of y to (n_samples,), for example using ravel().\n",
            "  return self._fit(X, y)\n",
            "/usr/local/lib/python3.9/dist-packages/sklearn/neighbors/_classification.py:215: DataConversionWarning: A column-vector y was passed when a 1d array was expected. Please change the shape of y to (n_samples,), for example using ravel().\n",
            "  return self._fit(X, y)\n",
            "/usr/local/lib/python3.9/dist-packages/sklearn/neighbors/_classification.py:215: DataConversionWarning: A column-vector y was passed when a 1d array was expected. Please change the shape of y to (n_samples,), for example using ravel().\n",
            "  return self._fit(X, y)\n",
            "/usr/local/lib/python3.9/dist-packages/sklearn/neighbors/_classification.py:215: DataConversionWarning: A column-vector y was passed when a 1d array was expected. Please change the shape of y to (n_samples,), for example using ravel().\n",
            "  return self._fit(X, y)\n"
          ]
        },
        {
          "output_type": "stream",
          "name": "stdout",
          "text": [
            "+---+-----------+--------------------+--------------------+\n",
            "| k |   metric  |      accuracy      |    error_medio     |\n",
            "+---+-----------+--------------------+--------------------+\n",
            "| 3 | euclidean | 0.8123523331364442 | 0.6862554514139708 |\n",
            "| 3 | manhattan | 0.8129245422327229 | 0.6873976323938521 |\n",
            "| 3 | minkowski | 0.8123523331364442 | 0.6862554514139708 |\n",
            "| 5 | euclidean | 0.8366619905493208 | 0.6024812104772607 |\n",
            "| 5 | manhattan | 0.8379171588895452 | 0.6018221494648837 |\n",
            "| 5 | minkowski | 0.8366619905493208 | 0.6024812104772607 |\n",
            "| 7 | euclidean | 0.846961754282339  | 0.5711196400377575 |\n",
            "| 7 | manhattan | 0.8472386296515062 | 0.5709741833177375 |\n",
            "| 7 | minkowski | 0.846961754282339  | 0.5711196400377575 |\n",
            "+---+-----------+--------------------+--------------------+\n"
          ]
        }
      ]
    },
    {
      "cell_type": "markdown",
      "source": [
        "Si observamos los resultados, figuramos que son bastante buenos en este caso. Sin embargo, si los comparamos, nos fijamos en que es indiferente usar la distancia 'Euclidean' o 'Minkowski' ya que obtienen los mismos valores en términos de precisión y error medio cuadrático.\n",
        "\n",
        "Observemos en detalle cada una y busquemos posibles justificaciones:\n",
        "\n",
        "- Euclidean: \n",
        "\n",
        "![image.png](data:image/png;base64,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)\n",
        "\n",
        "- Minkoswki: \n",
        "\n",
        "![image.png](data:image/png;base64,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)\n"
      ],
      "metadata": {
        "id": "qGyeDahKoOuS"
      },
      "id": "qGyeDahKoOuS"
    },
    {
      "cell_type": "markdown",
      "source": [
        "Como se puede ver, ambas fórmulas son idénticas, con la única diferencia de que en la distancia Euclidiana el valor de \"p\" está implícitamente fijado en 2, mientras que en la distancia Minkowski con \"p\" igual a 2 se especifica explícitamente. Por lo tanto, en la práctica, la distancia Euclidiana y la distancia Minkowski con \"p\" igual a 2 darán resultados idénticos cuando se utilicen en la misma situación."
      ],
      "metadata": {
        "id": "kUO8liFRoimK"
      },
      "id": "kUO8liFRoimK"
    },
    {
      "cell_type": "markdown",
      "source": [
        "Observando la tabla obtenida, vemos que las métricas más óptimas son k=7, y distancia Euclídea o Minkowski. \n",
        "\n",
        "Pero analizando posibles errores de este método, observamos que el entrenamiento obtendrá unos valores de precisión dependiendo del órden en el que se encuentren los datos. Veamos esto en detalle: \n",
        "\n",
        "Pongamos el ejemplo de la variable que recoge el año y la temporada (Games), por ejemplo: 1998 Winter. Ahora bien, pongamos que el primer usario registrado en la base de datos, jugó 'Bobsleigh' en la categoría de 'Men's Four' y no obtuvo medalla. Sin embargo, en las próximas olimpiadas, las del 2002, vuelve a participar, y obtiene la medalla de oro. El problema está en que si la segunda participación se recoge en la base de datos más tarde, implica que cuando se codifica, los juegos de 1998 Winter obtienen un valor de 1, mientras que 2002 Winter, obtienen el valor de 18 (por poner un ejemplo). Encontramos una diferencia de 17 unidades, cuando en verdad, estos dos eventos aportan mucha información el uno al otro, ya que muchos individuos que participaron en la primera, vuelven a participar en la segunda. Es por eso que el modelo, tiene que aprender que aunque estén distantes, esos dos eventos, están correlacionados. \n",
        "\n",
        "Es decir, según en qué orden se encuentren los datos, puede que dos eventos que estén correlacionados obtengan una distancia amplia de diferencia, lo que condiciona al modelo.\n",
        "\n",
        "Como no se sabe exactamente qué pesos aumenta o disminuye, es un enigma saber si relaciona bien dichos supuestos, lo que afecta a la precisión del modelo. "
      ],
      "metadata": {
        "id": "4f2PCx-8tYl_"
      },
      "id": "4f2PCx-8tYl_"
    },
    {
      "cell_type": "markdown",
      "source": [
        "Debido a lo que se acaba de explicar, se procede a crear otro modelo pero ahora en vez de codificar para calcular las distancias, se calcularán gracias a One-Hot-Encoding. \n",
        "\n",
        "\n",
        "Encontramos un problema a la hora de realizar este modelo, y es que como tenemos gran cantidad de datos, y gran cantidad de posibles valores para las variables, se deberán seleccionar únicamente 5000 datos, y las variables: ['Sex', 'Age', 'Sport', 'Games', 'Weight', 'Height', 'Medal']. Esto es debido a que el uso de la memoria RAM es limitado, y no puede trabajar con lo deseado.\n",
        "\n",
        "Además, las variables numéricas van a ser categorizadas en tres intervalos: \n",
        "- Edad: Jóven, Media, Mayor\n",
        "- Altura: Bajo, Medio, Alto \n",
        "- Peso: Delgado, En forma, Pesado \n",
        "\n",
        "Esto se hace para el correcto entrenamiento del modelo, así de esta manera cuando se codifica en One - Hot - Encoding, se realizan todas por igual. \n",
        "\n",
        "Por lo que se hace una primera selección de 5000 individuos aleatorios (cada ejecución variará ligeramente en la precisión del modelo, ya que se ha entrenado con datos aleatorios). \n",
        "\n",
        "\n",
        "Y además, la variable nombres también ha tenido que ser eliminada, ya que aumentaba considerablemente el tamaño de la base de datos al implementar el One-Hot-Encoding.\n",
        "\n",
        "Utilizamos los mismos valores para los k individuos vecinos, pero ahora en vez de tener las mismas distancias anteriores, eliminamos una de las dos que obtenía los mismos valores, para añadir la distancia 'hamming', ya que se define como cantidad de posiciones en las que dos vectores binarios difieren. Al haber convertido todas las variables en vectores binarios, sería útil utilizarlo.\n",
        "\n",
        "En este modelo se hará uso de la validación cruzada para el entrenamiento, ya que permite evaluar la capacidad de generalización de un modelo de manera más robusta y confiable. \n",
        "\n",
        "De la misma manera que en el modelo anterior, se imprime una tabla que indique las métricas utilizadas junto a la precisión. "
      ],
      "metadata": {
        "id": "AenAWvxeLKTT"
      },
      "id": "AenAWvxeLKTT"
    },
    {
      "cell_type": "markdown",
      "source": [
        "Procedemos a categorizar las variables como se ha explicado anteriormente: "
      ],
      "metadata": {
        "id": "DqLKZJI7AQuE"
      },
      "id": "DqLKZJI7AQuE"
    },
    {
      "cell_type": "code",
      "source": [
        "#Categorizamos la variable Age \n",
        "corteAge = minAge\n",
        "corteAge2 = maxAge\n",
        "df['Age_cat'] = \"Jóven\"\n",
        "df.loc[(df['Age'] > corteAge) & (df['Age'] <= corteAge2), 'Age_cat'] = \"Media\"\n",
        "df.loc[df['Age'] > corteAge2, 'Age_cat'] = \"Mayor\"\n",
        "\n",
        "#Categorizamos la variable Height \n",
        "corteHeight = minHeight\n",
        "corteHeight2 = maxHeight\n",
        "df['Height_cat'] = \"Bajo\"\n",
        "df.loc[(df['Height'] > corteHeight) & (df['Height'] <= corteHeight2), 'Height_cat'] = \"Medio\"\n",
        "df.loc[df['Height'] > corteHeight2, 'Height_cat'] = \"Alto\"\n",
        "\n",
        "#Categorizamos la variable Weight\n",
        "corteWeight = minWeight\n",
        "corteWeight2 = maxWeight\n",
        "df['Weight_cat'] = \"Delgado\"\n",
        "df.loc[(df['Weight'] > corteWeight) & (df['Weight'] <= corteWeight2), 'Weight_cat'] = \"EnForma\"\n",
        "df.loc[df['Weight'] > corteWeight2, 'Weight_cat'] = \"Pesado\""
      ],
      "metadata": {
        "id": "BmTgHjzf7Hqr"
      },
      "id": "BmTgHjzf7Hqr",
      "execution_count": 17,
      "outputs": []
    },
    {
      "cell_type": "markdown",
      "source": [
        "Se seleccionan 5000 individuos aleatorios e irrepetibles "
      ],
      "metadata": {
        "id": "r4JxzpqoAUc1"
      },
      "id": "r4JxzpqoAUc1"
    },
    {
      "cell_type": "code",
      "source": [
        "# Obtener el número total de filas en el DataFrame\n",
        "num_filas = df.shape[0]\n",
        "\n",
        "# Generar 5000 índices aleatorios\n",
        "indices_aleatorios = random.sample(range(num_filas), 5000)\n",
        "\n",
        "# Seleccionar las filas correspondientes a los índices aleatorios\n",
        "df_5000 = df.iloc[indices_aleatorios]"
      ],
      "metadata": {
        "id": "nTJHepia7KRW"
      },
      "id": "nTJHepia7KRW",
      "execution_count": 18,
      "outputs": []
    },
    {
      "cell_type": "markdown",
      "source": [
        "Comenzamos con la selección de las variables, las codificamos, y entrenamos el modelo de la misma manera que se realizó el anterior, esta vez con validación cruzada, añadiendo los valores de las métricas y la precisión a la tabla."
      ],
      "metadata": {
        "id": "MjEUQGClAcNw"
      },
      "id": "MjEUQGClAcNw"
    },
    {
      "cell_type": "code",
      "source": [
        "#Seleccionamos las variables con las que se va a trabajar\n",
        "dataPruebaX=df_5000[['Sex', 'Age_cat', 'Sport', 'Games', 'Weight_cat', 'Height_cat']]\n",
        "dataPruebaY= df_5000[['Medal']]\n",
        "\n",
        "\n",
        "encoder=OneHotEncoder()\n",
        "dataPruebaX=encoder.fit_transform(dataPruebaX).toarray()\n",
        "\n",
        "\n",
        "\n",
        "X_train, X_test, y_train, y_test = train_test_split(dataPruebaX, dataPruebaY, test_size=0.3, random_state=42)\n",
        "\n",
        "\n",
        "# Definir distintas configuraciones de k y distancia\n",
        "k_values = [3, 5, 7]\n",
        "distance_metrics = ['euclidean', 'manhattan', 'hamming']\n",
        "\n",
        "#Creación de tabla\n",
        "table = PrettyTable()\n",
        "table.field_names = [\"k\", \"metric\", \"accuracy\"]\n",
        "\n",
        "# Evaluar el desempeño del modelo para cada configuración de k y distancia\n",
        "for metric in distance_metrics:\n",
        "  k_scores=[]\n",
        "  index=0\n",
        "  for k in k_values:\n",
        "\n",
        "        # Entrenar el modelo\n",
        "        model = KNeighborsClassifier(n_neighbors=k, metric=metric)\n",
        "        \n",
        "\n",
        "        # validación cruzada del modelo\n",
        "        scores=cross_val_score(model, dataPruebaX, dataPruebaY, cv=3, scoring='accuracy') \n",
        "        \n",
        "\n",
        "\n",
        "        k_scores.append(scores.mean())\n",
        "        # Realizar la predicción en el conjunto de prueba\n",
        "        y_pred = cross_val_predict(model, dataPruebaX, dataPruebaY, cv=3)\n",
        "        \n",
        "        \n",
        "\n",
        "\n",
        "        # Imprimir la configuración y la precisión del modelo\n",
        "        table.add_row([k, metric, k_scores[index]])\n",
        "        index=index+1\n",
        "\n",
        "\n",
        "print(table)"
      ],
      "metadata": {
        "id": "mM7Oq_2yIoOD",
        "outputId": "4d9c2b3d-ef11-4a33-907c-fb878311d401",
        "colab": {
          "base_uri": "https://localhost:8080/"
        }
      },
      "id": "mM7Oq_2yIoOD",
      "execution_count": 27,
      "outputs": [
        {
          "output_type": "stream",
          "name": "stderr",
          "text": [
            "/usr/local/lib/python3.9/dist-packages/sklearn/neighbors/_classification.py:215: DataConversionWarning: A column-vector y was passed when a 1d array was expected. Please change the shape of y to (n_samples,), for example using ravel().\n",
            "  return self._fit(X, y)\n",
            "/usr/local/lib/python3.9/dist-packages/sklearn/neighbors/_classification.py:215: DataConversionWarning: A column-vector y was passed when a 1d array was expected. Please change the shape of y to (n_samples,), for example using ravel().\n",
            "  return self._fit(X, y)\n",
            "/usr/local/lib/python3.9/dist-packages/sklearn/neighbors/_classification.py:215: DataConversionWarning: A column-vector y was passed when a 1d array was expected. Please change the shape of y to (n_samples,), for example using ravel().\n",
            "  return self._fit(X, y)\n",
            "/usr/local/lib/python3.9/dist-packages/sklearn/neighbors/_classification.py:215: DataConversionWarning: A column-vector y was passed when a 1d array was expected. Please change the shape of y to (n_samples,), for example using ravel().\n",
            "  return self._fit(X, y)\n",
            "/usr/local/lib/python3.9/dist-packages/sklearn/neighbors/_classification.py:215: DataConversionWarning: A column-vector y was passed when a 1d array was expected. Please change the shape of y to (n_samples,), for example using ravel().\n",
            "  return self._fit(X, y)\n",
            "/usr/local/lib/python3.9/dist-packages/sklearn/neighbors/_classification.py:215: DataConversionWarning: A column-vector y was passed when a 1d array was expected. Please change the shape of y to (n_samples,), for example using ravel().\n",
            "  return self._fit(X, y)\n",
            "/usr/local/lib/python3.9/dist-packages/sklearn/neighbors/_classification.py:215: DataConversionWarning: A column-vector y was passed when a 1d array was expected. Please change the shape of y to (n_samples,), for example using ravel().\n",
            "  return self._fit(X, y)\n",
            "/usr/local/lib/python3.9/dist-packages/sklearn/neighbors/_classification.py:215: DataConversionWarning: A column-vector y was passed when a 1d array was expected. Please change the shape of y to (n_samples,), for example using ravel().\n",
            "  return self._fit(X, y)\n",
            "/usr/local/lib/python3.9/dist-packages/sklearn/neighbors/_classification.py:215: DataConversionWarning: A column-vector y was passed when a 1d array was expected. Please change the shape of y to (n_samples,), for example using ravel().\n",
            "  return self._fit(X, y)\n",
            "/usr/local/lib/python3.9/dist-packages/sklearn/neighbors/_classification.py:215: DataConversionWarning: A column-vector y was passed when a 1d array was expected. Please change the shape of y to (n_samples,), for example using ravel().\n",
            "  return self._fit(X, y)\n",
            "/usr/local/lib/python3.9/dist-packages/sklearn/neighbors/_classification.py:215: DataConversionWarning: A column-vector y was passed when a 1d array was expected. Please change the shape of y to (n_samples,), for example using ravel().\n",
            "  return self._fit(X, y)\n",
            "/usr/local/lib/python3.9/dist-packages/sklearn/neighbors/_classification.py:215: DataConversionWarning: A column-vector y was passed when a 1d array was expected. Please change the shape of y to (n_samples,), for example using ravel().\n",
            "  return self._fit(X, y)\n",
            "/usr/local/lib/python3.9/dist-packages/sklearn/neighbors/_classification.py:215: DataConversionWarning: A column-vector y was passed when a 1d array was expected. Please change the shape of y to (n_samples,), for example using ravel().\n",
            "  return self._fit(X, y)\n",
            "/usr/local/lib/python3.9/dist-packages/sklearn/neighbors/_classification.py:215: DataConversionWarning: A column-vector y was passed when a 1d array was expected. Please change the shape of y to (n_samples,), for example using ravel().\n",
            "  return self._fit(X, y)\n",
            "/usr/local/lib/python3.9/dist-packages/sklearn/neighbors/_classification.py:215: DataConversionWarning: A column-vector y was passed when a 1d array was expected. Please change the shape of y to (n_samples,), for example using ravel().\n",
            "  return self._fit(X, y)\n",
            "/usr/local/lib/python3.9/dist-packages/sklearn/neighbors/_classification.py:215: DataConversionWarning: A column-vector y was passed when a 1d array was expected. Please change the shape of y to (n_samples,), for example using ravel().\n",
            "  return self._fit(X, y)\n",
            "/usr/local/lib/python3.9/dist-packages/sklearn/neighbors/_classification.py:215: DataConversionWarning: A column-vector y was passed when a 1d array was expected. Please change the shape of y to (n_samples,), for example using ravel().\n",
            "  return self._fit(X, y)\n",
            "/usr/local/lib/python3.9/dist-packages/sklearn/neighbors/_classification.py:215: DataConversionWarning: A column-vector y was passed when a 1d array was expected. Please change the shape of y to (n_samples,), for example using ravel().\n",
            "  return self._fit(X, y)\n",
            "/usr/local/lib/python3.9/dist-packages/sklearn/neighbors/_classification.py:215: DataConversionWarning: A column-vector y was passed when a 1d array was expected. Please change the shape of y to (n_samples,), for example using ravel().\n",
            "  return self._fit(X, y)\n",
            "/usr/local/lib/python3.9/dist-packages/sklearn/neighbors/_classification.py:215: DataConversionWarning: A column-vector y was passed when a 1d array was expected. Please change the shape of y to (n_samples,), for example using ravel().\n",
            "  return self._fit(X, y)\n",
            "/usr/local/lib/python3.9/dist-packages/sklearn/neighbors/_classification.py:215: DataConversionWarning: A column-vector y was passed when a 1d array was expected. Please change the shape of y to (n_samples,), for example using ravel().\n",
            "  return self._fit(X, y)\n",
            "/usr/local/lib/python3.9/dist-packages/sklearn/neighbors/_classification.py:215: DataConversionWarning: A column-vector y was passed when a 1d array was expected. Please change the shape of y to (n_samples,), for example using ravel().\n",
            "  return self._fit(X, y)\n",
            "/usr/local/lib/python3.9/dist-packages/sklearn/neighbors/_classification.py:215: DataConversionWarning: A column-vector y was passed when a 1d array was expected. Please change the shape of y to (n_samples,), for example using ravel().\n",
            "  return self._fit(X, y)\n",
            "/usr/local/lib/python3.9/dist-packages/sklearn/neighbors/_classification.py:215: DataConversionWarning: A column-vector y was passed when a 1d array was expected. Please change the shape of y to (n_samples,), for example using ravel().\n",
            "  return self._fit(X, y)\n",
            "/usr/local/lib/python3.9/dist-packages/sklearn/neighbors/_classification.py:215: DataConversionWarning: A column-vector y was passed when a 1d array was expected. Please change the shape of y to (n_samples,), for example using ravel().\n",
            "  return self._fit(X, y)\n",
            "/usr/local/lib/python3.9/dist-packages/sklearn/neighbors/_classification.py:215: DataConversionWarning: A column-vector y was passed when a 1d array was expected. Please change the shape of y to (n_samples,), for example using ravel().\n",
            "  return self._fit(X, y)\n",
            "/usr/local/lib/python3.9/dist-packages/sklearn/neighbors/_classification.py:215: DataConversionWarning: A column-vector y was passed when a 1d array was expected. Please change the shape of y to (n_samples,), for example using ravel().\n",
            "  return self._fit(X, y)\n",
            "/usr/local/lib/python3.9/dist-packages/sklearn/neighbors/_classification.py:215: DataConversionWarning: A column-vector y was passed when a 1d array was expected. Please change the shape of y to (n_samples,), for example using ravel().\n",
            "  return self._fit(X, y)\n",
            "/usr/local/lib/python3.9/dist-packages/sklearn/neighbors/_classification.py:215: DataConversionWarning: A column-vector y was passed when a 1d array was expected. Please change the shape of y to (n_samples,), for example using ravel().\n",
            "  return self._fit(X, y)\n",
            "/usr/local/lib/python3.9/dist-packages/sklearn/neighbors/_classification.py:215: DataConversionWarning: A column-vector y was passed when a 1d array was expected. Please change the shape of y to (n_samples,), for example using ravel().\n",
            "  return self._fit(X, y)\n",
            "/usr/local/lib/python3.9/dist-packages/sklearn/neighbors/_classification.py:215: DataConversionWarning: A column-vector y was passed when a 1d array was expected. Please change the shape of y to (n_samples,), for example using ravel().\n",
            "  return self._fit(X, y)\n",
            "/usr/local/lib/python3.9/dist-packages/sklearn/neighbors/_classification.py:215: DataConversionWarning: A column-vector y was passed when a 1d array was expected. Please change the shape of y to (n_samples,), for example using ravel().\n",
            "  return self._fit(X, y)\n",
            "/usr/local/lib/python3.9/dist-packages/sklearn/neighbors/_classification.py:215: DataConversionWarning: A column-vector y was passed when a 1d array was expected. Please change the shape of y to (n_samples,), for example using ravel().\n",
            "  return self._fit(X, y)\n",
            "/usr/local/lib/python3.9/dist-packages/sklearn/neighbors/_classification.py:215: DataConversionWarning: A column-vector y was passed when a 1d array was expected. Please change the shape of y to (n_samples,), for example using ravel().\n",
            "  return self._fit(X, y)\n",
            "/usr/local/lib/python3.9/dist-packages/sklearn/neighbors/_classification.py:215: DataConversionWarning: A column-vector y was passed when a 1d array was expected. Please change the shape of y to (n_samples,), for example using ravel().\n",
            "  return self._fit(X, y)\n",
            "/usr/local/lib/python3.9/dist-packages/sklearn/neighbors/_classification.py:215: DataConversionWarning: A column-vector y was passed when a 1d array was expected. Please change the shape of y to (n_samples,), for example using ravel().\n",
            "  return self._fit(X, y)\n",
            "/usr/local/lib/python3.9/dist-packages/sklearn/neighbors/_classification.py:215: DataConversionWarning: A column-vector y was passed when a 1d array was expected. Please change the shape of y to (n_samples,), for example using ravel().\n",
            "  return self._fit(X, y)\n",
            "/usr/local/lib/python3.9/dist-packages/sklearn/neighbors/_classification.py:215: DataConversionWarning: A column-vector y was passed when a 1d array was expected. Please change the shape of y to (n_samples,), for example using ravel().\n",
            "  return self._fit(X, y)\n",
            "/usr/local/lib/python3.9/dist-packages/sklearn/neighbors/_classification.py:215: DataConversionWarning: A column-vector y was passed when a 1d array was expected. Please change the shape of y to (n_samples,), for example using ravel().\n",
            "  return self._fit(X, y)\n",
            "/usr/local/lib/python3.9/dist-packages/sklearn/neighbors/_classification.py:215: DataConversionWarning: A column-vector y was passed when a 1d array was expected. Please change the shape of y to (n_samples,), for example using ravel().\n",
            "  return self._fit(X, y)\n",
            "/usr/local/lib/python3.9/dist-packages/sklearn/neighbors/_classification.py:215: DataConversionWarning: A column-vector y was passed when a 1d array was expected. Please change the shape of y to (n_samples,), for example using ravel().\n",
            "  return self._fit(X, y)\n",
            "/usr/local/lib/python3.9/dist-packages/sklearn/neighbors/_classification.py:215: DataConversionWarning: A column-vector y was passed when a 1d array was expected. Please change the shape of y to (n_samples,), for example using ravel().\n",
            "  return self._fit(X, y)\n",
            "/usr/local/lib/python3.9/dist-packages/sklearn/neighbors/_classification.py:215: DataConversionWarning: A column-vector y was passed when a 1d array was expected. Please change the shape of y to (n_samples,), for example using ravel().\n",
            "  return self._fit(X, y)\n",
            "/usr/local/lib/python3.9/dist-packages/sklearn/neighbors/_classification.py:215: DataConversionWarning: A column-vector y was passed when a 1d array was expected. Please change the shape of y to (n_samples,), for example using ravel().\n",
            "  return self._fit(X, y)\n",
            "/usr/local/lib/python3.9/dist-packages/sklearn/neighbors/_classification.py:215: DataConversionWarning: A column-vector y was passed when a 1d array was expected. Please change the shape of y to (n_samples,), for example using ravel().\n",
            "  return self._fit(X, y)\n",
            "/usr/local/lib/python3.9/dist-packages/sklearn/neighbors/_classification.py:215: DataConversionWarning: A column-vector y was passed when a 1d array was expected. Please change the shape of y to (n_samples,), for example using ravel().\n",
            "  return self._fit(X, y)\n",
            "/usr/local/lib/python3.9/dist-packages/sklearn/neighbors/_classification.py:215: DataConversionWarning: A column-vector y was passed when a 1d array was expected. Please change the shape of y to (n_samples,), for example using ravel().\n",
            "  return self._fit(X, y)\n",
            "/usr/local/lib/python3.9/dist-packages/sklearn/neighbors/_classification.py:215: DataConversionWarning: A column-vector y was passed when a 1d array was expected. Please change the shape of y to (n_samples,), for example using ravel().\n",
            "  return self._fit(X, y)\n",
            "/usr/local/lib/python3.9/dist-packages/sklearn/neighbors/_classification.py:215: DataConversionWarning: A column-vector y was passed when a 1d array was expected. Please change the shape of y to (n_samples,), for example using ravel().\n",
            "  return self._fit(X, y)\n",
            "/usr/local/lib/python3.9/dist-packages/sklearn/neighbors/_classification.py:215: DataConversionWarning: A column-vector y was passed when a 1d array was expected. Please change the shape of y to (n_samples,), for example using ravel().\n",
            "  return self._fit(X, y)\n",
            "/usr/local/lib/python3.9/dist-packages/sklearn/neighbors/_classification.py:215: DataConversionWarning: A column-vector y was passed when a 1d array was expected. Please change the shape of y to (n_samples,), for example using ravel().\n",
            "  return self._fit(X, y)\n",
            "/usr/local/lib/python3.9/dist-packages/sklearn/neighbors/_classification.py:215: DataConversionWarning: A column-vector y was passed when a 1d array was expected. Please change the shape of y to (n_samples,), for example using ravel().\n",
            "  return self._fit(X, y)\n",
            "/usr/local/lib/python3.9/dist-packages/sklearn/neighbors/_classification.py:215: DataConversionWarning: A column-vector y was passed when a 1d array was expected. Please change the shape of y to (n_samples,), for example using ravel().\n",
            "  return self._fit(X, y)\n",
            "/usr/local/lib/python3.9/dist-packages/sklearn/neighbors/_classification.py:215: DataConversionWarning: A column-vector y was passed when a 1d array was expected. Please change the shape of y to (n_samples,), for example using ravel().\n",
            "  return self._fit(X, y)\n"
          ]
        },
        {
          "output_type": "stream",
          "name": "stdout",
          "text": [
            "+---+-----------+--------------------+\n",
            "| k |   metric  |      accuracy      |\n",
            "+---+-----------+--------------------+\n",
            "| 3 | euclidean | 0.819600545677179  |\n",
            "| 5 | euclidean | 0.8449994274854514 |\n",
            "| 7 | euclidean | 0.8548001084056898 |\n",
            "| 3 | manhattan | 0.819600545677179  |\n",
            "| 5 | manhattan | 0.8449994274854514 |\n",
            "| 7 | manhattan | 0.8548001084056898 |\n",
            "| 3 |  hamming  | 0.8190004256051551 |\n",
            "| 5 |  hamming  | 0.8459999476695298 |\n",
            "| 7 |  hamming  | 0.8555999484376834 |\n",
            "+---+-----------+--------------------+\n"
          ]
        }
      ]
    },
    {
      "cell_type": "markdown",
      "source": [
        "Se puede observar que la precisión no mejora considerablemente. Esto se puede deber a la reducción de datos, y omisión de variables que se ha realizado, ya que limita al modelo en el entrenamiento. Si los recursos fuesen mayores, el entrenamiento podría mejorar, lo que supondría una mejora en la precisión de este. \n",
        "\n",
        "Los resultados del modelo con menos datos en el entrenamiento son prometedores y muestran una similitud considerable en la precisión con el modelo anterior con más datos. Se espera que al aumentar los recursos y, por tanto, los datos de entrenamiento, la precisión del modelo mejore significativamente debido a un mayor poder de generalización y capacidad para aprender patrones más complejos.\n"
      ],
      "metadata": {
        "id": "XhyyBVJLUCap"
      },
      "id": "XhyyBVJLUCap"
    },
    {
      "cell_type": "markdown",
      "source": [
        "\n",
        "Veamos la matriz de confusión en la cual representa los valores reales frente a las predicciones: "
      ],
      "metadata": {
        "id": "9ftP6usELq9A"
      },
      "id": "9ftP6usELq9A"
    },
    {
      "cell_type": "code",
      "source": [
        "from sklearn.metrics import classification_report\n",
        "\n",
        "dataPruebaX = df[['Name', 'Sex', 'Age', 'Sport', 'Games', 'NOC', 'Event', 'Weight', 'Height']]\n",
        "dataPruebaY = df[['Medal']]\n",
        "\n",
        "le = LabelEncoder()\n",
        "\n",
        "for col in dataPruebaX.columns:\n",
        "    if dataPruebaX[col].dtype == 'object':\n",
        "        dataPruebaX.loc[:, col] = le.fit_transform(dataPruebaX[col])\n",
        "\n",
        "for col in dataPruebaY.columns:\n",
        "    if dataPruebaY[col].dtype == 'object':\n",
        "        dataPruebaY.loc[:, col] = le.fit_transform(dataPruebaY[col])\n",
        "\n",
        "# Dividir el conjunto de datos en un conjunto de entrenamiento y un conjunto de prueba\n",
        "X_train, X_test, y_train, y_test = train_test_split(dataPruebaX, dataPruebaY, test_size=0.2, random_state=42)\n",
        "\n",
        "# Entrenar el modelo\n",
        "model = KNeighborsClassifier(n_neighbors=7, metric=\"manhattan\")\n",
        "model.fit(X_train, y_train)\n",
        "\n",
        "# Predicción del modelo para la cración de la matriz de confusión\n",
        "y_pred = model.predict(X_test)\n",
        "\n",
        "# Imprimir matriz de confusión\n",
        "print(confusion_matrix(y_test, y_pred))\n",
        "\n",
        "\n"
      ],
      "metadata": {
        "id": "VvL7Dlr9L5SM",
        "outputId": "b70f6aba-718a-4c49-bd4b-3b3377da465c",
        "colab": {
          "base_uri": "https://localhost:8080/"
        }
      },
      "id": "VvL7Dlr9L5SM",
      "execution_count": 36,
      "outputs": [
        {
          "output_type": "stream",
          "name": "stderr",
          "text": [
            "<ipython-input-36-ace04cb932da>:10: SettingWithCopyWarning: \n",
            "A value is trying to be set on a copy of a slice from a DataFrame.\n",
            "Try using .loc[row_indexer,col_indexer] = value instead\n",
            "\n",
            "See the caveats in the documentation: https://pandas.pydata.org/pandas-docs/stable/user_guide/indexing.html#returning-a-view-versus-a-copy\n",
            "  dataPruebaX.loc[:, col] = le.fit_transform(dataPruebaX[col])\n",
            "<ipython-input-36-ace04cb932da>:10: DeprecationWarning: In a future version, `df.iloc[:, i] = newvals` will attempt to set the values inplace instead of always setting a new array. To retain the old behavior, use either `df[df.columns[i]] = newvals` or, if columns are non-unique, `df.isetitem(i, newvals)`\n",
            "  dataPruebaX.loc[:, col] = le.fit_transform(dataPruebaX[col])\n",
            "<ipython-input-36-ace04cb932da>:10: SettingWithCopyWarning: \n",
            "A value is trying to be set on a copy of a slice from a DataFrame.\n",
            "Try using .loc[row_indexer,col_indexer] = value instead\n",
            "\n",
            "See the caveats in the documentation: https://pandas.pydata.org/pandas-docs/stable/user_guide/indexing.html#returning-a-view-versus-a-copy\n",
            "  dataPruebaX.loc[:, col] = le.fit_transform(dataPruebaX[col])\n",
            "<ipython-input-36-ace04cb932da>:10: DeprecationWarning: In a future version, `df.iloc[:, i] = newvals` will attempt to set the values inplace instead of always setting a new array. To retain the old behavior, use either `df[df.columns[i]] = newvals` or, if columns are non-unique, `df.isetitem(i, newvals)`\n",
            "  dataPruebaX.loc[:, col] = le.fit_transform(dataPruebaX[col])\n",
            "<ipython-input-36-ace04cb932da>:10: SettingWithCopyWarning: \n",
            "A value is trying to be set on a copy of a slice from a DataFrame.\n",
            "Try using .loc[row_indexer,col_indexer] = value instead\n",
            "\n",
            "See the caveats in the documentation: https://pandas.pydata.org/pandas-docs/stable/user_guide/indexing.html#returning-a-view-versus-a-copy\n",
            "  dataPruebaX.loc[:, col] = le.fit_transform(dataPruebaX[col])\n",
            "<ipython-input-36-ace04cb932da>:10: DeprecationWarning: In a future version, `df.iloc[:, i] = newvals` will attempt to set the values inplace instead of always setting a new array. To retain the old behavior, use either `df[df.columns[i]] = newvals` or, if columns are non-unique, `df.isetitem(i, newvals)`\n",
            "  dataPruebaX.loc[:, col] = le.fit_transform(dataPruebaX[col])\n",
            "<ipython-input-36-ace04cb932da>:10: SettingWithCopyWarning: \n",
            "A value is trying to be set on a copy of a slice from a DataFrame.\n",
            "Try using .loc[row_indexer,col_indexer] = value instead\n",
            "\n",
            "See the caveats in the documentation: https://pandas.pydata.org/pandas-docs/stable/user_guide/indexing.html#returning-a-view-versus-a-copy\n",
            "  dataPruebaX.loc[:, col] = le.fit_transform(dataPruebaX[col])\n",
            "<ipython-input-36-ace04cb932da>:10: DeprecationWarning: In a future version, `df.iloc[:, i] = newvals` will attempt to set the values inplace instead of always setting a new array. To retain the old behavior, use either `df[df.columns[i]] = newvals` or, if columns are non-unique, `df.isetitem(i, newvals)`\n",
            "  dataPruebaX.loc[:, col] = le.fit_transform(dataPruebaX[col])\n",
            "<ipython-input-36-ace04cb932da>:10: SettingWithCopyWarning: \n",
            "A value is trying to be set on a copy of a slice from a DataFrame.\n",
            "Try using .loc[row_indexer,col_indexer] = value instead\n",
            "\n",
            "See the caveats in the documentation: https://pandas.pydata.org/pandas-docs/stable/user_guide/indexing.html#returning-a-view-versus-a-copy\n",
            "  dataPruebaX.loc[:, col] = le.fit_transform(dataPruebaX[col])\n",
            "<ipython-input-36-ace04cb932da>:10: DeprecationWarning: In a future version, `df.iloc[:, i] = newvals` will attempt to set the values inplace instead of always setting a new array. To retain the old behavior, use either `df[df.columns[i]] = newvals` or, if columns are non-unique, `df.isetitem(i, newvals)`\n",
            "  dataPruebaX.loc[:, col] = le.fit_transform(dataPruebaX[col])\n",
            "<ipython-input-36-ace04cb932da>:10: SettingWithCopyWarning: \n",
            "A value is trying to be set on a copy of a slice from a DataFrame.\n",
            "Try using .loc[row_indexer,col_indexer] = value instead\n",
            "\n",
            "See the caveats in the documentation: https://pandas.pydata.org/pandas-docs/stable/user_guide/indexing.html#returning-a-view-versus-a-copy\n",
            "  dataPruebaX.loc[:, col] = le.fit_transform(dataPruebaX[col])\n",
            "<ipython-input-36-ace04cb932da>:10: DeprecationWarning: In a future version, `df.iloc[:, i] = newvals` will attempt to set the values inplace instead of always setting a new array. To retain the old behavior, use either `df[df.columns[i]] = newvals` or, if columns are non-unique, `df.isetitem(i, newvals)`\n",
            "  dataPruebaX.loc[:, col] = le.fit_transform(dataPruebaX[col])\n",
            "<ipython-input-36-ace04cb932da>:14: SettingWithCopyWarning: \n",
            "A value is trying to be set on a copy of a slice from a DataFrame.\n",
            "Try using .loc[row_indexer,col_indexer] = value instead\n",
            "\n",
            "See the caveats in the documentation: https://pandas.pydata.org/pandas-docs/stable/user_guide/indexing.html#returning-a-view-versus-a-copy\n",
            "  dataPruebaY.loc[:, col] = le.fit_transform(dataPruebaY[col])\n",
            "<ipython-input-36-ace04cb932da>:14: DeprecationWarning: In a future version, `df.iloc[:, i] = newvals` will attempt to set the values inplace instead of always setting a new array. To retain the old behavior, use either `df[df.columns[i]] = newvals` or, if columns are non-unique, `df.isetitem(i, newvals)`\n",
            "  dataPruebaY.loc[:, col] = le.fit_transform(dataPruebaY[col])\n",
            "/usr/local/lib/python3.9/dist-packages/sklearn/neighbors/_classification.py:215: DataConversionWarning: A column-vector y was passed when a 1d array was expected. Please change the shape of y to (n_samples,), for example using ravel().\n",
            "  return self._fit(X, y)\n"
          ]
        },
        {
          "output_type": "stream",
          "name": "stdout",
          "text": [
            "[[   73   100  2383    31]\n",
            " [   78   301  2145    52]\n",
            " [  314   504 45481   144]\n",
            " [   60   137  2328    45]]\n",
            "              precision    recall  f1-score   support\n",
            "\n",
            "           0       0.14      0.03      0.05      2587\n",
            "           1       0.29      0.12      0.17      2576\n",
            "           2       0.87      0.98      0.92     46443\n",
            "           3       0.17      0.02      0.03      2570\n",
            "\n",
            "    accuracy                           0.85     54176\n",
            "   macro avg       0.37      0.29      0.29     54176\n",
            "weighted avg       0.77      0.85      0.80     54176\n",
            "\n"
          ]
        }
      ]
    },
    {
      "cell_type": "markdown",
      "source": [
        "Observando la matriz de confusión, vemos que la diagonal son todos los resultados que ha predicho correctamente. Vemos que predomina los aciertos sobre la medalla [2], pero claro, en la codificación hemos perdido el valor real de este. Busquemos a ver en la base de datos y el vector codificado el valor 2, para así obtener la fila, y ya buscar en la base de datos a qué corresponde: "
      ],
      "metadata": {
        "id": "G4E9q3lfOOo8"
      },
      "id": "G4E9q3lfOOo8"
    },
    {
      "cell_type": "code",
      "source": [
        "# Buscar el valor 3 en el vector \"dataPruebaY\"\n",
        "index = np.where(dataPruebaY == 2)[0][0]  # Obtenemos el primer índice donde se encuentra el valor 3\n",
        "\n",
        "# Acceder a la fila 62 en el DataFrame\n",
        "fila_62 = df.iloc[62]\n",
        "\n",
        "# Mostrar la fila 62\n",
        "print(fila_62)"
      ],
      "metadata": {
        "id": "sCiG7ZDAP8pd",
        "outputId": "72bd39dd-e8b6-4008-a518-429626c002e8",
        "colab": {
          "base_uri": "https://localhost:8080/"
        }
      },
      "id": "sCiG7ZDAP8pd",
      "execution_count": 40,
      "outputs": [
        {
          "output_type": "stream",
          "name": "stdout",
          "text": [
            "Name                  Kjetil Andr Aamodt\n",
            "Sex                                    M\n",
            "Age                                 20.0\n",
            "Height                             176.0\n",
            "Sport                      Alpine Skiing\n",
            "Weight                              85.0\n",
            "Games                        1992 Winter\n",
            "NOC                                  NOR\n",
            "Event         Alpine Skiing Men's Slalom\n",
            "Medal                            NpMedal\n",
            "Age_cat                            Media\n",
            "Height_cat                         Medio\n",
            "Weight_cat                       EnForma\n",
            "Name: 62, dtype: object\n"
          ]
        }
      ]
    },
    {
      "cell_type": "markdown",
      "source": [
        "Vemos por tanto que el primer participante con medalla [2], es en verdad no haber ganado medalla. Por ello hay tanta cantidad de aciertos, porque en esta base de datos predomina los NpMedal. \n",
        "\n",
        "Lo que se encuentra fuera de la diagonal, se consideran errores de predicción, que en algunos casos, se puede considerar elevado, pero teniendo en cuenta la cantidad de datos que hay, y que al final este modelo tiene una predicción del 85%, se pueden justificar. "
      ],
      "metadata": {
        "id": "7nuZo8kMQC6X"
      },
      "id": "7nuZo8kMQC6X"
    },
    {
      "cell_type": "code",
      "source": [
        "print(classification_report(y_test, y_pred))"
      ],
      "metadata": {
        "id": "Q7_fJ5JVSChu",
        "outputId": "61915978-e0d5-46b8-f410-b13e31fe903a",
        "colab": {
          "base_uri": "https://localhost:8080/"
        }
      },
      "id": "Q7_fJ5JVSChu",
      "execution_count": 41,
      "outputs": [
        {
          "output_type": "stream",
          "name": "stdout",
          "text": [
            "              precision    recall  f1-score   support\n",
            "\n",
            "           0       0.14      0.03      0.05      2587\n",
            "           1       0.29      0.12      0.17      2576\n",
            "           2       0.87      0.98      0.92     46443\n",
            "           3       0.17      0.02      0.03      2570\n",
            "\n",
            "    accuracy                           0.85     54176\n",
            "   macro avg       0.37      0.29      0.29     54176\n",
            "weighted avg       0.77      0.85      0.80     54176\n",
            "\n"
          ]
        }
      ]
    },
    {
      "cell_type": "markdown",
      "source": [
        "Observando el reporte del clasificador, se confirma por tanto la sospecha de la cantidad de medallas NpMedal. Gran parte de la base de datos consta de esta medalla mencionada, por lo que en el entrenamiento ha \"aprendido\" bien sobre estas, pero no ha podido estudiar el resto debido a una falta de información. \n",
        "\n",
        "Esto es entendible, ya que a lo mejor en una carrera de atletismo en la que participan 12 individuos, únicamente 3 obtienen medalla, por lo que al final 9 de ellos ya se encuentran en NpMedal. Si esto lo extrapolamos al resto de deportes, de eventos, y de olimpiadas, es razonable obtener estos resultados. \n",
        "\n",
        "Lo podemos respaldar con la columna 'support' que vemos en el reporte, ya que este consta la cantidad de instancias en cada clase del conjunto de pruebas, se ve una clara diferencia con el resto."
      ],
      "metadata": {
        "id": "3iYo023vQiTG"
      },
      "id": "3iYo023vQiTG"
    },
    {
      "cell_type": "markdown",
      "source": [
        "Para la representación de los individuos, se hará uso del primer modelo creado, es decir el de la codificación de etiquetas categóricas en forma numérica. \n",
        "\n",
        "\n",
        "Pero encontramos un problema, y es que se están usando 9 variables en la representación, y si se quiere conseguir una correcta interpretación, no se puede hacer una representación de 9 dimensiones, por lo que recurriremos a la reducción de dimensionalidad, a PCA, ya que este transforma un conjunto de variables originales en un conjunto de nuevas variables no correlacionadas llamadas componentes principales, con el objetivo de reducir el número de dimensiones o variables en los datos, manteniendo la mayor parte de la variabilidad de los datos originales. \n",
        "\n",
        "De esta manera podremos hacer una representación de 3 dimensiones. "
      ],
      "metadata": {
        "id": "vxKrMJxFCj1p"
      },
      "id": "vxKrMJxFCj1p"
    },
    {
      "cell_type": "code",
      "source": [
        "\n",
        "dataPruebaX=df[['Name', 'Sex', 'Age', 'Sport', 'Games', 'NOC', 'Event', 'Weight', 'Height']]\n",
        "dataPruebaY= df[['Medal']]\n",
        "\n",
        "\n",
        "\n",
        "le = LabelEncoder()\n",
        "\n",
        "for col in dataPruebaX.columns:\n",
        "    if dataPruebaX[col].dtype == 'object':\n",
        "        dataPruebaX[col] = le.fit_transform(dataPruebaX[col])\n",
        "\n",
        "for col in dataPruebaY.columns:\n",
        "    if dataPruebaY[col].dtype == 'object':\n",
        "        dataPruebaY[col] = le.fit_transform(dataPruebaY[col])\n",
        "\n",
        "# Ejecutar PCA para reducir a tres dimensiones\n",
        "pca = PCA(n_components=3)\n",
        "X_pca = pca.fit_transform(dataPruebaX)\n",
        "\n",
        "# Crear instancia de clasificador KNN\n",
        "model = KNeighborsClassifier(n_neighbors=7, metric=\"manhattan\")\n",
        "\n",
        "# Entrenar modelo con datos proyectados en 3D\n",
        "model.fit(X_pca, dataPruebaY)\n",
        "\n",
        "# Graficar datos en 3D con colores según clase\n",
        "fig = plt.figure()\n",
        "ax = fig.add_subplot(111, projection='3d')\n",
        "ax.scatter(X_pca[:,0], X_pca[:,1], X_pca[:,2], c=dataPruebaY)\n",
        "plt.show()"
      ],
      "metadata": {
        "id": "61LYMDEwIxmt",
        "outputId": "ad6196ac-2a93-41cc-b982-61d30fe05882",
        "colab": {
          "base_uri": "https://localhost:8080/",
          "height": 1000
        }
      },
      "id": "61LYMDEwIxmt",
      "execution_count": null,
      "outputs": [
        {
          "output_type": "stream",
          "name": "stderr",
          "text": [
            "<ipython-input-214-80825e3f1107>:10: SettingWithCopyWarning: \n",
            "A value is trying to be set on a copy of a slice from a DataFrame.\n",
            "Try using .loc[row_indexer,col_indexer] = value instead\n",
            "\n",
            "See the caveats in the documentation: https://pandas.pydata.org/pandas-docs/stable/user_guide/indexing.html#returning-a-view-versus-a-copy\n",
            "  dataPruebaX[col] = le.fit_transform(dataPruebaX[col])\n",
            "<ipython-input-214-80825e3f1107>:10: SettingWithCopyWarning: \n",
            "A value is trying to be set on a copy of a slice from a DataFrame.\n",
            "Try using .loc[row_indexer,col_indexer] = value instead\n",
            "\n",
            "See the caveats in the documentation: https://pandas.pydata.org/pandas-docs/stable/user_guide/indexing.html#returning-a-view-versus-a-copy\n",
            "  dataPruebaX[col] = le.fit_transform(dataPruebaX[col])\n",
            "<ipython-input-214-80825e3f1107>:10: SettingWithCopyWarning: \n",
            "A value is trying to be set on a copy of a slice from a DataFrame.\n",
            "Try using .loc[row_indexer,col_indexer] = value instead\n",
            "\n",
            "See the caveats in the documentation: https://pandas.pydata.org/pandas-docs/stable/user_guide/indexing.html#returning-a-view-versus-a-copy\n",
            "  dataPruebaX[col] = le.fit_transform(dataPruebaX[col])\n",
            "<ipython-input-214-80825e3f1107>:10: SettingWithCopyWarning: \n",
            "A value is trying to be set on a copy of a slice from a DataFrame.\n",
            "Try using .loc[row_indexer,col_indexer] = value instead\n",
            "\n",
            "See the caveats in the documentation: https://pandas.pydata.org/pandas-docs/stable/user_guide/indexing.html#returning-a-view-versus-a-copy\n",
            "  dataPruebaX[col] = le.fit_transform(dataPruebaX[col])\n",
            "<ipython-input-214-80825e3f1107>:10: SettingWithCopyWarning: \n",
            "A value is trying to be set on a copy of a slice from a DataFrame.\n",
            "Try using .loc[row_indexer,col_indexer] = value instead\n",
            "\n",
            "See the caveats in the documentation: https://pandas.pydata.org/pandas-docs/stable/user_guide/indexing.html#returning-a-view-versus-a-copy\n",
            "  dataPruebaX[col] = le.fit_transform(dataPruebaX[col])\n",
            "<ipython-input-214-80825e3f1107>:10: SettingWithCopyWarning: \n",
            "A value is trying to be set on a copy of a slice from a DataFrame.\n",
            "Try using .loc[row_indexer,col_indexer] = value instead\n",
            "\n",
            "See the caveats in the documentation: https://pandas.pydata.org/pandas-docs/stable/user_guide/indexing.html#returning-a-view-versus-a-copy\n",
            "  dataPruebaX[col] = le.fit_transform(dataPruebaX[col])\n",
            "<ipython-input-214-80825e3f1107>:14: SettingWithCopyWarning: \n",
            "A value is trying to be set on a copy of a slice from a DataFrame.\n",
            "Try using .loc[row_indexer,col_indexer] = value instead\n",
            "\n",
            "See the caveats in the documentation: https://pandas.pydata.org/pandas-docs/stable/user_guide/indexing.html#returning-a-view-versus-a-copy\n",
            "  dataPruebaY[col] = le.fit_transform(dataPruebaY[col])\n",
            "/usr/local/lib/python3.9/dist-packages/sklearn/neighbors/_classification.py:215: DataConversionWarning: A column-vector y was passed when a 1d array was expected. Please change the shape of y to (n_samples,), for example using ravel().\n",
            "  return self._fit(X, y)\n"
          ]
        },
        {
          "output_type": "display_data",
          "data": {
            "text/plain": [
              "<Figure size 640x480 with 1 Axes>"
            ],
            "image/png": "[encoded data removed]"
          },
          "metadata": {}
        }
      ]
    },
    {
      "cell_type": "markdown",
      "source": [
        "Evidentemente esto es inentendible, por ello reducimos la cantidad de datos tomando los 5000 individuos seleccionados anteriormente de manera aleatoria, y repetimos lo que se ha ejecutado anteriormente. "
      ],
      "metadata": {
        "id": "V9iwZoJTFiG_"
      },
      "id": "V9iwZoJTFiG_"
    },
    {
      "cell_type": "code",
      "source": [
        "dataPruebaX=df_5000[['Name', 'Sex', 'Age', 'Sport', 'Games', 'NOC', 'Event', 'Weight', 'Height']]\n",
        "dataPruebaY= df_5000[['Medal']]\n",
        "\n",
        "\n",
        "le = LabelEncoder()\n",
        "\n",
        "for col in dataPruebaX.columns:\n",
        "    if dataPruebaX[col].dtype == 'object':\n",
        "        dataPruebaX[col] = le.fit_transform(dataPruebaX[col])\n",
        "\n",
        "for col in dataPruebaY.columns:\n",
        "    if dataPruebaY[col].dtype == 'object':\n",
        "        dataPruebaY[col] = le.fit_transform(dataPruebaY[col])\n",
        "\n",
        "# Ejecutar PCA para reducir a tres dimensiones\n",
        "pca = PCA(n_components=3)\n",
        "X_pca = pca.fit_transform(dataPruebaX)\n",
        "\n",
        "\n",
        "# Graficar datos en 3D con colores según clase\n",
        "fig = plt.figure()\n",
        "ax = fig.add_subplot(111, projection='3d')\n",
        "ax.scatter(X_pca[:,0], X_pca[:,1], X_pca[:,2], c=dataPruebaY)\n",
        "plt.show()"
      ],
      "metadata": {
        "colab": {
          "base_uri": "https://localhost:8080/",
          "height": 1000
        },
        "id": "v2QzKJwUW7ch",
        "outputId": "f50513ca-ba47-45ee-be6a-a7364b8cef1b"
      },
      "id": "v2QzKJwUW7ch",
      "execution_count": null,
      "outputs": [
        {
          "output_type": "stream",
          "name": "stderr",
          "text": [
            "<ipython-input-215-4cfa4ee0d4dc>:9: SettingWithCopyWarning: \n",
            "A value is trying to be set on a copy of a slice from a DataFrame.\n",
            "Try using .loc[row_indexer,col_indexer] = value instead\n",
            "\n",
            "See the caveats in the documentation: https://pandas.pydata.org/pandas-docs/stable/user_guide/indexing.html#returning-a-view-versus-a-copy\n",
            "  dataPruebaX[col] = le.fit_transform(dataPruebaX[col])\n",
            "<ipython-input-215-4cfa4ee0d4dc>:9: SettingWithCopyWarning: \n",
            "A value is trying to be set on a copy of a slice from a DataFrame.\n",
            "Try using .loc[row_indexer,col_indexer] = value instead\n",
            "\n",
            "See the caveats in the documentation: https://pandas.pydata.org/pandas-docs/stable/user_guide/indexing.html#returning-a-view-versus-a-copy\n",
            "  dataPruebaX[col] = le.fit_transform(dataPruebaX[col])\n",
            "<ipython-input-215-4cfa4ee0d4dc>:9: SettingWithCopyWarning: \n",
            "A value is trying to be set on a copy of a slice from a DataFrame.\n",
            "Try using .loc[row_indexer,col_indexer] = value instead\n",
            "\n",
            "See the caveats in the documentation: https://pandas.pydata.org/pandas-docs/stable/user_guide/indexing.html#returning-a-view-versus-a-copy\n",
            "  dataPruebaX[col] = le.fit_transform(dataPruebaX[col])\n",
            "<ipython-input-215-4cfa4ee0d4dc>:9: SettingWithCopyWarning: \n",
            "A value is trying to be set on a copy of a slice from a DataFrame.\n",
            "Try using .loc[row_indexer,col_indexer] = value instead\n",
            "\n",
            "See the caveats in the documentation: https://pandas.pydata.org/pandas-docs/stable/user_guide/indexing.html#returning-a-view-versus-a-copy\n",
            "  dataPruebaX[col] = le.fit_transform(dataPruebaX[col])\n",
            "<ipython-input-215-4cfa4ee0d4dc>:9: SettingWithCopyWarning: \n",
            "A value is trying to be set on a copy of a slice from a DataFrame.\n",
            "Try using .loc[row_indexer,col_indexer] = value instead\n",
            "\n",
            "See the caveats in the documentation: https://pandas.pydata.org/pandas-docs/stable/user_guide/indexing.html#returning-a-view-versus-a-copy\n",
            "  dataPruebaX[col] = le.fit_transform(dataPruebaX[col])\n",
            "<ipython-input-215-4cfa4ee0d4dc>:9: SettingWithCopyWarning: \n",
            "A value is trying to be set on a copy of a slice from a DataFrame.\n",
            "Try using .loc[row_indexer,col_indexer] = value instead\n",
            "\n",
            "See the caveats in the documentation: https://pandas.pydata.org/pandas-docs/stable/user_guide/indexing.html#returning-a-view-versus-a-copy\n",
            "  dataPruebaX[col] = le.fit_transform(dataPruebaX[col])\n",
            "<ipython-input-215-4cfa4ee0d4dc>:13: SettingWithCopyWarning: \n",
            "A value is trying to be set on a copy of a slice from a DataFrame.\n",
            "Try using .loc[row_indexer,col_indexer] = value instead\n",
            "\n",
            "See the caveats in the documentation: https://pandas.pydata.org/pandas-docs/stable/user_guide/indexing.html#returning-a-view-versus-a-copy\n",
            "  dataPruebaY[col] = le.fit_transform(dataPruebaY[col])\n"
          ]
        },
        {
          "output_type": "display_data",
          "data": {
            "text/plain": [
              "<Figure size 640x480 with 1 Axes>"
            ],
            "image/png": "[encoded data removed]"
          },
          "metadata": {}
        }
      ]
    },
    {
      "cell_type": "markdown",
      "source": [
        "De esta manera obtenemos un gráfico en el que se observan las distancias entre individuos. Debido a la reducción de dimensionalidad, no se aprecia qué eje representa qué variable. \n",
        "\n",
        "Sería interesante ver cuál ha sido el criterio de agrupación. Para ello observemos los 3 componentes principales creados, y qué peso le da a cada variable. \n",
        "\n",
        "Así veremos cómo ha agrupado:"
      ],
      "metadata": {
        "id": "1h5LfO4Q8epX"
      },
      "id": "1h5LfO4Q8epX"
    },
    {
      "cell_type": "code",
      "source": [
        "# Obtener los coeficientes de carga de las variables en cada componente principal\n",
        "coeficientes_de_carga = pca.components_\n",
        "\n",
        "# Los coeficientes de carga se encuentran en la propiedad 'components_' del objeto PCA\n",
        "# Esto devuelve una matriz de forma (n_componentes, n_variables), donde n_componentes es el número de componentes principales\n",
        "# y n_variables es el número de variables originales en tus datos\n",
        "\n",
        "# Obtener los nombres de las variables originales\n",
        "nombres_variables_originales = dataPruebaX.columns\n",
        "\n",
        "# Puedes imprimir los coeficientes de carga y los nombres de las variables originales para cada componente principal\n",
        "for i, componente in enumerate(coeficientes_de_carga):\n",
        "    print(\"Componente Principal {}: \".format(i+1))\n",
        "    for j, carga in enumerate(componente):\n",
        "        print(\"Variable {}: {}\".format(nombres_variables_originales[j], carga))\n"
      ],
      "metadata": {
        "colab": {
          "base_uri": "https://localhost:8080/"
        },
        "id": "nCbgEoSF9ard",
        "outputId": "b4ec08e5-0cb5-4825-b27e-36248d72e807"
      },
      "id": "nCbgEoSF9ard",
      "execution_count": null,
      "outputs": [
        {
          "output_type": "stream",
          "name": "stdout",
          "text": [
            "Componente Principal 1: \n",
            "Variable Name: 0.9999954546830342\n",
            "Variable Sex: -2.413870967569922e-06\n",
            "Variable Age: -3.1470065059849505e-05\n",
            "Variable Sport: 0.00027279256004823804\n",
            "Variable Games: 0.0004654376603283185\n",
            "Variable NOC: 0.0006744621052497001\n",
            "Variable Event: 0.002888007238367033\n",
            "Variable Weight: 5.129184551910372e-05\n",
            "Variable Height: -2.129060490631321e-05\n",
            "Componente Principal 2: \n",
            "Variable Name: -0.0029019620976729003\n",
            "Variable Sex: -0.0001607841293287393\n",
            "Variable Age: -0.0037852666453397996\n",
            "Variable Sport: 0.11028573670903655\n",
            "Variable Games: 0.002004678101177715\n",
            "Variable NOC: 0.0004224250309039501\n",
            "Variable Event: 0.9938793289632977\n",
            "Variable Weight: 0.003731470891859134\n",
            "Variable Height: -0.00019800673887614487\n",
            "Componente Principal 3: \n",
            "Variable Name: -0.0006690512608045215\n",
            "Variable Sex: -7.58103243806707e-05\n",
            "Variable Age: 0.004376192823583782\n",
            "Variable Sport: -0.00045225850152283767\n",
            "Variable Games: -0.009155453693456418\n",
            "Variable NOC: 0.9999435203188372\n",
            "Variable Event: -0.00035291321529423714\n",
            "Variable Weight: 0.002966505000533815\n",
            "Variable Height: -0.0006325837548429327\n"
          ]
        }
      ]
    },
    {
      "cell_type": "markdown",
      "source": [
        "De estos datos podemos obtenemos por tanto que componente principal se representa y en qué medida por cada variable. \n",
        "\n",
        "\n",
        "\n"
      ],
      "metadata": {
        "id": "2WA1egPR-s4F"
      },
      "id": "2WA1egPR-s4F"
    },
    {
      "cell_type": "markdown",
      "source": [
        "### Ejercicio 4"
      ],
      "metadata": {
        "id": "yP8XPgm6mFGa"
      },
      "id": "yP8XPgm6mFGa"
    },
    {
      "cell_type": "markdown",
      "source": [
        "Utiliza el clasificador para saber que medalla es más probable que ganen Bruno Hortelano (Athletycs), Carolina Marín (Badminton) o la selección femenina de baloncesto (Basketball)."
      ],
      "metadata": {
        "id": "79ZT9HPy1aup"
      },
      "id": "79ZT9HPy1aup"
    },
    {
      "cell_type": "markdown",
      "source": [
        "Comencemos por Bruno Hortelano. Para cada uno se creará un modelo mediante el método de codificación de etiquetas, es decir, reutilizamos los modelos anteriores ya que observábamos que no tenian especialmente mala precisión. \n",
        "\n",
        "Pero encontramos un problema en esta codificación, y es que si queremos añadir al atleta Bruno Hortelano, no sabemos qué número entero ha asignado al deporte de atletismo, o al 'NOC', evento... \n",
        "\n",
        "Es por eso que el atleta debe ser añadido a la base de datos antes de realizar ninguna codificación, para que se le asigne un entero como al resto. Eso sí, se debe tener cuidado de que en la creación del modelo, en el entrenamiento, no contamine la muestra, antes de proceder, se debe separar. \n",
        "\n",
        "Es más tarde donde se predecirá la medalla que ha obtenido. "
      ],
      "metadata": {
        "id": "vBPIiZjRBjvb"
      },
      "id": "vBPIiZjRBjvb"
    },
    {
      "cell_type": "code",
      "source": [
        "dataPruebaX=df[['Name', 'Sex', 'Age', 'Sport', 'Games', 'NOC', 'Event', 'Weight', 'Height']]\n",
        "dataPruebaY= df[['Medal']]\n",
        "\n",
        "#Bruno Hortelano\n",
        "new_row_X = {'Sex':\"M\", 'Age': 31.0, 'Sport': \"Athletycs\",'Games':\"2016 summer\", 'NOC': \"ESP\", 'Event': \"Athletics Men's 200 metres\", 'Weight': 72.000000, 'Height': 181.00000}\n",
        "dataPruebaX = dataPruebaX.append(new_row_X, ignore_index=True)\n",
        "\n",
        "le = LabelEncoder()\n",
        "\n",
        "for col in dataPruebaX.columns:\n",
        "    if dataPruebaX[col].dtype == 'object':\n",
        "        dataPruebaX[col] = le.fit_transform(dataPruebaX[col])\n",
        "\n",
        "for col in dataPruebaY.columns:\n",
        "    if dataPruebaY[col].dtype == 'object':\n",
        "        dataPruebaY[col] = le.fit_transform(dataPruebaY[col])\n",
        "\n",
        "\n",
        "#ultima filaX=dataPruebaX[ultima fila]\n",
        "dataPruebaX_except_last = dataPruebaX.iloc[:-1]\n",
        "\n",
        "\n",
        "\n",
        "ultima_fila = dataPruebaX.tail(1)\n",
        "\n",
        "\n",
        "X_train, X_test, y_train, y_test = train_test_split(dataPruebaX_except_last, dataPruebaY, test_size=0.3, random_state=42)\n",
        "\n",
        "model = KNeighborsClassifier(n_neighbors=7, metric=\"manhattan\")\n",
        "model.fit(dataPruebaX_except_last, dataPruebaY)\n",
        "\n",
        "y_pred = model.predict(ultima_fila)\n",
        "print(y_pred)"
      ],
      "metadata": {
        "id": "s7U6mi1zmCUa",
        "outputId": "6af68272-386c-46f1-bab3-b96d8ddd5725",
        "colab": {
          "base_uri": "https://localhost:8080/"
        }
      },
      "id": "s7U6mi1zmCUa",
      "execution_count": 42,
      "outputs": [
        {
          "output_type": "stream",
          "name": "stderr",
          "text": [
            "<ipython-input-42-0155e414d535>:6: FutureWarning: The frame.append method is deprecated and will be removed from pandas in a future version. Use pandas.concat instead.\n",
            "  dataPruebaX = dataPruebaX.append(new_row_X, ignore_index=True)\n",
            "<ipython-input-42-0155e414d535>:16: SettingWithCopyWarning: \n",
            "A value is trying to be set on a copy of a slice from a DataFrame.\n",
            "Try using .loc[row_indexer,col_indexer] = value instead\n",
            "\n",
            "See the caveats in the documentation: https://pandas.pydata.org/pandas-docs/stable/user_guide/indexing.html#returning-a-view-versus-a-copy\n",
            "  dataPruebaY[col] = le.fit_transform(dataPruebaY[col])\n",
            "/usr/local/lib/python3.9/dist-packages/sklearn/neighbors/_classification.py:215: DataConversionWarning: A column-vector y was passed when a 1d array was expected. Please change the shape of y to (n_samples,), for example using ravel().\n",
            "  return self._fit(X, y)\n"
          ]
        },
        {
          "output_type": "stream",
          "name": "stdout",
          "text": [
            "[2]\n"
          ]
        }
      ]
    },
    {
      "cell_type": "code",
      "source": [
        "# Buscar el valor 3 en el vector \"dataPruebaY\"\n",
        "index = np.where(dataPruebaY == y_pred)[0][0]  # Obtenemos el primer índice donde se encuentra el valor 3\n",
        "\n",
        "# Acceder a la fila 62 en el DataFrame\n",
        "fila_62 = df.iloc[62]\n",
        "\n",
        "# Mostrar la fila 62\n",
        "print(fila_62)"
      ],
      "metadata": {
        "id": "YVM18jKcTiZ-",
        "outputId": "543f66f2-6fed-464c-dbc9-661370634f8f",
        "colab": {
          "base_uri": "https://localhost:8080/"
        }
      },
      "id": "YVM18jKcTiZ-",
      "execution_count": 44,
      "outputs": [
        {
          "output_type": "stream",
          "name": "stdout",
          "text": [
            "Name                  Kjetil Andr Aamodt\n",
            "Sex                                    M\n",
            "Age                                 20.0\n",
            "Height                             176.0\n",
            "Sport                      Alpine Skiing\n",
            "Weight                              85.0\n",
            "Games                        1992 Winter\n",
            "NOC                                  NOR\n",
            "Event         Alpine Skiing Men's Slalom\n",
            "Medal                            NpMedal\n",
            "Age_cat                            Media\n",
            "Height_cat                         Medio\n",
            "Weight_cat                       EnForma\n",
            "Name: 62, dtype: object\n"
          ]
        }
      ]
    },
    {
      "cell_type": "markdown",
      "source": [
        "Ahora se procederá a hacer exactamente lo mismo, pero con Carolina Marín"
      ],
      "metadata": {
        "id": "LoNRs1XZChxR"
      },
      "id": "LoNRs1XZChxR"
    },
    {
      "cell_type": "code",
      "source": [
        "dataPruebaX=df[['Name', 'Sex', 'Age', 'Sport',  'NOC', 'Games', 'Event', 'Weight', 'Height']]\n",
        "dataPruebaY= df[['Medal']]\n",
        "\n",
        "\n",
        "#Carolina Marín\n",
        "new_row_X = {'Name':\"Carolina Marín\" ,'Sex':\"F\", 'Age': 29.0, 'Sport': \"Badminton\", 'NOC': \"ESP\",'Games':\"2016 summer\", 'Event': \"Badminton Women's Singles\", 'Weight': 65.000000, 'Height': 172.00000}\n",
        "dataPruebaX = dataPruebaX.append(new_row_X, ignore_index=True)\n",
        "\n",
        "\n",
        "le = LabelEncoder()\n",
        "\n",
        "for col in dataPruebaX.columns:\n",
        "    if dataPruebaX[col].dtype == 'object':\n",
        "        dataPruebaX[col] = le.fit_transform(dataPruebaX[col])\n",
        "\n",
        "for col in dataPruebaY.columns:\n",
        "    if dataPruebaY[col].dtype == 'object':\n",
        "        dataPruebaY[col] = le.fit_transform(dataPruebaY[col])\n",
        "\n",
        "dataPruebaX_except_last = dataPruebaX.iloc[:-1]\n",
        "\n",
        "\n",
        "\n",
        "ultima_fila = dataPruebaX.tail(1)\n",
        "\n",
        "\n",
        "X_train, X_test, y_train, y_test = train_test_split(dataPruebaX_except_last, dataPruebaY, test_size=0.3, random_state=42)\n",
        "\n",
        "model = KNeighborsClassifier(n_neighbors=7, metric=\"manhattan\")\n",
        "model.fit(dataPruebaX_except_last, dataPruebaY)\n",
        "\n",
        "\n",
        "y_pred = model.predict(ultima_fila)\n",
        "print(y_pred)"
      ],
      "metadata": {
        "colab": {
          "base_uri": "https://localhost:8080/"
        },
        "id": "sHBeeSAZCrnT",
        "outputId": "ed623bba-92fa-4f8a-884b-fa7106300220"
      },
      "id": "sHBeeSAZCrnT",
      "execution_count": 45,
      "outputs": [
        {
          "output_type": "stream",
          "name": "stderr",
          "text": [
            "<ipython-input-45-1826e630b5f1>:7: FutureWarning: The frame.append method is deprecated and will be removed from pandas in a future version. Use pandas.concat instead.\n",
            "  dataPruebaX = dataPruebaX.append(new_row_X, ignore_index=True)\n",
            "<ipython-input-45-1826e630b5f1>:18: SettingWithCopyWarning: \n",
            "A value is trying to be set on a copy of a slice from a DataFrame.\n",
            "Try using .loc[row_indexer,col_indexer] = value instead\n",
            "\n",
            "See the caveats in the documentation: https://pandas.pydata.org/pandas-docs/stable/user_guide/indexing.html#returning-a-view-versus-a-copy\n",
            "  dataPruebaY[col] = le.fit_transform(dataPruebaY[col])\n",
            "/usr/local/lib/python3.9/dist-packages/sklearn/neighbors/_classification.py:215: DataConversionWarning: A column-vector y was passed when a 1d array was expected. Please change the shape of y to (n_samples,), for example using ravel().\n",
            "  return self._fit(X, y)\n"
          ]
        },
        {
          "output_type": "stream",
          "name": "stdout",
          "text": [
            "[2]\n"
          ]
        }
      ]
    },
    {
      "cell_type": "code",
      "source": [
        "# Buscar el valor 3 en el vector \"dataPruebaY\"\n",
        "index = np.where(dataPruebaY == y_pred)[0][0]  # Obtenemos el primer índice donde se encuentra el valor 3\n",
        "\n",
        "# Acceder a la fila 62 en el DataFrame\n",
        "fila_62 = df.iloc[62]\n",
        "\n",
        "# Mostrar la fila 62\n",
        "print(fila_62)"
      ],
      "metadata": {
        "id": "YrxRWDICThR6",
        "outputId": "fc084e91-5cae-41c6-e944-303ff5928874",
        "colab": {
          "base_uri": "https://localhost:8080/"
        }
      },
      "id": "YrxRWDICThR6",
      "execution_count": 46,
      "outputs": [
        {
          "output_type": "stream",
          "name": "stdout",
          "text": [
            "Name                  Kjetil Andr Aamodt\n",
            "Sex                                    M\n",
            "Age                                 20.0\n",
            "Height                             176.0\n",
            "Sport                      Alpine Skiing\n",
            "Weight                              85.0\n",
            "Games                        1992 Winter\n",
            "NOC                                  NOR\n",
            "Event         Alpine Skiing Men's Slalom\n",
            "Medal                            NpMedal\n",
            "Age_cat                            Media\n",
            "Height_cat                         Medio\n",
            "Weight_cat                       EnForma\n",
            "Name: 62, dtype: object\n"
          ]
        }
      ]
    },
    {
      "cell_type": "markdown",
      "source": [
        "Sin embargo, si queremos predecir la medalla que obtendrá la selección femenina de baloncesto, se deberá realizar de manera distinta, ya que crearemos una nueva base de datos, en la que únicamente guarde el evento y NOC, supondremos que el equipo juega para España. \n",
        "\n",
        "Pero en esta nueva base de datos, tendremos que eliminar todas aquellos individuos cuyo evento sea Basketball Women's Basketball, ya que si no, contaminará la muestra. "
      ],
      "metadata": {
        "id": "wjOLvRzlCyO2"
      },
      "id": "wjOLvRzlCyO2"
    },
    {
      "cell_type": "code",
      "source": [
        "\n",
        "df_Women =  df[(df['Event'] != \"Basketball Men's Basketball\") | (df['NOC'] != 'CHN')]\n",
        "\n",
        "#Seleccionamos las variables de entrenamiento\n",
        "dataPruebaX=df_Women[['Games','NOC', 'Event']]\n",
        "dataPruebaY= df_Women[['Medal']]\n",
        "\n",
        "\n",
        "#Equipo femenino de baloncesto de España en las olimpiadas de 2016 verano \n",
        "new_row_X = {'Games': \"2016 summer\", 'NOC': \"ESP\", 'Event': \"Basketball Women's Basketball\"}\n",
        "dataPruebaX = dataPruebaX.append(new_row_X, ignore_index=True)\n",
        "\n",
        "le = LabelEncoder()\n",
        "\n",
        "for col in dataPruebaX.columns:\n",
        "    if dataPruebaX[col].dtype == 'object':\n",
        "        dataPruebaX[col] = le.fit_transform(dataPruebaX[col])\n",
        "\n",
        "for col in dataPruebaY.columns:\n",
        "    if dataPruebaY[col].dtype == 'object':\n",
        "        dataPruebaY[col] = le.fit_transform(dataPruebaY[col])\n",
        "\n",
        "\n",
        "#ultima filaX=dataPruebaX[ultima fila]\n",
        "dataPruebaX_except_last = dataPruebaX.iloc[:-1]\n",
        "\n",
        "\n",
        "\n",
        "ultima_fila = dataPruebaX.tail(1)\n",
        "\n",
        "\n",
        "X_train, X_test, y_train, y_test = train_test_split(dataPruebaX_except_last, dataPruebaY, test_size=0.3, random_state=42)\n",
        "\n",
        "model = KNeighborsClassifier(n_neighbors=7, metric=\"manhattan\")\n",
        "model.fit(dataPruebaX_except_last, dataPruebaY)\n",
        "\n",
        "y_pred = model.predict(ultima_fila)\n",
        "print(y_pred)"
      ],
      "metadata": {
        "colab": {
          "base_uri": "https://localhost:8080/"
        },
        "id": "3EsMi1iPEP4o",
        "outputId": "c3523e64-4981-486d-d226-12f20d22ca89"
      },
      "id": "3EsMi1iPEP4o",
      "execution_count": 47,
      "outputs": [
        {
          "output_type": "stream",
          "name": "stderr",
          "text": [
            "<ipython-input-47-0399f7678b48>:10: FutureWarning: The frame.append method is deprecated and will be removed from pandas in a future version. Use pandas.concat instead.\n",
            "  dataPruebaX = dataPruebaX.append(new_row_X, ignore_index=True)\n",
            "<ipython-input-47-0399f7678b48>:20: SettingWithCopyWarning: \n",
            "A value is trying to be set on a copy of a slice from a DataFrame.\n",
            "Try using .loc[row_indexer,col_indexer] = value instead\n",
            "\n",
            "See the caveats in the documentation: https://pandas.pydata.org/pandas-docs/stable/user_guide/indexing.html#returning-a-view-versus-a-copy\n",
            "  dataPruebaY[col] = le.fit_transform(dataPruebaY[col])\n",
            "/usr/local/lib/python3.9/dist-packages/sklearn/neighbors/_classification.py:215: DataConversionWarning: A column-vector y was passed when a 1d array was expected. Please change the shape of y to (n_samples,), for example using ravel().\n",
            "  return self._fit(X, y)\n"
          ]
        },
        {
          "output_type": "stream",
          "name": "stdout",
          "text": [
            "[3]\n"
          ]
        }
      ]
    },
    {
      "cell_type": "markdown",
      "source": [
        "Vemos que ha predicho medalla [3], pero claro, al codificar, hemos perdido la pista de a qué corresponde. \n",
        "\n",
        "Por ello busquemos en el vector de las medallas el valor 3, guardemos la fila, y se busca ya simplemente en la base de datos sin codificar. "
      ],
      "metadata": {
        "id": "T7URip5tQ4q6"
      },
      "id": "T7URip5tQ4q6"
    },
    {
      "cell_type": "code",
      "source": [
        "# Buscar el valor 3 en el vector \"dataPruebaY\"\n",
        "index = np.where(dataPruebaY == y_pred)[0][0]  # Obtenemos el primer índice donde se encuentra el valor 3\n",
        "\n",
        "# Acceder a la fila 62 en el DataFrame\n",
        "fila_62 = df_Women.iloc[62]\n",
        "\n",
        "# Mostrar la fila 62\n",
        "print(fila_62)"
      ],
      "metadata": {
        "id": "DCtsaOBKQ4Kb",
        "outputId": "bb836321-64a2-4d1a-a4ca-b145d91a17a7",
        "colab": {
          "base_uri": "https://localhost:8080/"
        }
      },
      "id": "DCtsaOBKQ4Kb",
      "execution_count": 48,
      "outputs": [
        {
          "output_type": "stream",
          "name": "stdout",
          "text": [
            "Name                    Kjetil Andr Aamodt\n",
            "Sex                                      M\n",
            "Age                                   22.0\n",
            "Height                               176.0\n",
            "Sport                        Alpine Skiing\n",
            "Weight                                85.0\n",
            "Games                          1994 Winter\n",
            "NOC                                    NOR\n",
            "Event         Alpine Skiing Men's Downhill\n",
            "Medal                               Silver\n",
            "Age_cat                              Media\n",
            "Height_cat                           Medio\n",
            "Weight_cat                         EnForma\n",
            "Name: 63, dtype: object\n"
          ]
        }
      ]
    },
    {
      "cell_type": "markdown",
      "source": [
        "Simplemente debemos por tanto fijarnos en el valor de 'Medal', y vemos que el equipo de baloncesto femenino español, en las olimpiadas de verano de 2016, habrían ganado medalla de plata. "
      ],
      "metadata": {
        "id": "slKgAyu7RS9x"
      },
      "id": "slKgAyu7RS9x"
    },
    {
      "cell_type": "markdown",
      "source": [
        "## Evaluación "
      ],
      "metadata": {
        "id": "NUqdWC2GR7So"
      },
      "id": "NUqdWC2GR7So"
    },
    {
      "cell_type": "markdown",
      "source": [
        "La evaluación se ha ido realizando después de cada resultado obtenido."
      ],
      "metadata": {
        "id": "ax9h9IqXSVTy"
      },
      "id": "ax9h9IqXSVTy"
    },
    {
      "cell_type": "markdown",
      "source": [
        "## Despliegue"
      ],
      "metadata": {
        "id": "WDX09jpySS1h"
      },
      "id": "WDX09jpySS1h"
    }
  ],
  "metadata": {
    "kernelspec": {
      "display_name": "Python 3 (ipykernel)",
      "language": "python",
      "name": "python3"
    },
    "language_info": {
      "codemirror_mode": {
        "name": "ipython",
        "version": 3
      },
      "file_extension": ".py",
      "mimetype": "text/x-python",
      "name": "python",
      "nbconvert_exporter": "python",
      "pygments_lexer": "ipython3",
      "version": "3.8.8"
    },
    "colab": {
      "provenance": []
    }
  },
  "nbformat": 4,
  "nbformat_minor": 5
}